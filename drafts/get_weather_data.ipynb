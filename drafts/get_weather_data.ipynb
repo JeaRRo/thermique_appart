{
 "cells": [
  {
   "cell_type": "code",
   "execution_count": 132,
   "metadata": {
    "collapsed": true
   },
   "outputs": [],
   "source": [
    "import numpy as np\n",
    "import matplotlib.pyplot as plt\n",
    "%matplotlib inline"
   ]
  },
  {
   "cell_type": "markdown",
   "metadata": {},
   "source": [
    "# Get weather data \n",
    "\n",
    "\n",
    "## Darksky data\n",
    "\n",
    "https://darksky.net/\n",
    "\n",
    "https://github.com/lukaskubis/darkskylib\n",
    "\n",
    "    pip install darkskylib\n"
   ]
  },
  {
   "cell_type": "code",
   "execution_count": 133,
   "metadata": {
    "collapsed": true
   },
   "outputs": [],
   "source": [
    "# Load the API key for darksky\n",
    "with open('darksky_key.txt') as f:\n",
    "    key = f.read()"
   ]
  },
  {
   "cell_type": "code",
   "execution_count": 134,
   "metadata": {
    "collapsed": true
   },
   "outputs": [],
   "source": [
    "from darksky import forecast"
   ]
  },
  {
   "cell_type": "code",
   "execution_count": 135,
   "metadata": {
    "collapsed": true
   },
   "outputs": [],
   "source": [
    "coords_grenoble = ( 45.166672, 5.71667 ) \n",
    "\n",
    "data = forecast(key, *coords_grenoble, units='si', lang='fr' )"
   ]
  },
  {
   "cell_type": "code",
   "execution_count": 136,
   "metadata": {},
   "outputs": [
    {
     "data": {
      "text/plain": [
       "darksky.forecast.Forecast"
      ]
     },
     "execution_count": 136,
     "metadata": {},
     "output_type": "execute_result"
    }
   ],
   "source": [
    "type( data )"
   ]
  },
  {
   "cell_type": "code",
   "execution_count": 137,
   "metadata": {},
   "outputs": [
    {
     "data": {
      "text/plain": [
       "15.39"
      ]
     },
     "execution_count": 137,
     "metadata": {},
     "output_type": "execute_result"
    }
   ],
   "source": [
    "data['currently']['temperature']"
   ]
  },
  {
   "cell_type": "code",
   "execution_count": 138,
   "metadata": {},
   "outputs": [
    {
     "data": {
      "text/plain": [
       "8"
      ]
     },
     "execution_count": 138,
     "metadata": {},
     "output_type": "execute_result"
    }
   ],
   "source": [
    "len( data['daily']['data'] )"
   ]
  },
  {
   "cell_type": "code",
   "execution_count": 139,
   "metadata": {},
   "outputs": [
    {
     "name": "stdout",
     "output_type": "stream",
     "text": [
      "49\n"
     ]
    }
   ],
   "source": [
    "T = [ hour.temperature for hour in data.hourly ]\n",
    "\n",
    "print( len(T) )"
   ]
  },
  {
   "cell_type": "code",
   "execution_count": 140,
   "metadata": {},
   "outputs": [
    {
     "data": {
      "text/plain": [
       "[<matplotlib.lines.Line2D at 0x7fbbe7a7e470>]"
      ]
     },
     "execution_count": 140,
     "metadata": {},
     "output_type": "execute_result"
    },
    {
     "data": {
      "image/png": "[encoded data removed]",
      "text/plain": [
       "<matplotlib.figure.Figure at 0x7fbbe7a9c358>"
      ]
     },
     "metadata": {},
     "output_type": "display_data"
    }
   ],
   "source": [
    "plt.plot( T )"
   ]
  },
  {
   "cell_type": "code",
   "execution_count": 141,
   "metadata": {
    "collapsed": true
   },
   "outputs": [],
   "source": [
    "from datetime import datetime as dt"
   ]
  },
  {
   "cell_type": "code",
   "execution_count": 150,
   "metadata": {
    "collapsed": true
   },
   "outputs": [],
   "source": [
    "t = dt(2017, 6, 10).isoformat()  # year month day hour ..."
   ]
  },
  {
   "cell_type": "code",
   "execution_count": 151,
   "metadata": {},
   "outputs": [],
   "source": [
    "exclude = ['currently', 'minutely', 'daily', 'flags']\n",
    "data = forecast(key, *coords_grenoble, units='si', lang='fr', time=t, exclude=exclude)"
   ]
  },
  {
   "cell_type": "code",
   "execution_count": 152,
   "metadata": {},
   "outputs": [],
   "source": [
    "records = data['hourly']['data']"
   ]
  },
  {
   "cell_type": "code",
   "execution_count": 153,
   "metadata": {},
   "outputs": [
    {
     "data": {
      "text/plain": [
       "[{'apparentTemperature': 16.69,\n",
       "  'cloudCover': 0.91,\n",
       "  'dewPoint': 12.41,\n",
       "  'humidity': 0.76,\n",
       "  'icon': 'partly-cloudy-night',\n",
       "  'precipIntensity': 0,\n",
       "  'precipProbability': 0,\n",
       "  'pressure': 1018.14,\n",
       "  'summary': 'Nuageux',\n",
       "  'temperature': 16.69,\n",
       "  'time': 1497045600,\n",
       "  'uvIndex': 0,\n",
       "  'visibility': 14.47,\n",
       "  'windBearing': 34,\n",
       "  'windSpeed': 0.32},\n",
       " {'apparentTemperature': 16.06,\n",
       "  'cloudCover': 0.75,\n",
       "  'dewPoint': 12.58,\n",
       "  'humidity': 0.8,\n",
       "  'icon': 'partly-cloudy-night',\n",
       "  'precipIntensity': 0,\n",
       "  'precipProbability': 0,\n",
       "  'pressure': 1018.26,\n",
       "  'summary': 'Nuageux',\n",
       "  'temperature': 16.06,\n",
       "  'time': 1497049200,\n",
       "  'uvIndex': 0,\n",
       "  'visibility': 14.47,\n",
       "  'windBearing': 38,\n",
       "  'windSpeed': 0.57},\n",
       " {'apparentTemperature': 15.13,\n",
       "  'cloudCover': 0.52,\n",
       "  'dewPoint': 12.13,\n",
       "  'humidity': 0.82,\n",
       "  'icon': 'partly-cloudy-night',\n",
       "  'precipIntensity': 0,\n",
       "  'precipProbability': 0,\n",
       "  'pressure': 1018.38,\n",
       "  'summary': 'Nuages Épars',\n",
       "  'temperature': 15.13,\n",
       "  'time': 1497052800,\n",
       "  'uvIndex': 0,\n",
       "  'visibility': 13,\n",
       "  'windBearing': 8,\n",
       "  'windSpeed': 0.8},\n",
       " {'apparentTemperature': 15.24,\n",
       "  'cloudCover': 0.64,\n",
       "  'dewPoint': 12.49,\n",
       "  'humidity': 0.84,\n",
       "  'icon': 'partly-cloudy-night',\n",
       "  'precipIntensity': 0,\n",
       "  'precipProbability': 0,\n",
       "  'pressure': 1018.49,\n",
       "  'summary': 'Nuageux',\n",
       "  'temperature': 15.24,\n",
       "  'time': 1497056400,\n",
       "  'uvIndex': 0,\n",
       "  'visibility': 12.38,\n",
       "  'windBearing': 11,\n",
       "  'windSpeed': 0.72},\n",
       " {'apparentTemperature': 14.49,\n",
       "  'cloudCover': 0.7,\n",
       "  'dewPoint': 11.93,\n",
       "  'humidity': 0.85,\n",
       "  'icon': 'partly-cloudy-night',\n",
       "  'precipIntensity': 0,\n",
       "  'precipProbability': 0,\n",
       "  'pressure': 1018.6,\n",
       "  'summary': 'Nuageux',\n",
       "  'temperature': 14.49,\n",
       "  'time': 1497060000,\n",
       "  'uvIndex': 0,\n",
       "  'visibility': 11.68,\n",
       "  'windBearing': 14,\n",
       "  'windSpeed': 0.65},\n",
       " {'apparentTemperature': 13.91,\n",
       "  'cloudCover': 0.8,\n",
       "  'dewPoint': 11.73,\n",
       "  'humidity': 0.87,\n",
       "  'icon': 'partly-cloudy-night',\n",
       "  'precipIntensity': 0,\n",
       "  'precipProbability': 0,\n",
       "  'pressure': 1018.71,\n",
       "  'summary': 'Nuageux',\n",
       "  'temperature': 13.91,\n",
       "  'time': 1497063600,\n",
       "  'uvIndex': 0,\n",
       "  'visibility': 14.65,\n",
       "  'windBearing': 13,\n",
       "  'windSpeed': 0.55},\n",
       " {'apparentTemperature': 13.8,\n",
       "  'cloudCover': 0.31,\n",
       "  'dewPoint': 11.82,\n",
       "  'humidity': 0.88,\n",
       "  'icon': 'partly-cloudy-day',\n",
       "  'precipIntensity': 0,\n",
       "  'precipProbability': 0,\n",
       "  'pressure': 1019,\n",
       "  'summary': 'Nuages Épars',\n",
       "  'temperature': 13.8,\n",
       "  'time': 1497067200,\n",
       "  'uvIndex': 0,\n",
       "  'visibility': 14.13,\n",
       "  'windBearing': 8,\n",
       "  'windSpeed': 0.42},\n",
       " {'apparentTemperature': 14.94,\n",
       "  'cloudCover': 0.52,\n",
       "  'dewPoint': 12.58,\n",
       "  'humidity': 0.86,\n",
       "  'icon': 'partly-cloudy-day',\n",
       "  'precipIntensity': 0.1041,\n",
       "  'precipProbability': 0.17,\n",
       "  'precipType': 'rain',\n",
       "  'pressure': 1019.43,\n",
       "  'summary': 'Nuages Épars',\n",
       "  'temperature': 14.94,\n",
       "  'time': 1497070800,\n",
       "  'uvIndex': 0,\n",
       "  'visibility': 11.68,\n",
       "  'windBearing': 9,\n",
       "  'windSpeed': 1.36},\n",
       " {'apparentTemperature': 17.92,\n",
       "  'cloudCover': 0.52,\n",
       "  'dewPoint': 13.21,\n",
       "  'humidity': 0.74,\n",
       "  'icon': 'partly-cloudy-day',\n",
       "  'precipIntensity': 0,\n",
       "  'precipProbability': 0,\n",
       "  'pressure': 1019.79,\n",
       "  'summary': 'Nuages Épars',\n",
       "  'temperature': 17.92,\n",
       "  'time': 1497074400,\n",
       "  'uvIndex': 1,\n",
       "  'visibility': 12.33,\n",
       "  'windBearing': 0,\n",
       "  'windSpeed': 1.76},\n",
       " {'apparentTemperature': 20.42,\n",
       "  'cloudCover': 0.31,\n",
       "  'dewPoint': 13.43,\n",
       "  'humidity': 0.64,\n",
       "  'icon': 'partly-cloudy-day',\n",
       "  'precipIntensity': 0,\n",
       "  'precipProbability': 0,\n",
       "  'pressure': 1019.67,\n",
       "  'summary': 'Nuages Épars',\n",
       "  'temperature': 20.42,\n",
       "  'time': 1497078000,\n",
       "  'uvIndex': 1,\n",
       "  'visibility': 13.95,\n",
       "  'windBearing': 8,\n",
       "  'windSpeed': 1.18},\n",
       " {'apparentTemperature': 21.19,\n",
       "  'cloudCover': 0.31,\n",
       "  'dewPoint': 12.45,\n",
       "  'humidity': 0.57,\n",
       "  'icon': 'partly-cloudy-day',\n",
       "  'precipIntensity': 0,\n",
       "  'precipProbability': 0,\n",
       "  'pressure': 1019.46,\n",
       "  'summary': 'Nuages Épars',\n",
       "  'temperature': 21.19,\n",
       "  'time': 1497081600,\n",
       "  'uvIndex': 3,\n",
       "  'visibility': 16.09,\n",
       "  'windBearing': 358,\n",
       "  'windSpeed': 1.18},\n",
       " {'apparentTemperature': 23.46,\n",
       "  'cloudCover': 0.31,\n",
       "  'dewPoint': 12.94,\n",
       "  'humidity': 0.52,\n",
       "  'icon': 'partly-cloudy-day',\n",
       "  'precipIntensity': 0,\n",
       "  'precipProbability': 0,\n",
       "  'pressure': 1019.09,\n",
       "  'summary': 'Nuages Épars',\n",
       "  'temperature': 23.46,\n",
       "  'time': 1497085200,\n",
       "  'uvIndex': 4,\n",
       "  'visibility': 12.92,\n",
       "  'windBearing': 347,\n",
       "  'windSpeed': 2.06},\n",
       " {'apparentTemperature': 24.66,\n",
       "  'cloudCover': 0.31,\n",
       "  'dewPoint': 13.71,\n",
       "  'humidity': 0.51,\n",
       "  'icon': 'partly-cloudy-day',\n",
       "  'precipIntensity': 0,\n",
       "  'precipProbability': 0,\n",
       "  'pressure': 1018.67,\n",
       "  'summary': 'Nuages Épars',\n",
       "  'temperature': 24.66,\n",
       "  'time': 1497088800,\n",
       "  'uvIndex': 6,\n",
       "  'visibility': 12.01,\n",
       "  'windBearing': 345,\n",
       "  'windSpeed': 2.41},\n",
       " {'apparentTemperature': 26.01,\n",
       "  'cloudCover': 0.31,\n",
       "  'dewPoint': 14.02,\n",
       "  'humidity': 0.48,\n",
       "  'icon': 'partly-cloudy-day',\n",
       "  'precipIntensity': 0,\n",
       "  'precipProbability': 0,\n",
       "  'pressure': 1018.05,\n",
       "  'summary': 'Nuages Épars',\n",
       "  'temperature': 26.01,\n",
       "  'time': 1497092400,\n",
       "  'uvIndex': 8,\n",
       "  'visibility': 12.94,\n",
       "  'windBearing': 341,\n",
       "  'windSpeed': 2.12},\n",
       " {'apparentTemperature': 27.07,\n",
       "  'cloudCover': 0.31,\n",
       "  'dewPoint': 13.86,\n",
       "  'humidity': 0.45,\n",
       "  'icon': 'partly-cloudy-day',\n",
       "  'precipIntensity': 0,\n",
       "  'precipProbability': 0,\n",
       "  'pressure': 1017.64,\n",
       "  'summary': 'Nuages Épars',\n",
       "  'temperature': 26.96,\n",
       "  'time': 1497096000,\n",
       "  'uvIndex': 8,\n",
       "  'visibility': 14,\n",
       "  'windBearing': 346,\n",
       "  'windSpeed': 1.79},\n",
       " {'apparentTemperature': 27.41,\n",
       "  'cloudCover': 0.31,\n",
       "  'dewPoint': 12.97,\n",
       "  'humidity': 0.41,\n",
       "  'icon': 'partly-cloudy-day',\n",
       "  'precipIntensity': 0,\n",
       "  'precipProbability': 0,\n",
       "  'pressure': 1016.99,\n",
       "  'summary': 'Nuages Épars',\n",
       "  'temperature': 27.41,\n",
       "  'time': 1497099600,\n",
       "  'uvIndex': 7,\n",
       "  'visibility': 14.63,\n",
       "  'windBearing': 339,\n",
       "  'windSpeed': 1.94},\n",
       " {'apparentTemperature': 28.22,\n",
       "  'dewPoint': 13.49,\n",
       "  'humidity': 0.4,\n",
       "  'icon': 'clear-day',\n",
       "  'precipIntensity': 0,\n",
       "  'precipProbability': 0,\n",
       "  'pressure': 1016.66,\n",
       "  'summary': 'Dégagé',\n",
       "  'temperature': 28.22,\n",
       "  'time': 1497103200,\n",
       "  'visibility': 14.63,\n",
       "  'windBearing': 328,\n",
       "  'windSpeed': 1.96},\n",
       " {'apparentTemperature': 28.22,\n",
       "  'dewPoint': 13.38,\n",
       "  'humidity': 0.4,\n",
       "  'icon': 'clear-day',\n",
       "  'precipIntensity': 0,\n",
       "  'precipProbability': 0,\n",
       "  'pressure': 1016.41,\n",
       "  'summary': 'Dégagé',\n",
       "  'temperature': 28.22,\n",
       "  'time': 1497106800,\n",
       "  'visibility': 16.09,\n",
       "  'windBearing': 350,\n",
       "  'windSpeed': 2.2},\n",
       " {'apparentTemperature': 28.16,\n",
       "  'dewPoint': 13.6,\n",
       "  'humidity': 0.41,\n",
       "  'icon': 'clear-day',\n",
       "  'precipIntensity': 0,\n",
       "  'precipProbability': 0,\n",
       "  'pressure': 1016.21,\n",
       "  'summary': 'Dégagé',\n",
       "  'temperature': 28.16,\n",
       "  'time': 1497110400,\n",
       "  'visibility': 16.09,\n",
       "  'windBearing': 351,\n",
       "  'windSpeed': 2.87},\n",
       " {'apparentTemperature': 27.73,\n",
       "  'dewPoint': 13.93,\n",
       "  'humidity': 0.43,\n",
       "  'icon': 'clear-day',\n",
       "  'precipIntensity': 0,\n",
       "  'precipProbability': 0,\n",
       "  'pressure': 1016.3,\n",
       "  'summary': 'Dégagé',\n",
       "  'temperature': 27.73,\n",
       "  'time': 1497114000,\n",
       "  'visibility': 16.09,\n",
       "  'windBearing': 6,\n",
       "  'windSpeed': 2.62},\n",
       " {'apparentTemperature': 26.12,\n",
       "  'dewPoint': 13.82,\n",
       "  'humidity': 0.47,\n",
       "  'icon': 'clear-day',\n",
       "  'precipIntensity': 0,\n",
       "  'precipProbability': 0,\n",
       "  'pressure': 1016.55,\n",
       "  'summary': 'Dégagé',\n",
       "  'temperature': 26.12,\n",
       "  'time': 1497117600,\n",
       "  'visibility': 16.09,\n",
       "  'windBearing': 358,\n",
       "  'windSpeed': 2.69},\n",
       " {'apparentTemperature': 22.98,\n",
       "  'dewPoint': 14.25,\n",
       "  'humidity': 0.58,\n",
       "  'icon': 'clear-day',\n",
       "  'precipIntensity': 0,\n",
       "  'precipProbability': 0,\n",
       "  'pressure': 1017.08,\n",
       "  'summary': 'Dégagé',\n",
       "  'temperature': 22.98,\n",
       "  'time': 1497121200,\n",
       "  'visibility': 16.09,\n",
       "  'windBearing': 327,\n",
       "  'windSpeed': 0.77},\n",
       " {'apparentTemperature': 21.21,\n",
       "  'dewPoint': 14.22,\n",
       "  'humidity': 0.64,\n",
       "  'icon': 'clear-night',\n",
       "  'precipIntensity': 0,\n",
       "  'precipProbability': 0,\n",
       "  'pressure': 1017.81,\n",
       "  'summary': 'Dégagé',\n",
       "  'temperature': 21.21,\n",
       "  'time': 1497124800,\n",
       "  'visibility': 15.06,\n",
       "  'windBearing': 356,\n",
       "  'windSpeed': 0.9},\n",
       " {'apparentTemperature': 19.61,\n",
       "  'dewPoint': 14.23,\n",
       "  'humidity': 0.71,\n",
       "  'icon': 'clear-night',\n",
       "  'precipIntensity': 0,\n",
       "  'precipProbability': 0,\n",
       "  'pressure': 1018.52,\n",
       "  'summary': 'Dégagé',\n",
       "  'temperature': 19.61,\n",
       "  'time': 1497128400,\n",
       "  'visibility': 16.09,\n",
       "  'windBearing': 15,\n",
       "  'windSpeed': 0.61}]"
      ]
     },
     "execution_count": 153,
     "metadata": {},
     "output_type": "execute_result"
    }
   ],
   "source": [
    "records"
   ]
  },
  {
   "cell_type": "code",
   "execution_count": 154,
   "metadata": {
    "collapsed": true
   },
   "outputs": [],
   "source": [
    "dropcols = ['icon', 'apparentTemperature', 'ozone', 'summary', 'uvIndex', 'windGust', 'dewPoint',\n",
    "               'precipProbability', 'visibility', 'pressure', 'humidity', 'precipType']"
   ]
  },
  {
   "cell_type": "code",
   "execution_count": 155,
   "metadata": {},
   "outputs": [],
   "source": [
    "df = pd.DataFrame.from_records(records, index='time')\n",
    "\n",
    "df.drop(dropcols, axis=1, level=None, inplace=True, errors='ignore')"
   ]
  },
  {
   "cell_type": "code",
   "execution_count": 156,
   "metadata": {},
   "outputs": [
    {
     "data": {
      "text/plain": [
       "24"
      ]
     },
     "execution_count": 156,
     "metadata": {},
     "output_type": "execute_result"
    }
   ],
   "source": [
    "len(records)"
   ]
  },
  {
   "cell_type": "code",
   "execution_count": 100,
   "metadata": {
    "collapsed": true
   },
   "outputs": [],
   "source": [
    "df.index = pd.to_datetime(df.index ,unit='s')"
   ]
  },
  {
   "cell_type": "code",
   "execution_count": 101,
   "metadata": {},
   "outputs": [
    {
     "data": {
      "text/html": [
       "<div>\n",
       "<style>\n",
       "    .dataframe thead tr:only-child th {\n",
       "        text-align: right;\n",
       "    }\n",
       "\n",
       "    .dataframe thead th {\n",
       "        text-align: left;\n",
       "    }\n",
       "\n",
       "    .dataframe tbody tr th {\n",
       "        vertical-align: top;\n",
       "    }\n",
       "</style>\n",
       "<table border=\"1\" class=\"dataframe\">\n",
       "  <thead>\n",
       "    <tr style=\"text-align: right;\">\n",
       "      <th></th>\n",
       "      <th>cloudCover</th>\n",
       "      <th>precipIntensity</th>\n",
       "      <th>temperature</th>\n",
       "      <th>windBearing</th>\n",
       "      <th>windSpeed</th>\n",
       "    </tr>\n",
       "    <tr>\n",
       "      <th>time</th>\n",
       "      <th></th>\n",
       "      <th></th>\n",
       "      <th></th>\n",
       "      <th></th>\n",
       "      <th></th>\n",
       "    </tr>\n",
       "  </thead>\n",
       "  <tbody>\n",
       "    <tr>\n",
       "      <th>2017-06-16 22:00:00</th>\n",
       "      <td>NaN</td>\n",
       "      <td>0</td>\n",
       "      <td>19.65</td>\n",
       "      <td>338</td>\n",
       "      <td>1.30</td>\n",
       "    </tr>\n",
       "    <tr>\n",
       "      <th>2017-06-16 23:00:00</th>\n",
       "      <td>NaN</td>\n",
       "      <td>0</td>\n",
       "      <td>18.34</td>\n",
       "      <td>355</td>\n",
       "      <td>3.56</td>\n",
       "    </tr>\n",
       "    <tr>\n",
       "      <th>2017-06-17 00:00:00</th>\n",
       "      <td>NaN</td>\n",
       "      <td>0</td>\n",
       "      <td>18.02</td>\n",
       "      <td>12</td>\n",
       "      <td>2.24</td>\n",
       "    </tr>\n",
       "    <tr>\n",
       "      <th>2017-06-17 01:00:00</th>\n",
       "      <td>NaN</td>\n",
       "      <td>0</td>\n",
       "      <td>16.92</td>\n",
       "      <td>4</td>\n",
       "      <td>2.87</td>\n",
       "    </tr>\n",
       "    <tr>\n",
       "      <th>2017-06-17 02:00:00</th>\n",
       "      <td>NaN</td>\n",
       "      <td>0</td>\n",
       "      <td>16.42</td>\n",
       "      <td>0</td>\n",
       "      <td>1.77</td>\n",
       "    </tr>\n",
       "    <tr>\n",
       "      <th>2017-06-17 03:00:00</th>\n",
       "      <td>NaN</td>\n",
       "      <td>0</td>\n",
       "      <td>16.57</td>\n",
       "      <td>358</td>\n",
       "      <td>2.11</td>\n",
       "    </tr>\n",
       "    <tr>\n",
       "      <th>2017-06-17 04:00:00</th>\n",
       "      <td>NaN</td>\n",
       "      <td>0</td>\n",
       "      <td>15.44</td>\n",
       "      <td>352</td>\n",
       "      <td>2.11</td>\n",
       "    </tr>\n",
       "    <tr>\n",
       "      <th>2017-06-17 05:00:00</th>\n",
       "      <td>NaN</td>\n",
       "      <td>0</td>\n",
       "      <td>16.06</td>\n",
       "      <td>353</td>\n",
       "      <td>1.30</td>\n",
       "    </tr>\n",
       "    <tr>\n",
       "      <th>2017-06-17 06:00:00</th>\n",
       "      <td>0.31</td>\n",
       "      <td>0</td>\n",
       "      <td>18.16</td>\n",
       "      <td>356</td>\n",
       "      <td>2.01</td>\n",
       "    </tr>\n",
       "    <tr>\n",
       "      <th>2017-06-17 07:00:00</th>\n",
       "      <td>NaN</td>\n",
       "      <td>0</td>\n",
       "      <td>19.86</td>\n",
       "      <td>353</td>\n",
       "      <td>3.55</td>\n",
       "    </tr>\n",
       "    <tr>\n",
       "      <th>2017-06-17 08:00:00</th>\n",
       "      <td>0.31</td>\n",
       "      <td>0</td>\n",
       "      <td>20.86</td>\n",
       "      <td>3</td>\n",
       "      <td>5.05</td>\n",
       "    </tr>\n",
       "    <tr>\n",
       "      <th>2017-06-17 09:00:00</th>\n",
       "      <td>NaN</td>\n",
       "      <td>0</td>\n",
       "      <td>22.63</td>\n",
       "      <td>5</td>\n",
       "      <td>5.74</td>\n",
       "    </tr>\n",
       "    <tr>\n",
       "      <th>2017-06-17 10:00:00</th>\n",
       "      <td>NaN</td>\n",
       "      <td>0</td>\n",
       "      <td>23.68</td>\n",
       "      <td>6</td>\n",
       "      <td>5.76</td>\n",
       "    </tr>\n",
       "    <tr>\n",
       "      <th>2017-06-17 11:00:00</th>\n",
       "      <td>NaN</td>\n",
       "      <td>0</td>\n",
       "      <td>25.17</td>\n",
       "      <td>356</td>\n",
       "      <td>5.61</td>\n",
       "    </tr>\n",
       "    <tr>\n",
       "      <th>2017-06-17 12:00:00</th>\n",
       "      <td>NaN</td>\n",
       "      <td>0</td>\n",
       "      <td>25.90</td>\n",
       "      <td>358</td>\n",
       "      <td>5.51</td>\n",
       "    </tr>\n",
       "    <tr>\n",
       "      <th>2017-06-17 13:00:00</th>\n",
       "      <td>NaN</td>\n",
       "      <td>0</td>\n",
       "      <td>26.66</td>\n",
       "      <td>0</td>\n",
       "      <td>5.95</td>\n",
       "    </tr>\n",
       "    <tr>\n",
       "      <th>2017-06-17 14:00:00</th>\n",
       "      <td>0.31</td>\n",
       "      <td>0</td>\n",
       "      <td>27.18</td>\n",
       "      <td>353</td>\n",
       "      <td>6.41</td>\n",
       "    </tr>\n",
       "    <tr>\n",
       "      <th>2017-06-17 15:00:00</th>\n",
       "      <td>0.31</td>\n",
       "      <td>0</td>\n",
       "      <td>27.62</td>\n",
       "      <td>4</td>\n",
       "      <td>6.16</td>\n",
       "    </tr>\n",
       "    <tr>\n",
       "      <th>2017-06-17 16:00:00</th>\n",
       "      <td>0.31</td>\n",
       "      <td>0</td>\n",
       "      <td>27.35</td>\n",
       "      <td>0</td>\n",
       "      <td>6.09</td>\n",
       "    </tr>\n",
       "    <tr>\n",
       "      <th>2017-06-17 17:00:00</th>\n",
       "      <td>0.31</td>\n",
       "      <td>0</td>\n",
       "      <td>26.74</td>\n",
       "      <td>3</td>\n",
       "      <td>6.10</td>\n",
       "    </tr>\n",
       "    <tr>\n",
       "      <th>2017-06-17 18:00:00</th>\n",
       "      <td>0.31</td>\n",
       "      <td>0</td>\n",
       "      <td>25.43</td>\n",
       "      <td>354</td>\n",
       "      <td>5.15</td>\n",
       "    </tr>\n",
       "    <tr>\n",
       "      <th>2017-06-17 19:00:00</th>\n",
       "      <td>0.31</td>\n",
       "      <td>0</td>\n",
       "      <td>23.24</td>\n",
       "      <td>355</td>\n",
       "      <td>2.95</td>\n",
       "    </tr>\n",
       "    <tr>\n",
       "      <th>2017-06-17 20:00:00</th>\n",
       "      <td>0.31</td>\n",
       "      <td>0</td>\n",
       "      <td>21.51</td>\n",
       "      <td>4</td>\n",
       "      <td>2.36</td>\n",
       "    </tr>\n",
       "    <tr>\n",
       "      <th>2017-06-17 21:00:00</th>\n",
       "      <td>NaN</td>\n",
       "      <td>0</td>\n",
       "      <td>19.69</td>\n",
       "      <td>5</td>\n",
       "      <td>3.07</td>\n",
       "    </tr>\n",
       "  </tbody>\n",
       "</table>\n",
       "</div>"
      ],
      "text/plain": [
       "                     cloudCover  precipIntensity  temperature  windBearing  \\\n",
       "time                                                                         \n",
       "2017-06-16 22:00:00         NaN                0        19.65          338   \n",
       "2017-06-16 23:00:00         NaN                0        18.34          355   \n",
       "2017-06-17 00:00:00         NaN                0        18.02           12   \n",
       "2017-06-17 01:00:00         NaN                0        16.92            4   \n",
       "2017-06-17 02:00:00         NaN                0        16.42            0   \n",
       "2017-06-17 03:00:00         NaN                0        16.57          358   \n",
       "2017-06-17 04:00:00         NaN                0        15.44          352   \n",
       "2017-06-17 05:00:00         NaN                0        16.06          353   \n",
       "2017-06-17 06:00:00        0.31                0        18.16          356   \n",
       "2017-06-17 07:00:00         NaN                0        19.86          353   \n",
       "2017-06-17 08:00:00        0.31                0        20.86            3   \n",
       "2017-06-17 09:00:00         NaN                0        22.63            5   \n",
       "2017-06-17 10:00:00         NaN                0        23.68            6   \n",
       "2017-06-17 11:00:00         NaN                0        25.17          356   \n",
       "2017-06-17 12:00:00         NaN                0        25.90          358   \n",
       "2017-06-17 13:00:00         NaN                0        26.66            0   \n",
       "2017-06-17 14:00:00        0.31                0        27.18          353   \n",
       "2017-06-17 15:00:00        0.31                0        27.62            4   \n",
       "2017-06-17 16:00:00        0.31                0        27.35            0   \n",
       "2017-06-17 17:00:00        0.31                0        26.74            3   \n",
       "2017-06-17 18:00:00        0.31                0        25.43          354   \n",
       "2017-06-17 19:00:00        0.31                0        23.24          355   \n",
       "2017-06-17 20:00:00        0.31                0        21.51            4   \n",
       "2017-06-17 21:00:00         NaN                0        19.69            5   \n",
       "\n",
       "                     windSpeed  \n",
       "time                            \n",
       "2017-06-16 22:00:00       1.30  \n",
       "2017-06-16 23:00:00       3.56  \n",
       "2017-06-17 00:00:00       2.24  \n",
       "2017-06-17 01:00:00       2.87  \n",
       "2017-06-17 02:00:00       1.77  \n",
       "2017-06-17 03:00:00       2.11  \n",
       "2017-06-17 04:00:00       2.11  \n",
       "2017-06-17 05:00:00       1.30  \n",
       "2017-06-17 06:00:00       2.01  \n",
       "2017-06-17 07:00:00       3.55  \n",
       "2017-06-17 08:00:00       5.05  \n",
       "2017-06-17 09:00:00       5.74  \n",
       "2017-06-17 10:00:00       5.76  \n",
       "2017-06-17 11:00:00       5.61  \n",
       "2017-06-17 12:00:00       5.51  \n",
       "2017-06-17 13:00:00       5.95  \n",
       "2017-06-17 14:00:00       6.41  \n",
       "2017-06-17 15:00:00       6.16  \n",
       "2017-06-17 16:00:00       6.09  \n",
       "2017-06-17 17:00:00       6.10  \n",
       "2017-06-17 18:00:00       5.15  \n",
       "2017-06-17 19:00:00       2.95  \n",
       "2017-06-17 20:00:00       2.36  \n",
       "2017-06-17 21:00:00       3.07  "
      ]
     },
     "execution_count": 101,
     "metadata": {},
     "output_type": "execute_result"
    }
   ],
   "source": [
    "df"
   ]
  },
  {
   "cell_type": "code",
   "execution_count": 29,
   "metadata": {},
   "outputs": [
    {
     "name": "stdout",
     "output_type": "stream",
     "text": [
      "24\n"
     ]
    }
   ],
   "source": [
    "T = [ hour.temperature for hour in data.hourly ]\n",
    "\n",
    "print( len(T) )"
   ]
  },
  {
   "cell_type": "code",
   "execution_count": 11,
   "metadata": {
    "collapsed": true
   },
   "outputs": [],
   "source": [
    "di = [{'t':45, 'value':4}, {'t':78, 'value':77}]"
   ]
  },
  {
   "cell_type": "code",
   "execution_count": 12,
   "metadata": {
    "collapsed": true
   },
   "outputs": [],
   "source": [
    "import pandas as pd"
   ]
  },
  {
   "cell_type": "code",
   "execution_count": 14,
   "metadata": {},
   "outputs": [
    {
     "data": {
      "image/png": "[encoded data removed]",
      "text/plain": [
       "<matplotlib.figure.Figure at 0x7fbb7dfd7630>"
      ]
     },
     "metadata": {},
     "output_type": "display_data"
    }
   ],
   "source": [
    "plt.plot( T );"
   ]
  },
  {
   "cell_type": "code",
   "execution_count": 15,
   "metadata": {},
   "outputs": [
    {
     "data": {
      "image/png": "[encoded data removed]",
      "text/plain": [
       "<matplotlib.figure.Figure at 0x7fbb7dce03c8>"
      ]
     },
     "metadata": {},
     "output_type": "display_data"
    }
   ],
   "source": [
    "windSpeed = [ hour.windSpeed for hour in data.hourly ]\n",
    "\n",
    "plt.plot( windSpeed );"
   ]
  },
  {
   "cell_type": "code",
   "execution_count": 16,
   "metadata": {},
   "outputs": [
    {
     "data": {
      "image/png": "[encoded data removed]",
      "text/plain": [
       "<matplotlib.figure.Figure at 0x7fbb7dc5b978>"
      ]
     },
     "metadata": {},
     "output_type": "display_data"
    }
   ],
   "source": [
    "cloudCover = [ hour.cloudCover for hour in data.hourly ]\n",
    "\n",
    "plt.plot( cloudCover );"
   ]
  },
  {
   "cell_type": "code",
   "execution_count": 26,
   "metadata": {},
   "outputs": [
    {
     "data": {
      "text/plain": [
       "20.06"
      ]
     },
     "execution_count": 26,
     "metadata": {},
     "output_type": "execute_result"
    }
   ],
   "source": [
    "data.hourly[4].temperature"
   ]
  },
  {
   "cell_type": "code",
   "execution_count": 27,
   "metadata": {
    "scrolled": true
   },
   "outputs": [
    {
     "data": {
      "text/plain": [
       "[1498168800,\n",
       " 1498172400,\n",
       " 1498176000,\n",
       " 1498179600,\n",
       " 1498183200,\n",
       " 1498186800,\n",
       " 1498190400,\n",
       " 1498194000,\n",
       " 1498197600,\n",
       " 1498201200,\n",
       " 1498204800,\n",
       " 1498208400,\n",
       " 1498212000,\n",
       " 1498215600,\n",
       " 1498219200,\n",
       " 1498222800,\n",
       " 1498226400,\n",
       " 1498230000,\n",
       " 1498233600,\n",
       " 1498237200,\n",
       " 1498240800,\n",
       " 1498244400,\n",
       " 1498248000,\n",
       " 1498251600]"
      ]
     },
     "execution_count": 27,
     "metadata": {},
     "output_type": "execute_result"
    }
   ],
   "source": [
    "timeindex = pd.to_datetime('today')[ hour.time for hour in data.hourly ]"
   ]
  },
  {
   "cell_type": "code",
   "execution_count": 30,
   "metadata": {},
   "outputs": [
    {
     "data": {
      "text/plain": [
       "[21.54,\n",
       " 21.07,\n",
       " 22.03,\n",
       " 21.08,\n",
       " 20.06,\n",
       " 20.44,\n",
       " 21.89,\n",
       " 24.05,\n",
       " 25.83,\n",
       " 27.32,\n",
       " 28.54,\n",
       " 29.4,\n",
       " 30.21,\n",
       " 30.89,\n",
       " 32.4,\n",
       " 33.06,\n",
       " 33.38,\n",
       " 32.55,\n",
       " 32.17,\n",
       " 31.39,\n",
       " 30.11,\n",
       " 28.49,\n",
       " 26.26,\n",
       " 24.19]"
      ]
     },
     "execution_count": 30,
     "metadata": {},
     "output_type": "execute_result"
    }
   ],
   "source": [
    "[ hour['temperature'] for hour in data.hourly ]"
   ]
  },
  {
   "cell_type": "code",
   "execution_count": 54,
   "metadata": {
    "collapsed": true
   },
   "outputs": [],
   "source": [
    "import pandas as pd"
   ]
  },
  {
   "cell_type": "code",
   "execution_count": 61,
   "metadata": {
    "collapsed": true
   },
   "outputs": [],
   "source": [
    "# voir https://darksky.net/dev/docs/response\n",
    "datalabels = ['temperature', 'cloudCover', 'precipIntensity', 'windSpeed' , 'windBearing']"
   ]
  },
  {
   "cell_type": "code",
   "execution_count": 66,
   "metadata": {
    "collapsed": true
   },
   "outputs": [],
   "source": [
    "def buildDFdaily(day, coords):\n",
    "    data = forecast(key, *coords, units='si', lang='fr', time=day)\n",
    "    \n",
    "    timeindex = pd.to_datetime( [ hour.time for hour in data.hourly ],  unit='s' , origin='unix' )\n",
    "    \n",
    "    dailydata = {}\n",
    "    for label in datalabels:\n",
    "        dailydata[label] = [ dataeveryhour[label] for dataeveryhour in data.hourly ]\n",
    "        \n",
    "    df = pd.DataFrame(dailydata, index=timeindex )\n",
    "    return df"
   ]
  },
  {
   "cell_type": "code",
   "execution_count": 67,
   "metadata": {
    "collapsed": true
   },
   "outputs": [],
   "source": [
    "df = buildDFdaily( t, coords_grenoble )"
   ]
  },
  {
   "cell_type": "code",
   "execution_count": 68,
   "metadata": {},
   "outputs": [
    {
     "data": {
      "text/html": [
       "<div>\n",
       "<style>\n",
       "    .dataframe thead tr:only-child th {\n",
       "        text-align: right;\n",
       "    }\n",
       "\n",
       "    .dataframe thead th {\n",
       "        text-align: left;\n",
       "    }\n",
       "\n",
       "    .dataframe tbody tr th {\n",
       "        vertical-align: top;\n",
       "    }\n",
       "</style>\n",
       "<table border=\"1\" class=\"dataframe\">\n",
       "  <thead>\n",
       "    <tr style=\"text-align: right;\">\n",
       "      <th></th>\n",
       "      <th>cloudCover</th>\n",
       "      <th>precipIntensity</th>\n",
       "      <th>temperature</th>\n",
       "      <th>windBearing</th>\n",
       "      <th>windSpeed</th>\n",
       "    </tr>\n",
       "  </thead>\n",
       "  <tbody>\n",
       "    <tr>\n",
       "      <th>2017-06-22 22:00:00</th>\n",
       "      <td>0.15</td>\n",
       "      <td>0.0000</td>\n",
       "      <td>21.54</td>\n",
       "      <td>145</td>\n",
       "      <td>0.82</td>\n",
       "    </tr>\n",
       "    <tr>\n",
       "      <th>2017-06-22 23:00:00</th>\n",
       "      <td>0.28</td>\n",
       "      <td>0.0000</td>\n",
       "      <td>21.07</td>\n",
       "      <td>134</td>\n",
       "      <td>0.83</td>\n",
       "    </tr>\n",
       "    <tr>\n",
       "      <th>2017-06-23 00:00:00</th>\n",
       "      <td>0.40</td>\n",
       "      <td>0.0000</td>\n",
       "      <td>22.03</td>\n",
       "      <td>108</td>\n",
       "      <td>0.78</td>\n",
       "    </tr>\n",
       "    <tr>\n",
       "      <th>2017-06-23 01:00:00</th>\n",
       "      <td>0.59</td>\n",
       "      <td>0.0000</td>\n",
       "      <td>21.08</td>\n",
       "      <td>105</td>\n",
       "      <td>0.82</td>\n",
       "    </tr>\n",
       "    <tr>\n",
       "      <th>2017-06-23 02:00:00</th>\n",
       "      <td>0.80</td>\n",
       "      <td>0.0000</td>\n",
       "      <td>20.06</td>\n",
       "      <td>106</td>\n",
       "      <td>0.88</td>\n",
       "    </tr>\n",
       "    <tr>\n",
       "      <th>2017-06-23 03:00:00</th>\n",
       "      <td>0.92</td>\n",
       "      <td>0.0000</td>\n",
       "      <td>20.44</td>\n",
       "      <td>108</td>\n",
       "      <td>0.89</td>\n",
       "    </tr>\n",
       "    <tr>\n",
       "      <th>2017-06-23 04:00:00</th>\n",
       "      <td>0.88</td>\n",
       "      <td>0.0000</td>\n",
       "      <td>21.89</td>\n",
       "      <td>113</td>\n",
       "      <td>0.81</td>\n",
       "    </tr>\n",
       "    <tr>\n",
       "      <th>2017-06-23 05:00:00</th>\n",
       "      <td>0.75</td>\n",
       "      <td>0.0000</td>\n",
       "      <td>24.05</td>\n",
       "      <td>119</td>\n",
       "      <td>0.69</td>\n",
       "    </tr>\n",
       "    <tr>\n",
       "      <th>2017-06-23 06:00:00</th>\n",
       "      <td>0.64</td>\n",
       "      <td>0.0000</td>\n",
       "      <td>25.83</td>\n",
       "      <td>165</td>\n",
       "      <td>0.24</td>\n",
       "    </tr>\n",
       "    <tr>\n",
       "      <th>2017-06-23 07:00:00</th>\n",
       "      <td>0.58</td>\n",
       "      <td>0.0000</td>\n",
       "      <td>27.32</td>\n",
       "      <td>95</td>\n",
       "      <td>0.48</td>\n",
       "    </tr>\n",
       "    <tr>\n",
       "      <th>2017-06-23 08:00:00</th>\n",
       "      <td>0.54</td>\n",
       "      <td>0.0000</td>\n",
       "      <td>28.54</td>\n",
       "      <td>25</td>\n",
       "      <td>0.98</td>\n",
       "    </tr>\n",
       "    <tr>\n",
       "      <th>2017-06-23 09:00:00</th>\n",
       "      <td>0.50</td>\n",
       "      <td>0.0000</td>\n",
       "      <td>29.40</td>\n",
       "      <td>340</td>\n",
       "      <td>1.26</td>\n",
       "    </tr>\n",
       "    <tr>\n",
       "      <th>2017-06-23 10:00:00</th>\n",
       "      <td>0.49</td>\n",
       "      <td>0.0000</td>\n",
       "      <td>30.21</td>\n",
       "      <td>326</td>\n",
       "      <td>1.34</td>\n",
       "    </tr>\n",
       "    <tr>\n",
       "      <th>2017-06-23 11:00:00</th>\n",
       "      <td>0.49</td>\n",
       "      <td>0.0000</td>\n",
       "      <td>30.89</td>\n",
       "      <td>328</td>\n",
       "      <td>1.39</td>\n",
       "    </tr>\n",
       "    <tr>\n",
       "      <th>2017-06-23 12:00:00</th>\n",
       "      <td>0.46</td>\n",
       "      <td>0.0000</td>\n",
       "      <td>32.40</td>\n",
       "      <td>257</td>\n",
       "      <td>0.80</td>\n",
       "    </tr>\n",
       "    <tr>\n",
       "      <th>2017-06-23 13:00:00</th>\n",
       "      <td>0.40</td>\n",
       "      <td>0.0000</td>\n",
       "      <td>33.06</td>\n",
       "      <td>197</td>\n",
       "      <td>0.86</td>\n",
       "    </tr>\n",
       "    <tr>\n",
       "      <th>2017-06-23 14:00:00</th>\n",
       "      <td>0.33</td>\n",
       "      <td>0.0000</td>\n",
       "      <td>33.38</td>\n",
       "      <td>13</td>\n",
       "      <td>1.14</td>\n",
       "    </tr>\n",
       "    <tr>\n",
       "      <th>2017-06-23 15:00:00</th>\n",
       "      <td>0.30</td>\n",
       "      <td>0.0000</td>\n",
       "      <td>32.55</td>\n",
       "      <td>329</td>\n",
       "      <td>1.31</td>\n",
       "    </tr>\n",
       "    <tr>\n",
       "      <th>2017-06-23 16:00:00</th>\n",
       "      <td>0.35</td>\n",
       "      <td>0.0000</td>\n",
       "      <td>32.17</td>\n",
       "      <td>324</td>\n",
       "      <td>1.32</td>\n",
       "    </tr>\n",
       "    <tr>\n",
       "      <th>2017-06-23 17:00:00</th>\n",
       "      <td>0.43</td>\n",
       "      <td>0.1295</td>\n",
       "      <td>31.39</td>\n",
       "      <td>334</td>\n",
       "      <td>1.27</td>\n",
       "    </tr>\n",
       "    <tr>\n",
       "      <th>2017-06-23 18:00:00</th>\n",
       "      <td>0.50</td>\n",
       "      <td>0.2413</td>\n",
       "      <td>30.11</td>\n",
       "      <td>335</td>\n",
       "      <td>1.06</td>\n",
       "    </tr>\n",
       "    <tr>\n",
       "      <th>2017-06-23 19:00:00</th>\n",
       "      <td>0.57</td>\n",
       "      <td>0.2413</td>\n",
       "      <td>28.49</td>\n",
       "      <td>337</td>\n",
       "      <td>0.97</td>\n",
       "    </tr>\n",
       "    <tr>\n",
       "      <th>2017-06-23 20:00:00</th>\n",
       "      <td>0.65</td>\n",
       "      <td>0.1829</td>\n",
       "      <td>26.26</td>\n",
       "      <td>339</td>\n",
       "      <td>0.88</td>\n",
       "    </tr>\n",
       "    <tr>\n",
       "      <th>2017-06-23 21:00:00</th>\n",
       "      <td>0.72</td>\n",
       "      <td>0.1270</td>\n",
       "      <td>24.19</td>\n",
       "      <td>342</td>\n",
       "      <td>0.82</td>\n",
       "    </tr>\n",
       "  </tbody>\n",
       "</table>\n",
       "</div>"
      ],
      "text/plain": [
       "                     cloudCover  precipIntensity  temperature  windBearing  \\\n",
       "2017-06-22 22:00:00        0.15           0.0000        21.54          145   \n",
       "2017-06-22 23:00:00        0.28           0.0000        21.07          134   \n",
       "2017-06-23 00:00:00        0.40           0.0000        22.03          108   \n",
       "2017-06-23 01:00:00        0.59           0.0000        21.08          105   \n",
       "2017-06-23 02:00:00        0.80           0.0000        20.06          106   \n",
       "2017-06-23 03:00:00        0.92           0.0000        20.44          108   \n",
       "2017-06-23 04:00:00        0.88           0.0000        21.89          113   \n",
       "2017-06-23 05:00:00        0.75           0.0000        24.05          119   \n",
       "2017-06-23 06:00:00        0.64           0.0000        25.83          165   \n",
       "2017-06-23 07:00:00        0.58           0.0000        27.32           95   \n",
       "2017-06-23 08:00:00        0.54           0.0000        28.54           25   \n",
       "2017-06-23 09:00:00        0.50           0.0000        29.40          340   \n",
       "2017-06-23 10:00:00        0.49           0.0000        30.21          326   \n",
       "2017-06-23 11:00:00        0.49           0.0000        30.89          328   \n",
       "2017-06-23 12:00:00        0.46           0.0000        32.40          257   \n",
       "2017-06-23 13:00:00        0.40           0.0000        33.06          197   \n",
       "2017-06-23 14:00:00        0.33           0.0000        33.38           13   \n",
       "2017-06-23 15:00:00        0.30           0.0000        32.55          329   \n",
       "2017-06-23 16:00:00        0.35           0.0000        32.17          324   \n",
       "2017-06-23 17:00:00        0.43           0.1295        31.39          334   \n",
       "2017-06-23 18:00:00        0.50           0.2413        30.11          335   \n",
       "2017-06-23 19:00:00        0.57           0.2413        28.49          337   \n",
       "2017-06-23 20:00:00        0.65           0.1829        26.26          339   \n",
       "2017-06-23 21:00:00        0.72           0.1270        24.19          342   \n",
       "\n",
       "                     windSpeed  \n",
       "2017-06-22 22:00:00       0.82  \n",
       "2017-06-22 23:00:00       0.83  \n",
       "2017-06-23 00:00:00       0.78  \n",
       "2017-06-23 01:00:00       0.82  \n",
       "2017-06-23 02:00:00       0.88  \n",
       "2017-06-23 03:00:00       0.89  \n",
       "2017-06-23 04:00:00       0.81  \n",
       "2017-06-23 05:00:00       0.69  \n",
       "2017-06-23 06:00:00       0.24  \n",
       "2017-06-23 07:00:00       0.48  \n",
       "2017-06-23 08:00:00       0.98  \n",
       "2017-06-23 09:00:00       1.26  \n",
       "2017-06-23 10:00:00       1.34  \n",
       "2017-06-23 11:00:00       1.39  \n",
       "2017-06-23 12:00:00       0.80  \n",
       "2017-06-23 13:00:00       0.86  \n",
       "2017-06-23 14:00:00       1.14  \n",
       "2017-06-23 15:00:00       1.31  \n",
       "2017-06-23 16:00:00       1.32  \n",
       "2017-06-23 17:00:00       1.27  \n",
       "2017-06-23 18:00:00       1.06  \n",
       "2017-06-23 19:00:00       0.97  \n",
       "2017-06-23 20:00:00       0.88  \n",
       "2017-06-23 21:00:00       0.82  "
      ]
     },
     "execution_count": 68,
     "metadata": {},
     "output_type": "execute_result"
    }
   ],
   "source": [
    "df"
   ]
  },
  {
   "cell_type": "code",
   "execution_count": 60,
   "metadata": {},
   "outputs": [
    {
     "data": {
      "text/plain": [
       "<matplotlib.axes._subplots.AxesSubplot at 0x7fbb7dc77828>"
      ]
     },
     "execution_count": 60,
     "metadata": {},
     "output_type": "execute_result"
    },
    {
     "data": {
      "image/png": "[encoded data removed]",
      "text/plain": [
       "<matplotlib.figure.Figure at 0x7fbb77818828>"
      ]
     },
     "metadata": {},
     "output_type": "display_data"
    }
   ],
   "source": [
    "df.plot()"
   ]
  },
  {
   "cell_type": "markdown",
   "metadata": {},
   "source": [
    "# Debug"
   ]
  },
  {
   "cell_type": "code",
   "execution_count": 174,
   "metadata": {},
   "outputs": [],
   "source": [
    "import weatherfeed as wf"
   ]
  },
  {
   "cell_type": "code",
   "execution_count": 232,
   "metadata": {
    "collapsed": true
   },
   "outputs": [],
   "source": [
    "coords_grenoble = (45.1973288, 5.7139923) #(45.1973288, 5.7103223)\n",
    "\n",
    "startday, lastday = pd.to_datetime('10/06/2017', format='%d/%m/%Y'), pd.to_datetime('now')\n",
    "#pd.to_datetime('01/07/2017', format='%d/%m/%Y')"
   ]
  },
  {
   "cell_type": "code",
   "execution_count": 233,
   "metadata": {
    "collapsed": true
   },
   "outputs": [],
   "source": [
    "EXCLUDE = [] #[ 'minutely', 'daily', 'flags']  # from the query\n",
    "\n",
    "COL2DROP = ['icon', 'apparentTemperature', 'ozone', 'uvIndex', 'windGust', 'dewPoint',\n",
    "               'precipProbability', 'visibility', 'pressure', 'humidity', 'precipType']\n",
    "\n",
    "coords = coords_grenoble"
   ]
  },
  {
   "cell_type": "code",
   "execution_count": 234,
   "metadata": {},
   "outputs": [
    {
     "data": {
      "text/plain": [
       "DatetimeIndex(['2017-06-10', '2017-06-11', '2017-06-12', '2017-06-13',\n",
       "               '2017-06-14', '2017-06-15', '2017-06-16', '2017-06-17',\n",
       "               '2017-06-18', '2017-06-19', '2017-06-20', '2017-06-21',\n",
       "               '2017-06-22', '2017-06-23', '2017-06-24', '2017-06-25',\n",
       "               '2017-06-26', '2017-06-27', '2017-06-28', '2017-06-29',\n",
       "               '2017-06-30', '2017-07-01'],\n",
       "              dtype='datetime64[ns]', freq='D')"
      ]
     },
     "execution_count": 234,
     "metadata": {},
     "output_type": "execute_result"
    }
   ],
   "source": [
    "daterange = pd.date_range(start=startday, end=lastday,  freq='D', normalize=True)\n",
    "daterange"
   ]
  },
  {
   "cell_type": "code",
   "execution_count": 235,
   "metadata": {},
   "outputs": [
    {
     "name": "stdout",
     "output_type": "stream",
     "text": [
      "10, 11, 12, 13, 14, 15, 16, 17, 18, 19, 20, 21, 22, 23, 24, 25, 26, 27, 28, 29, 30, 1, "
     ]
    }
   ],
   "source": [
    "\n",
    "\n",
    "records = []\n",
    "for day in daterange:\n",
    "\n",
    "    day_iso = day.isoformat()\n",
    "\n",
    "    print('%i, '%day.day, end='')\n",
    "\n",
    "    data = forecast(KEY, *coords, units='si', lang='fr', \\\n",
    "         time=day_iso)\n",
    "    records_oftheday = data['hourly']['data']\n",
    "    records.extend( records_oftheday )"
   ]
  },
  {
   "cell_type": "code",
   "execution_count": 236,
   "metadata": {
    "scrolled": true
   },
   "outputs": [],
   "source": [
    "# build DF:\n",
    "allweatherdata = pd.DataFrame.from_records(records, index='time')\n",
    "allweatherdata.drop(COL2DROP, axis=1, inplace=True, errors='ignore')\n",
    "\n",
    "allweatherdata.index = pd.to_datetime(allweatherdata.index ,unit='s')\n",
    "\n",
    "allweatherdata['cloudCover'] = allweatherdata['cloudCover'].fillna( 0 )"
   ]
  },
  {
   "cell_type": "code",
   "execution_count": 237,
   "metadata": {},
   "outputs": [
    {
     "data": {
      "text/plain": [
       "cloudCover         0\n",
       "precipIntensity    0\n",
       "summary            0\n",
       "temperature        0\n",
       "windBearing        0\n",
       "windSpeed          0\n",
       "dtype: int64"
      ]
     },
     "execution_count": 237,
     "metadata": {},
     "output_type": "execute_result"
    }
   ],
   "source": [
    "allweatherdata.isnull().sum()"
   ]
  },
  {
   "cell_type": "code",
   "execution_count": 240,
   "metadata": {},
   "outputs": [
    {
     "data": {
      "text/plain": [
       "time\n",
       "2017-06-09 22:00:00    False\n",
       "2017-06-09 23:00:00    False\n",
       "2017-06-10 00:00:00    False\n",
       "2017-06-10 01:00:00    False\n",
       "2017-06-10 02:00:00    False\n",
       "2017-06-10 03:00:00    False\n",
       "2017-06-10 04:00:00    False\n",
       "2017-06-10 05:00:00    False\n",
       "2017-06-10 06:00:00    False\n",
       "2017-06-10 07:00:00    False\n",
       "2017-06-10 08:00:00    False\n",
       "2017-06-10 09:00:00    False\n",
       "2017-06-10 10:00:00    False\n",
       "2017-06-10 11:00:00    False\n",
       "2017-06-10 12:00:00    False\n",
       "2017-06-10 13:00:00    False\n",
       "2017-06-10 14:00:00    False\n",
       "2017-06-10 15:00:00    False\n",
       "2017-06-10 16:00:00    False\n",
       "2017-06-10 17:00:00    False\n",
       "2017-06-10 18:00:00    False\n",
       "2017-06-10 19:00:00    False\n",
       "2017-06-10 20:00:00    False\n",
       "2017-06-10 21:00:00    False\n",
       "2017-06-10 22:00:00    False\n",
       "2017-06-10 23:00:00    False\n",
       "2017-06-11 00:00:00    False\n",
       "2017-06-11 01:00:00    False\n",
       "2017-06-11 02:00:00    False\n",
       "2017-06-11 03:00:00    False\n",
       "                       ...  \n",
       "2017-06-30 16:00:00    False\n",
       "2017-06-30 17:00:00    False\n",
       "2017-06-30 18:00:00    False\n",
       "2017-06-30 19:00:00    False\n",
       "2017-06-30 20:00:00    False\n",
       "2017-06-30 21:00:00    False\n",
       "2017-06-30 22:00:00    False\n",
       "2017-06-30 23:00:00    False\n",
       "2017-07-01 00:00:00    False\n",
       "2017-07-01 01:00:00    False\n",
       "2017-07-01 02:00:00    False\n",
       "2017-07-01 03:00:00    False\n",
       "2017-07-01 04:00:00    False\n",
       "2017-07-01 05:00:00    False\n",
       "2017-07-01 06:00:00    False\n",
       "2017-07-01 07:00:00    False\n",
       "2017-07-01 08:00:00    False\n",
       "2017-07-01 09:00:00    False\n",
       "2017-07-01 10:00:00    False\n",
       "2017-07-01 11:00:00    False\n",
       "2017-07-01 12:00:00    False\n",
       "2017-07-01 13:00:00    False\n",
       "2017-07-01 14:00:00    False\n",
       "2017-07-01 15:00:00    False\n",
       "2017-07-01 16:00:00    False\n",
       "2017-07-01 17:00:00    False\n",
       "2017-07-01 18:00:00    False\n",
       "2017-07-01 19:00:00    False\n",
       "2017-07-01 20:00:00    False\n",
       "2017-07-01 21:00:00    False\n",
       "Length: 528, dtype: bool"
      ]
     },
     "execution_count": 240,
     "metadata": {},
     "output_type": "execute_result"
    }
   ],
   "source": [
    "allweatherdata.duplicated()"
   ]
  },
  {
   "cell_type": "code",
   "execution_count": 239,
   "metadata": {},
   "outputs": [
    {
     "data": {
      "text/plain": [
       "<matplotlib.axes._subplots.AxesSubplot at 0x7fbbe7fa3b00>"
      ]
     },
     "execution_count": 239,
     "metadata": {},
     "output_type": "execute_result"
    },
    {
     "data": {
      "image/png": "[encoded data removed]",
      "text/plain": [
       "<matplotlib.figure.Figure at 0x7fbbe8199390>"
      ]
     },
     "metadata": {},
     "output_type": "display_data"
    }
   ],
   "source": [
    "allweatherdata.plot( )"
   ]
  },
  {
   "cell_type": "code",
   "execution_count": 164,
   "metadata": {},
   "outputs": [
    {
     "ename": "TypeError",
     "evalue": "__repr__ returned non-string (type dict)",
     "output_type": "error",
     "traceback": [
      "\u001b[0;31m---------------------------------------------------------------------------\u001b[0m",
      "\u001b[0;31mTypeError\u001b[0m                                 Traceback (most recent call last)",
      "\u001b[0;32m~/Projets/thermique_appart/py3/lib/python3.5/site-packages/IPython/core/formatters.py\u001b[0m in \u001b[0;36m__call__\u001b[0;34m(self, obj)\u001b[0m\n\u001b[1;32m    691\u001b[0m                 \u001b[0mtype_pprinters\u001b[0m\u001b[0;34m=\u001b[0m\u001b[0mself\u001b[0m\u001b[0;34m.\u001b[0m\u001b[0mtype_printers\u001b[0m\u001b[0;34m,\u001b[0m\u001b[0;34m\u001b[0m\u001b[0m\n\u001b[1;32m    692\u001b[0m                 deferred_pprinters=self.deferred_printers)\n\u001b[0;32m--> 693\u001b[0;31m             \u001b[0mprinter\u001b[0m\u001b[0;34m.\u001b[0m\u001b[0mpretty\u001b[0m\u001b[0;34m(\u001b[0m\u001b[0mobj\u001b[0m\u001b[0;34m)\u001b[0m\u001b[0;34m\u001b[0m\u001b[0m\n\u001b[0m\u001b[1;32m    694\u001b[0m             \u001b[0mprinter\u001b[0m\u001b[0;34m.\u001b[0m\u001b[0mflush\u001b[0m\u001b[0;34m(\u001b[0m\u001b[0;34m)\u001b[0m\u001b[0;34m\u001b[0m\u001b[0m\n\u001b[1;32m    695\u001b[0m             \u001b[0;32mreturn\u001b[0m \u001b[0mstream\u001b[0m\u001b[0;34m.\u001b[0m\u001b[0mgetvalue\u001b[0m\u001b[0;34m(\u001b[0m\u001b[0;34m)\u001b[0m\u001b[0;34m\u001b[0m\u001b[0m\n",
      "\u001b[0;32m~/Projets/thermique_appart/py3/lib/python3.5/site-packages/IPython/lib/pretty.py\u001b[0m in \u001b[0;36mpretty\u001b[0;34m(self, obj)\u001b[0m\n\u001b[1;32m    378\u001b[0m                             \u001b[0;32mif\u001b[0m \u001b[0mcallable\u001b[0m\u001b[0;34m(\u001b[0m\u001b[0mmeth\u001b[0m\u001b[0;34m)\u001b[0m\u001b[0;34m:\u001b[0m\u001b[0;34m\u001b[0m\u001b[0m\n\u001b[1;32m    379\u001b[0m                                 \u001b[0;32mreturn\u001b[0m \u001b[0mmeth\u001b[0m\u001b[0;34m(\u001b[0m\u001b[0mobj\u001b[0m\u001b[0;34m,\u001b[0m \u001b[0mself\u001b[0m\u001b[0;34m,\u001b[0m \u001b[0mcycle\u001b[0m\u001b[0;34m)\u001b[0m\u001b[0;34m\u001b[0m\u001b[0m\n\u001b[0;32m--> 380\u001b[0;31m             \u001b[0;32mreturn\u001b[0m \u001b[0m_default_pprint\u001b[0m\u001b[0;34m(\u001b[0m\u001b[0mobj\u001b[0m\u001b[0;34m,\u001b[0m \u001b[0mself\u001b[0m\u001b[0;34m,\u001b[0m \u001b[0mcycle\u001b[0m\u001b[0;34m)\u001b[0m\u001b[0;34m\u001b[0m\u001b[0m\n\u001b[0m\u001b[1;32m    381\u001b[0m         \u001b[0;32mfinally\u001b[0m\u001b[0;34m:\u001b[0m\u001b[0;34m\u001b[0m\u001b[0m\n\u001b[1;32m    382\u001b[0m             \u001b[0mself\u001b[0m\u001b[0;34m.\u001b[0m\u001b[0mend_group\u001b[0m\u001b[0;34m(\u001b[0m\u001b[0;34m)\u001b[0m\u001b[0;34m\u001b[0m\u001b[0m\n",
      "\u001b[0;32m~/Projets/thermique_appart/py3/lib/python3.5/site-packages/IPython/lib/pretty.py\u001b[0m in \u001b[0;36m_default_pprint\u001b[0;34m(obj, p, cycle)\u001b[0m\n\u001b[1;32m    493\u001b[0m     \u001b[0;32mif\u001b[0m \u001b[0m_safe_getattr\u001b[0m\u001b[0;34m(\u001b[0m\u001b[0mklass\u001b[0m\u001b[0;34m,\u001b[0m \u001b[0;34m'__repr__'\u001b[0m\u001b[0;34m,\u001b[0m \u001b[0;32mNone\u001b[0m\u001b[0;34m)\u001b[0m \u001b[0;32mis\u001b[0m \u001b[0;32mnot\u001b[0m \u001b[0mobject\u001b[0m\u001b[0;34m.\u001b[0m\u001b[0m__repr__\u001b[0m\u001b[0;34m:\u001b[0m\u001b[0;34m\u001b[0m\u001b[0m\n\u001b[1;32m    494\u001b[0m         \u001b[0;31m# A user-provided repr. Find newlines and replace them with p.break_()\u001b[0m\u001b[0;34m\u001b[0m\u001b[0;34m\u001b[0m\u001b[0m\n\u001b[0;32m--> 495\u001b[0;31m         \u001b[0m_repr_pprint\u001b[0m\u001b[0;34m(\u001b[0m\u001b[0mobj\u001b[0m\u001b[0;34m,\u001b[0m \u001b[0mp\u001b[0m\u001b[0;34m,\u001b[0m \u001b[0mcycle\u001b[0m\u001b[0;34m)\u001b[0m\u001b[0;34m\u001b[0m\u001b[0m\n\u001b[0m\u001b[1;32m    496\u001b[0m         \u001b[0;32mreturn\u001b[0m\u001b[0;34m\u001b[0m\u001b[0m\n\u001b[1;32m    497\u001b[0m     \u001b[0mp\u001b[0m\u001b[0;34m.\u001b[0m\u001b[0mbegin_group\u001b[0m\u001b[0;34m(\u001b[0m\u001b[0;36m1\u001b[0m\u001b[0;34m,\u001b[0m \u001b[0;34m'<'\u001b[0m\u001b[0;34m)\u001b[0m\u001b[0;34m\u001b[0m\u001b[0m\n",
      "\u001b[0;32m~/Projets/thermique_appart/py3/lib/python3.5/site-packages/IPython/lib/pretty.py\u001b[0m in \u001b[0;36m_repr_pprint\u001b[0;34m(obj, p, cycle)\u001b[0m\n\u001b[1;32m    691\u001b[0m     \u001b[0;34m\"\"\"A pprint that just redirects to the normal repr function.\"\"\"\u001b[0m\u001b[0;34m\u001b[0m\u001b[0m\n\u001b[1;32m    692\u001b[0m     \u001b[0;31m# Find newlines and replace them with p.break_()\u001b[0m\u001b[0;34m\u001b[0m\u001b[0;34m\u001b[0m\u001b[0m\n\u001b[0;32m--> 693\u001b[0;31m     \u001b[0moutput\u001b[0m \u001b[0;34m=\u001b[0m \u001b[0mrepr\u001b[0m\u001b[0;34m(\u001b[0m\u001b[0mobj\u001b[0m\u001b[0;34m)\u001b[0m\u001b[0;34m\u001b[0m\u001b[0m\n\u001b[0m\u001b[1;32m    694\u001b[0m     \u001b[0;32mfor\u001b[0m \u001b[0midx\u001b[0m\u001b[0;34m,\u001b[0m\u001b[0moutput_line\u001b[0m \u001b[0;32min\u001b[0m \u001b[0menumerate\u001b[0m\u001b[0;34m(\u001b[0m\u001b[0moutput\u001b[0m\u001b[0;34m.\u001b[0m\u001b[0msplitlines\u001b[0m\u001b[0;34m(\u001b[0m\u001b[0;34m)\u001b[0m\u001b[0;34m)\u001b[0m\u001b[0;34m:\u001b[0m\u001b[0;34m\u001b[0m\u001b[0m\n\u001b[1;32m    695\u001b[0m         \u001b[0;32mif\u001b[0m \u001b[0midx\u001b[0m\u001b[0;34m:\u001b[0m\u001b[0;34m\u001b[0m\u001b[0m\n",
      "\u001b[0;31mTypeError\u001b[0m: __repr__ returned non-string (type dict)"
     ]
    }
   ],
   "source": [
    "data"
   ]
  },
  {
   "cell_type": "code",
   "execution_count": null,
   "metadata": {
    "collapsed": true
   },
   "outputs": [],
   "source": []
  }
 ],
 "metadata": {
  "kernelspec": {
   "display_name": "Python 3",
   "language": "python",
   "name": "python3"
  },
  "language_info": {
   "codemirror_mode": {
    "name": "ipython",
    "version": 3
   },
   "file_extension": ".py",
   "mimetype": "text/x-python",
   "name": "python",
   "nbconvert_exporter": "python",
   "pygments_lexer": "ipython3",
   "version": "3.5.2"
  }
 },
 "nbformat": 4,
 "nbformat_minor": 2
}
