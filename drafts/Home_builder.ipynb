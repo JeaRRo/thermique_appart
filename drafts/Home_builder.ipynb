{
 "cells": [
  {
   "cell_type": "markdown",
   "metadata": {},
   "source": [
    "### Windows prototype\n",
    "\n",
    "    * width, height\n",
    "    * orientation: angle, azi\n",
    "    * number of panel\n",
    "    \n",
    "    -> Aire, perimètre\n",
    "    \n",
    "        \n",
    "    * Rideau: state Open/close, eta\n",
    "    * Ventilation: state Open/close, Area open\n",
    "    "
   ]
  }
 ],
 "metadata": {
  "kernelspec": {
   "display_name": "Python 3",
   "language": "python",
   "name": "python3"
  },
  "language_info": {
   "codemirror_mode": {
    "name": "ipython",
    "version": 3
   },
   "file_extension": ".py",
   "mimetype": "text/x-python",
   "name": "python",
   "nbconvert_exporter": "python",
   "pygments_lexer": "ipython3",
   "version": "3.5.2"
  }
 },
 "nbformat": 4,
 "nbformat_minor": 2
}
