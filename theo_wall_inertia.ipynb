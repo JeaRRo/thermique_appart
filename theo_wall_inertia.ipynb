{
 "cells": [
  {
   "cell_type": "code",
   "execution_count": 1,
   "metadata": {
    "collapsed": true
   },
   "outputs": [],
   "source": [
    "import numpy as np\n",
    "import matplotlib.pyplot as plt\n",
    "%matplotlib inline"
   ]
  },
  {
   "cell_type": "markdown",
   "metadata": {},
   "source": [
    "# One-dimensional homogeneous problems in a semiinfinite medium\n",
    "\n",
    "page 54, \"HEAT CONDUCTION\", M. Özisik, 1980\n",
    "\n",
    "\n",
    "![schema 2.5](images/schema_heatconduction_semiinfiniteregion.png)\n",
    "\n",
    "\n",
    "La température extérieure est définie à zéro."
   ]
  },
  {
   "cell_type": "markdown",
   "metadata": {},
   "source": [
    "L'équation générale pour la température est :\n",
    "![eq 2.54](images/eq_2_54.png)\n",
    "\n",
    "\n",
    "![eq 2.54](images/tab_BC.png)\n"
   ]
  },
  {
   "cell_type": "code",
   "execution_count": 2,
   "metadata": {
    "collapsed": true
   },
   "outputs": [],
   "source": [
    "from scipy.integrate import quad"
   ]
  },
  {
   "cell_type": "code",
   "execution_count": 61,
   "metadata": {
    "collapsed": true
   },
   "outputs": [],
   "source": [
    "rhoCp = 1400e3 # densité*Capacité thermique, J/m3/K\n",
    "k = 1.75  #  conductivité, W/m/K\n",
    "\n",
    "alpha = k/rhoCp # diffusivité, s.m-2\n",
    "\n",
    "\n",
    "conditionlimite = 'T_fixe' # 'T_fixe', 'adia', '3thd'\n",
    "\n",
    "fun_F = lambda x: 100*np.exp( -x/0.3 )"
   ]
  },
  {
   "cell_type": "code",
   "execution_count": 62,
   "metadata": {
    "collapsed": true
   },
   "outputs": [],
   "source": [
    "I_right = lambda beta: quad(fun_F, 0, np.inf, weight='sin', wvar=beta )[0]"
   ]
  },
  {
   "cell_type": "code",
   "execution_count": 63,
   "metadata": {
    "collapsed": true
   },
   "outputs": [],
   "source": [
    "inv_N = 2.0 / np.pi\n",
    "fun_exp_t = lambda beta, t: np.exp( -alpha * beta**2 * t  )\n",
    "\n",
    "dI = lambda beta, t : fun_exp_t( beta, t ) *  inv_N * I_right( beta )\n",
    "\n",
    "Temperature = lambda x, t: quad( dI, 0, np.inf, weight='sin', wvar=x, args=(t,)  )[0]"
   ]
  },
  {
   "cell_type": "code",
   "execution_count": 64,
   "metadata": {},
   "outputs": [
    {
     "data": {
      "text/plain": [
       "3.617292223921722"
      ]
     },
     "execution_count": 64,
     "metadata": {},
     "output_type": "execute_result"
    }
   ],
   "source": [
    "Temperature( 1.0, 1000.0 )"
   ]
  },
  {
   "cell_type": "code",
   "execution_count": 65,
   "metadata": {},
   "outputs": [
    {
     "data": {
      "image/png": "[encoded data removed]",
      "text/plain": [
       "<matplotlib.figure.Figure at 0x7febe5ed6400>"
      ]
     },
     "metadata": {},
     "output_type": "display_data"
    }
   ],
   "source": [
    "x_span = np.linspace( 0 , 1, 15 )\n",
    "t_span = np.linspace( 0, 3600, 3 )\n",
    "\n",
    "for t in t_span:\n",
    "    Tx = []\n",
    "    for x in x_span:\n",
    "        Tx.append( Temperature(x, t) )\n",
    "    plt.plot( Tx )"
   ]
  },
  {
   "cell_type": "code",
   "execution_count": 66,
   "metadata": {},
   "outputs": [
    {
     "data": {
      "text/plain": [
       "9.0"
      ]
     },
     "execution_count": 66,
     "metadata": {},
     "output_type": "execute_result"
    }
   ],
   "source": [
    "I_right( 10 )"
   ]
  },
  {
   "cell_type": "markdown",
   "metadata": {
    "collapsed": true
   },
   "source": [
    "# Avec la transformé de Laplace\n",
    "\n",
    "page 275"
   ]
  },
  {
   "cell_type": "markdown",
   "metadata": {},
   "source": [
    "# Avec Odeint"
   ]
  },
  {
   "cell_type": "code",
   "execution_count": 416,
   "metadata": {
    "collapsed": true
   },
   "outputs": [],
   "source": [
    "L = 1 # m\n",
    "N = 20\n"
   ]
  },
  {
   "cell_type": "code",
   "execution_count": 417,
   "metadata": {},
   "outputs": [],
   "source": [
    "X = np.linspace( 0, L, N )\n",
    "\n",
    "dx = L/(N-1)\n",
    "T = np.zeros_like( X )"
   ]
  },
  {
   "cell_type": "code",
   "execution_count": 418,
   "metadata": {},
   "outputs": [],
   "source": [
    "Tzero = np.zeros_like( X )\n",
    "#Tzero = 1+Tzero"
   ]
  },
  {
   "cell_type": "code",
   "execution_count": 419,
   "metadata": {
    "collapsed": true
   },
   "outputs": [],
   "source": [
    "def flux_in( T, t ):\n",
    "    \"\"\" Flux entrant\n",
    "        T: Température de surface, °C\n",
    "        t: temps, sec\n",
    "    \"\"\"\n",
    "    w = 2*np.pi/( 60*60*24 )\n",
    "    F = 10*( 12*np.cos( w*t ) - T )\n",
    "    return F"
   ]
  },
  {
   "cell_type": "code",
   "execution_count": 420,
   "metadata": {},
   "outputs": [],
   "source": [
    "def Laplacien( U ):\n",
    "    \"\"\" Calcul le laplacien du vecteur U\n",
    "        avec des conditions aux limites adiabatiques \n",
    "    \"\"\"\n",
    "    d2Udx2 = np.zeros_like( U )\n",
    "    \n",
    "    U_i = U[1:-1]\n",
    "    U_im1 = U[0:-2]\n",
    "    U_ip1 = U[2:]\n",
    "\n",
    "    d2Udx2[1:-1] = ( U_ip1 + U_im1 -2*U_i )/dx**2\n",
    "    \n",
    "    d2Udx2[0] = -(U[0]-U[1])/dx\n",
    "    d2Udx2[-1] = (U[-2] - U[-1])/dx\n",
    "    \n",
    "    return d2Udx2"
   ]
  },
  {
   "cell_type": "code",
   "execution_count": 421,
   "metadata": {
    "collapsed": true
   },
   "outputs": [],
   "source": [
    "from scipy.integrate import odeint"
   ]
  },
  {
   "cell_type": "code",
   "execution_count": 422,
   "metadata": {
    "collapsed": true
   },
   "outputs": [],
   "source": [
    "def get_dTdt( T, t ):\n",
    "    dTdt = np.zeros_like( T )\n",
    "    \n",
    "    dTdt = alpha*Laplacien( T )\n",
    "\n",
    "    dTdt[0] += flux_in( T[0], t )\n",
    "\n",
    "    return dTdt"
   ]
  },
  {
   "cell_type": "code",
   "execution_count": 423,
   "metadata": {
    "collapsed": true
   },
   "outputs": [],
   "source": [
    "t_span = np.linspace(0, 24*60*60*2, 16)"
   ]
  },
  {
   "cell_type": "code",
   "execution_count": 424,
   "metadata": {},
   "outputs": [],
   "source": [
    "r = odeint(get_dTdt, Tzero, t_span)"
   ]
  },
  {
   "cell_type": "code",
   "execution_count": 428,
   "metadata": {},
   "outputs": [
    {
     "data": {
      "image/png": "[encoded data removed]",
      "text/plain": [
       "<matplotlib.figure.Figure at 0x7febd3cf5f28>"
      ]
     },
     "metadata": {},
     "output_type": "display_data"
    }
   ],
   "source": [
    "plt.plot( X, r.T );"
   ]
  },
  {
   "cell_type": "code",
   "execution_count": 426,
   "metadata": {},
   "outputs": [
    {
     "data": {
      "text/plain": [
       "(16, 20)"
      ]
     },
     "execution_count": 426,
     "metadata": {},
     "output_type": "execute_result"
    }
   ],
   "source": [
    "r.shape"
   ]
  },
  {
   "cell_type": "code",
   "execution_count": 303,
   "metadata": {},
   "outputs": [
    {
     "data": {
      "text/plain": [
       "[<matplotlib.lines.Line2D at 0x7febd3c7dd30>]"
      ]
     },
     "execution_count": 303,
     "metadata": {},
     "output_type": "execute_result"
    },
    {
     "data": {
      "image/png": "[encoded data removed]",
      "text/plain": [
       "<matplotlib.figure.Figure at 0x7febd3ada128>"
      ]
     },
     "metadata": {},
     "output_type": "display_data"
    }
   ],
   "source": [
    "plt.plot( r.sum(axis=1) )"
   ]
  },
  {
   "cell_type": "code",
   "execution_count": 258,
   "metadata": {},
   "outputs": [
    {
     "data": {
      "text/plain": [
       "array([[ 1.        ,  1.        ,  1.        ,  1.        ,  1.        ,\n",
       "         0.        ,  0.        ,  0.        ,  0.        ,  0.        ],\n",
       "       [ 0.6679076 ,  0.65252024,  0.62160112,  0.57829674,  0.5270164 ,\n",
       "         0.4729836 ,  0.42170326,  0.37839888,  0.34747976,  0.3320924 ],\n",
       "       [ 0.5444872 ,  0.54040977,  0.53221711,  0.52074353,  0.50715748,\n",
       "         0.49284252,  0.47925647,  0.46778289,  0.45959023,  0.4555128 ],\n",
       "       [ 0.51178674,  0.51070644,  0.50853582,  0.50549593,  0.50189635,\n",
       "         0.49810365,  0.49450407,  0.49146418,  0.48929356,  0.48821326],\n",
       "       [ 0.50312286,  0.50283664,  0.50226154,  0.50145613,  0.50050243,\n",
       "         0.49949757,  0.49854387,  0.49773846,  0.49716336,  0.49687714],\n",
       "       [ 0.5008274 ,  0.50075156,  0.50059919,  0.5003858 ,  0.50013312,\n",
       "         0.49986688,  0.4996142 ,  0.49940081,  0.49924844,  0.4991726 ]])"
      ]
     },
     "execution_count": 258,
     "metadata": {},
     "output_type": "execute_result"
    }
   ],
   "source": [
    "r"
   ]
  },
  {
   "cell_type": "code",
   "execution_count": null,
   "metadata": {
    "collapsed": true
   },
   "outputs": [],
   "source": []
  }
 ],
 "metadata": {
  "kernelspec": {
   "display_name": "Python 3",
   "language": "python",
   "name": "python3"
  },
  "language_info": {
   "codemirror_mode": {
    "name": "ipython",
    "version": 3
   },
   "file_extension": ".py",
   "mimetype": "text/x-python",
   "name": "python",
   "nbconvert_exporter": "python",
   "pygments_lexer": "ipython3",
   "version": "3.5.2"
  }
 },
 "nbformat": 4,
 "nbformat_minor": 2
}
