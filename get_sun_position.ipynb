{
 "cells": [
  {
   "cell_type": "code",
   "execution_count": 1,
   "metadata": {
    "collapsed": true
   },
   "outputs": [],
   "source": [
    "import numpy as np\n",
    "import matplotlib.pyplot as plt\n",
    "%matplotlib inline"
   ]
  },
  {
   "cell_type": "markdown",
   "metadata": {},
   "source": [
    "# Get the position of the Sun\n",
    "\n",
    "il y a une librairie : PySolar !\n",
    "\n",
    "http://pysolar.org/  \n",
    "http://docs.pysolar.org/en/latest/\n",
    "\n",
    "     pip install pysolar\n",
    "\n",
    "\n",
    "Rq: voir aussi une app js en ligne: http://suncalc.net/ "
   ]
  },
  {
   "cell_type": "code",
   "execution_count": 2,
   "metadata": {
    "collapsed": true
   },
   "outputs": [],
   "source": [
    "map_coords = (45.1973288, 5.7103223) #( 45.166672, 5.71667 ) "
   ]
  },
  {
   "cell_type": "code",
   "execution_count": 3,
   "metadata": {},
   "outputs": [],
   "source": [
    "import pysolar.solar as solar\n",
    "import datetime as dt"
   ]
  },
  {
   "cell_type": "code",
   "execution_count": 4,
   "metadata": {
    "collapsed": true
   },
   "outputs": [],
   "source": [
    "d = dt.datetime.now()\n",
    "d = dt.datetime(2017, 6, 20, 13, 30, 0, 130320)"
   ]
  },
  {
   "cell_type": "code",
   "execution_count": 5,
   "metadata": {},
   "outputs": [
    {
     "name": "stderr",
     "output_type": "stream",
     "text": [
      "/home/etienne/Projets/thermique_appart/py3/lib/python3.5/site-packages/pysolar/time.py:105: UserWarning: I don't know about leap seconds after 2015\n",
      "  (leap_seconds_base_year + len(leap_seconds_adjustments) - 1)\n"
     ]
    },
    {
     "data": {
      "text/plain": [
       "68.16881437084149"
      ]
     },
     "execution_count": 5,
     "metadata": {},
     "output_type": "execute_result"
    }
   ],
   "source": [
    "solar.get_altitude( *map_coords, d)"
   ]
  },
  {
   "cell_type": "code",
   "execution_count": 6,
   "metadata": {},
   "outputs": [
    {
     "name": "stderr",
     "output_type": "stream",
     "text": [
      "/home/etienne/Projets/thermique_appart/py3/lib/python3.5/site-packages/pysolar/time.py:105: UserWarning: I don't know about leap seconds after 2015\n",
      "  (leap_seconds_base_year + len(leap_seconds_adjustments) - 1)\n"
     ]
    },
    {
     "data": {
      "text/plain": [
       "-354.60975005786054"
      ]
     },
     "execution_count": 6,
     "metadata": {},
     "output_type": "execute_result"
    }
   ],
   "source": [
    "solar.get_azimuth(*map_coords, d)"
   ]
  },
  {
   "cell_type": "code",
   "execution_count": 7,
   "metadata": {},
   "outputs": [
    {
     "name": "stderr",
     "output_type": "stream",
     "text": [
      "/home/etienne/Projets/thermique_appart/py3/lib/python3.5/site-packages/pysolar/time.py:105: UserWarning: I don't know about leap seconds after 2015\n",
      "  (leap_seconds_base_year + len(leap_seconds_adjustments) - 1)\n"
     ]
    }
   ],
   "source": [
    "Alt = [ solar.get_altitude(*map_coords, dt.datetime(2017, 12, 21, h, 0, 0, 0)) for h in range(0, 24) ]\n",
    "Az = [ solar.get_azimuth(*map_coords, dt.datetime(2017, 12, 21, h, 0, 0, 0)) for h in range(0, 24) ]"
   ]
  },
  {
   "cell_type": "code",
   "execution_count": 8,
   "metadata": {
    "collapsed": true
   },
   "outputs": [],
   "source": [
    "Az = np.array( Az )\n",
    "\n",
    "Az[ Az < -180 ] = Az[ Az < -180 ]+360"
   ]
  },
  {
   "cell_type": "code",
   "execution_count": 9,
   "metadata": {},
   "outputs": [
    {
     "data": {
      "image/png": "[encoded data removed]",
      "text/plain": [
       "<matplotlib.figure.Figure at 0x7fd36b127630>"
      ]
     },
     "metadata": {},
     "output_type": "display_data"
    }
   ],
   "source": [
    "plt.plot( Alt )\n",
    "plt.plot( Az )\n",
    "plt.plot([0, 24], [0, 0], ':'); plt.ylim([-120, 120]); plt.xlabel('hour of the day');"
   ]
  },
  {
   "cell_type": "code",
   "execution_count": 10,
   "metadata": {
    "collapsed": true
   },
   "outputs": [],
   "source": [
    "import pysolar.radiation as radiation"
   ]
  },
  {
   "cell_type": "code",
   "execution_count": 11,
   "metadata": {},
   "outputs": [
    {
     "data": {
      "text/plain": [
       "864.9821032273021"
      ]
     },
     "execution_count": 11,
     "metadata": {},
     "output_type": "execute_result"
    }
   ],
   "source": [
    "radiation.get_radiation_direct( d, 65 )   # W/m2"
   ]
  },
  {
   "cell_type": "markdown",
   "metadata": {},
   "source": [
    "**Remarque:** Le flux solaire au dessus de l'atmosphère est de F = 1 360,8  W/m2\n",
    "    \n",
    "https://fr.wikipedia.org/wiki/Constante_solaire"
   ]
  },
  {
   "cell_type": "markdown",
   "metadata": {},
   "source": [
    "### Avec l'horizon"
   ]
  },
  {
   "cell_type": "code",
   "execution_count": 12,
   "metadata": {
    "collapsed": true
   },
   "outputs": [],
   "source": [
    "from numpy import genfromtxt"
   ]
  },
  {
   "cell_type": "code",
   "execution_count": 13,
   "metadata": {
    "collapsed": true
   },
   "outputs": [],
   "source": [
    "horizon_data = genfromtxt('horizon.csv', delimiter=',').T"
   ]
  },
  {
   "cell_type": "code",
   "execution_count": 14,
   "metadata": {},
   "outputs": [
    {
     "data": {
      "text/plain": [
       "array([[-180.    , -179.5   , -179.    , ...,  179.    ,  179.5   ,  180.    ],\n",
       "       [   6.6451,   14.0111,   14.4924, ...,   12.8084,   13.0535,\n",
       "          13.5404]])"
      ]
     },
     "execution_count": 14,
     "metadata": {},
     "output_type": "execute_result"
    }
   ],
   "source": [
    "horizon_data"
   ]
  },
  {
   "cell_type": "code",
   "execution_count": 53,
   "metadata": {
    "collapsed": true
   },
   "outputs": [],
   "source": [
    "def isUpperHorizon( azimuth, altitude_deg ):\n",
    "    h = np.interp(-azimuth, horizon_data[0, :], horizon_data[1, :])\n",
    "\n",
    "    if h > altitude_deg:\n",
    "        return 0\n",
    "    else:\n",
    "        return 1"
   ]
  },
  {
   "cell_type": "code",
   "execution_count": 54,
   "metadata": {},
   "outputs": [
    {
     "data": {
      "text/plain": [
       "1"
      ]
     },
     "execution_count": 54,
     "metadata": {},
     "output_type": "execute_result"
    }
   ],
   "source": [
    "isUpperHorizon( 20, 2 )"
   ]
  },
  {
   "cell_type": "code",
   "execution_count": 55,
   "metadata": {},
   "outputs": [
    {
     "data": {
      "text/plain": [
       "15.9122"
      ]
     },
     "execution_count": 55,
     "metadata": {},
     "output_type": "execute_result"
    }
   ],
   "source": [
    "horizon_data[1, :].max()"
   ]
  },
  {
   "cell_type": "markdown",
   "metadata": {},
   "source": [
    "## Projection sur une surface inclinée \n",
    "http://www.a-ghadimi.com/files/Courses/Renewable%20Energy/REN_Book.pdf\n",
    "\n",
    "page 414"
   ]
  },
  {
   "cell_type": "code",
   "execution_count": 56,
   "metadata": {
    "collapsed": true
   },
   "outputs": [],
   "source": [
    "import math\n",
    "import pysolar.radiation as radiation\n",
    "import pysolar.solar as solar\n",
    "import datetime as dt"
   ]
  },
  {
   "cell_type": "code",
   "execution_count": 57,
   "metadata": {
    "collapsed": true
   },
   "outputs": [],
   "source": [
    "def get_radiation_direct(d, alt):\n",
    "    if alt>0:\n",
    "        return radiation.get_radiation_direct( d, alt )   # W/m2\n",
    "    else:\n",
    "        return 0\n",
    "    \n",
    "def get_flux_surface( coords, date, sigma, phi_C ):\n",
    "    # Surface orientation \n",
    "    # sigma : deg, vertical angle of the surface, ref. to the horizontal\n",
    "    # phi_C : deg, azimuth, relative to south, with positive values in the southeast direction and negative values in\n",
    "    # the southwest\n",
    "    \n",
    "    # Sun position\n",
    "    phi_S_deg = solar.get_azimuth( *coords, date ) # deg, azimuth of the sun,relative to south\n",
    "    beta_deg = solar.get_altitude( *coords, date ) # deg, altitude angle of the sun\n",
    "    \n",
    "    I0 = get_radiation_direct( d, beta_deg )   # W/m2\n",
    "    I0 = I0* isUpperHorizon( phi_S_deg, beta_deg )\n",
    "    \n",
    "    beta = beta_deg*math.pi/180  # rad\n",
    "    phi_S = phi_S_deg*math.pi/180  #rad\n",
    "    sigma = sigma*math.pi/180\n",
    "    phi_C = phi_C*math.pi/180\n",
    "    \n",
    "    cosTheta = math.cos(beta)*math.cos( phi_S - phi_C )*math.sin( sigma ) + math.cos( sigma )*math.sin( beta )\n",
    "    \n",
    "    if cosTheta >0 :\n",
    "        Isurf = I0*cosTheta   # flux projeté, W/m2\n",
    "    else:\n",
    "        Isurf = 0  # mais diffuse... \n",
    "        \n",
    "    return Isurf\n",
    "\n",
    "def get_flux_total( coords, date ):\n",
    "    # Sun position\n",
    "    beta_deg = solar.get_altitude( *coords, date ) # deg, altitude angle of the sun\n",
    "    \n",
    "    I0 = get_radiation_direct( d, beta_deg )   # W/m2\n",
    "        \n",
    "    return I0"
   ]
  },
  {
   "cell_type": "code",
   "execution_count": 58,
   "metadata": {},
   "outputs": [
    {
     "data": {
      "text/plain": [
       "0"
      ]
     },
     "execution_count": 58,
     "metadata": {},
     "output_type": "execute_result"
    }
   ],
   "source": [
    "get_radiation_direct( d, -4 )"
   ]
  },
  {
   "cell_type": "code",
   "execution_count": 59,
   "metadata": {},
   "outputs": [
    {
     "name": "stdout",
     "output_type": "stream",
     "text": [
      "814.1677834421273\n"
     ]
    },
    {
     "name": "stderr",
     "output_type": "stream",
     "text": [
      "/home/etienne/Projets/thermique_appart/py3/lib/python3.5/site-packages/pysolar/time.py:105: UserWarning: I don't know about leap seconds after 2015\n",
      "  (leap_seconds_base_year + len(leap_seconds_adjustments) - 1)\n"
     ]
    }
   ],
   "source": [
    "d = dt.datetime(2017, 6, 22, 11, 0, 0, 0)\n",
    "sigma = 37\n",
    "phi_C = 50\n",
    "\n",
    "F = get_flux_surface( map_coords, d, sigma, phi_C )\n",
    "print( F )\n"
   ]
  },
  {
   "cell_type": "code",
   "execution_count": 60,
   "metadata": {
    "collapsed": true
   },
   "outputs": [],
   "source": [
    "import pandas as pd"
   ]
  },
  {
   "cell_type": "code",
   "execution_count": 61,
   "metadata": {
    "collapsed": true
   },
   "outputs": [],
   "source": [
    "start =  dt.datetime(2017, 6, 22, 0, 0, 0, 0)\n",
    "end =  dt.datetime(2017, 6, 22, 23, 59, 0, 0)\n",
    "\n",
    "d_range = pd.date_range( start=start, end=end, freq='5min' )"
   ]
  },
  {
   "cell_type": "code",
   "execution_count": 62,
   "metadata": {},
   "outputs": [
    {
     "name": "stderr",
     "output_type": "stream",
     "text": [
      "/home/etienne/Projets/thermique_appart/py3/lib/python3.5/site-packages/pysolar/time.py:105: UserWarning: I don't know about leap seconds after 2015\n",
      "  (leap_seconds_base_year + len(leap_seconds_adjustments) - 1)\n"
     ]
    }
   ],
   "source": [
    "F_tot = [ get_flux_total(map_coords, d ) for d in d_range ]\n",
    "F_est = [ get_flux_surface(map_coords, d, sigma, phi_C ) for  d in d_range ]\n",
    "F_ouest = [ get_flux_surface(map_coords, d, sigma, phi_C+180 ) for d in d_range ]\n",
    "F_sud = [ get_flux_surface(map_coords, d, 90, phi_C-90 ) for d in d_range ]"
   ]
  },
  {
   "cell_type": "code",
   "execution_count": 63,
   "metadata": {},
   "outputs": [
    {
     "data": {
      "image/png": "[encoded data removed]",
      "text/plain": [
       "<matplotlib.figure.Figure at 0x7fd36523bf60>"
      ]
     },
     "metadata": {},
     "output_type": "display_data"
    }
   ],
   "source": [
    "x = d_range.hour + d_range.minute/60\n",
    "\n",
    "plt.figure(figsize=(12, 5))\n",
    "plt.plot( x, F_est )\n",
    "plt.plot( x, F_ouest )\n",
    "plt.plot( x, F_sud )\n",
    "plt.plot( x, F_tot, 'k:' )\n",
    "plt.xlabel('hour of the day');\n",
    "plt.ylabel('flux solaire projeté');"
   ]
  },
  {
   "cell_type": "code",
   "execution_count": 64,
   "metadata": {},
   "outputs": [
    {
     "data": {
      "text/plain": [
       "Float64Index([            0.0, 0.0833333333333,  0.166666666667,\n",
       "                         0.25,  0.333333333333,  0.416666666667,\n",
       "                          0.5,  0.583333333333,  0.666666666667,\n",
       "                         0.75,\n",
       "              ...\n",
       "                23.1666666667,           23.25,   23.3333333333,\n",
       "                23.4166666667,            23.5,   23.5833333333,\n",
       "                23.6666666667,           23.75,   23.8333333333,\n",
       "                23.9166666667],\n",
       "             dtype='float64', length=288)"
      ]
     },
     "execution_count": 64,
     "metadata": {},
     "output_type": "execute_result"
    }
   ],
   "source": [
    "d_range.hour + d_range.minute/60"
   ]
  },
  {
   "cell_type": "code",
   "execution_count": null,
   "metadata": {
    "collapsed": true
   },
   "outputs": [],
   "source": [
    "# Sun position\n",
    "phi_S = solar.get_azimuth( *map_coords, d ) # deg, azimuth of the sun,relative to south\n",
    "beta = solar.get_altitude( *map_coords, d ) # deg, altitude angle of the sun\n",
    "\n",
    "I0 = radiation.get_radiation_direct( d, 65 )   # W/m2\n",
    "\n",
    "cosTheta = math.cos(beta)*math.cos( phi_S - phi_C )*math.sin( sigma ) + math.cos( sigma )*math.sin( beta )\n",
    "\n",
    "Isurf = I0*cosTheta   # flux projeté, W/m2"
   ]
  },
  {
   "cell_type": "code",
   "execution_count": null,
   "metadata": {
    "collapsed": true
   },
   "outputs": [],
   "source": [
    "cosTheta"
   ]
  },
  {
   "cell_type": "markdown",
   "metadata": {},
   "source": [
    "## Verif"
   ]
  },
  {
   "cell_type": "code",
   "execution_count": 51,
   "metadata": {},
   "outputs": [
    {
     "name": "stderr",
     "output_type": "stream",
     "text": [
      "/home/etienne/Projets/thermique_appart/py3/lib/python3.5/site-packages/pysolar/time.py:105: UserWarning: I don't know about leap seconds after 2015\n",
      "  (leap_seconds_base_year + len(leap_seconds_adjustments) - 1)\n"
     ]
    }
   ],
   "source": [
    "Azi = np.array( [ solar.get_azimuth( *map_coords, d ) for d in d_range ] )\n",
    "\n",
    "Azi[ Azi < -180 ] = Azi[ Azi < -180 ]+360\n",
    "\n",
    "Alt = [ solar.get_altitude( *map_coords, d ) for d in d_range ]\n",
    "Hor = [ np.interp(-a, horizon_data[0, :], horizon_data[1, :]) for a in Azi ]"
   ]
  },
  {
   "cell_type": "code",
   "execution_count": 65,
   "metadata": {},
   "outputs": [
    {
     "data": {
      "image/png": "[encoded data removed]",
      "text/plain": [
       "<matplotlib.figure.Figure at 0x7fd364ff4b00>"
      ]
     },
     "metadata": {},
     "output_type": "display_data"
    }
   ],
   "source": [
    "plt.plot( Azi, Hor )\n",
    "plt.plot( Azi, Alt )\n",
    "plt.ylim([0, 80]);"
   ]
  },
  {
   "cell_type": "code",
   "execution_count": 40,
   "metadata": {},
   "outputs": [
    {
     "data": {
      "text/plain": [
       "[-156.20139906919525,\n",
       " -157.35005412193766,\n",
       " -158.50626305301813,\n",
       " -159.66977583554535,\n",
       " -160.84032129275806,\n",
       " -162.01760706071286,\n",
       " -163.2013202892822,\n",
       " -164.3911284786617,\n",
       " -165.58667980207406,\n",
       " -166.78760337810354,\n",
       " -167.99351127919272,\n",
       " -169.20399824350483,\n",
       " -170.41864393032074,\n",
       " -171.63701366551788,\n",
       " -172.85865945476417,\n",
       " -174.0831217431234,\n",
       " -175.3099312738409,\n",
       " -176.53861036636567,\n",
       " -177.7686740900823,\n",
       " -178.99963314665303,\n",
       " -180.23099431445462,\n",
       " -181.4622634019026,\n",
       " -182.6929465526473,\n",
       " -183.92255172060993,\n",
       " -185.1505907835824,\n",
       " -186.376581627983,\n",
       " -187.6000495253354,\n",
       " -188.8205282872421,\n",
       " -190.03756299230065,\n",
       " -191.25071016842116,\n",
       " -192.45954034286058,\n",
       " -193.66363884596774,\n",
       " -194.8626066822876,\n",
       " -196.05606193441406,\n",
       " -197.2436410398381,\n",
       " -198.42499930366728,\n",
       " -199.5998111378948,\n",
       " -200.76777176092457,\n",
       " -201.92859640330153,\n",
       " -203.08202176074508,\n",
       " -204.22780574979214,\n",
       " -205.3657273300792,\n",
       " -206.49558683395963,\n",
       " -207.61720618938784,\n",
       " -208.73042844029828,\n",
       " -209.8351170463444,\n",
       " -210.93115659567923,\n",
       " -212.01845121687666,\n",
       " -213.0969251540597,\n",
       " -214.16652180272058,\n",
       " -215.22720287024498,\n",
       " -216.27894807093526,\n",
       " -217.32175478073924,\n",
       " -218.35563710045278,\n",
       " -219.38062477800514,\n",
       " -220.39676350304148,\n",
       " -221.40411312531432,\n",
       " -222.40274793706425,\n",
       " -223.39275558242872,\n",
       " -224.37423613539914,\n",
       " -225.3473017210249,\n",
       " -226.31207614437665,\n",
       " -227.26869401432361,\n",
       " -228.21729977556117,\n",
       " -229.15804804547076,\n",
       " -230.0911020613853,\n",
       " -231.0166340667438,\n",
       " -231.93482445221684,\n",
       " -232.8458610726451,\n",
       " -233.74993909032253,\n",
       " -234.64726084030235,\n",
       " -235.5380352428814,\n",
       " -236.42247714088387,\n",
       " -237.30080786331342,\n",
       " -238.17325403644872,\n",
       " -239.04004821067826,\n",
       " -239.90142833164504,\n",
       " -240.7576373794493,\n",
       " -241.6089235017755,\n",
       " -242.45554017641382,\n",
       " -243.2977459489847,\n",
       " -244.1358040988407,\n",
       " -244.96998346809346,\n",
       " -245.80055763313987,\n",
       " -246.62780580004198,\n",
       " -247.45201260666448,\n",
       " -248.27346808370476,\n",
       " -249.09246809097948,\n",
       " -249.90931478949653,\n",
       " -250.72431671027516,\n",
       " -251.5377887549974,\n",
       " -252.35005333117527,\n",
       " -253.16143988772149,\n",
       " -253.97228613463642,\n",
       " -254.7829382112492,\n",
       " -255.5937510164813,\n",
       " -256.4050890192869,\n",
       " -257.2173271243097,\n",
       " -258.0308511560977,\n",
       " -258.84605828870133,\n",
       " -259.6633586318204,\n",
       " -260.483175239222,\n",
       " -261.3059458329814,\n",
       " -262.1321235013468,\n",
       " -262.9621775850769,\n",
       " -263.7965950840915,\n",
       " -264.63588216629756,\n",
       " -265.4805653218719,\n",
       " -266.3311924975839,\n",
       " -267.18833548127566,\n",
       " -268.05259069172996,\n",
       " -268.924581814221,\n",
       " -269.804961420037,\n",
       " -270.69441283440744,\n",
       " -271.5936526205852,\n",
       " -272.5034332419655,\n",
       " -273.42454541330324,\n",
       " -274.35782048548265,\n",
       " -275.30413426673204,\n",
       " -276.26440916419153,\n",
       " -277.2396184191195,\n",
       " -278.23078928621516,\n",
       " -279.23900652909686,\n",
       " -280.2654166470604,\n",
       " -281.31123233822086,\n",
       " -282.37773661195524,\n",
       " -283.46628689825593,\n",
       " -284.5783207590459,\n",
       " -285.71535953267534,\n",
       " -286.8790142434359,\n",
       " -288.0709900208732,\n",
       " -289.2930905144394,\n",
       " -290.5472226930756,\n",
       " -291.83540129712713,\n",
       " -293.1597520210164,\n",
       " -294.5225135893899,\n",
       " -295.9260404640481,\n",
       " -297.3728012478157,\n",
       " -298.86537780810784,\n",
       " -300.4064599155375,\n",
       " -301.9988366799742,\n",
       " -303.6453846646933,\n",
       " -305.3490510470962,\n",
       " -307.11282981207773,\n",
       " -308.9397303546193,\n",
       " -310.83274002923986,\n",
       " -312.7947733153134,\n",
       " -314.82861377341555,\n",
       " -316.93684155002234,\n",
       " -319.1217483665292,\n",
       " -321.3852408082546,\n",
       " -323.72873159613414,\n",
       " -326.15301923986135,\n",
       " -328.6581598781793,\n",
       " -331.24333981319705,\n",
       " -333.90674685447243,\n",
       " -336.6454587568994,\n",
       " -339.455349855456,\n",
       " -342.3310299966889,\n",
       " -345.2658273721938,\n",
       " -348.2518228677702,\n",
       " -351.2799404332475,\n",
       " -354.3400966044012,\n",
       " -357.42141068257615,\n",
       " -0.5124566423625652,\n",
       " -3.601555263857165,\n",
       " -6.6770784480643215,\n",
       " -9.727750660838922,\n",
       " -12.742929491072857,\n",
       " -15.712847027596297,\n",
       " -18.628798220145057,\n",
       " -21.483270737734557,\n",
       " -24.270019199406136,\n",
       " -26.984077685052057,\n",
       " -29.621729311914663,\n",
       " -32.18043292345092,\n",
       " -34.65872175510006,\n",
       " -37.05608519970872,\n",
       " -39.37284137292809,\n",
       " -41.610006889429286,\n",
       " -43.76917087935121,\n",
       " -45.85238047061597,\n",
       " -47.862033005093,\n",
       " -49.80078503690797,\n",
       " -51.67147127754052,\n",
       " -53.47703643508984,\n",
       " -55.22047971280202,\n",
       " -56.90480976136834,\n",
       " -58.53300800118919,\n",
       " -60.107999894094775,\n",
       " -61.63263520619154,\n",
       " -63.10967079522936,\n",
       " -64.54176127356624,\n",
       " -65.93145141137421,\n",
       " -67.2811719138686,\n",
       " -68.59323837487472,\n",
       " -69.86985205835981,\n",
       " -71.11310140476618,\n",
       " -72.32496450130961,\n",
       " -73.50731396441779,\n",
       " -74.66191989122802,\n",
       " -75.79045558240489,\n",
       " -76.89450183780895,\n",
       " -77.97555154360612,\n",
       " -79.03501484022092,\n",
       " -80.07422418038863,\n",
       " -81.09443868745609,\n",
       " -82.09684825040426,\n",
       " -83.08257878897291,\n",
       " -84.05269528727007,\n",
       " -85.0082066336451,\n",
       " -85.9500689061274,\n",
       " -86.87918861406604,\n",
       " -87.79642623564229,\n",
       " -88.70259954221655,\n",
       " -89.59848623109991,\n",
       " -90.48482627354161,\n",
       " -91.36232528231761,\n",
       " -92.23165591987879,\n",
       " -93.09346093326059,\n",
       " -93.94835484981775,\n",
       " -94.7969256710087,\n",
       " -95.63973689150777,\n",
       " -96.47732938927635,\n",
       " -97.31022274674075,\n",
       " -98.13891636083332,\n",
       " -98.96389156863881,\n",
       " -99.7856120058014,\n",
       " -100.60452554763606,\n",
       " -101.42106505232698,\n",
       " -102.2356491482928,\n",
       " -103.04868338386217,\n",
       " -103.86056130924004,\n",
       " -104.67166505726095,\n",
       " -105.48236575562527,\n",
       " -106.29302497260619,\n",
       " -107.10399447418592,\n",
       " -107.91561756648059,\n",
       " -108.72822929645776,\n",
       " -109.54215671919542,\n",
       " -110.3577195524332,\n",
       " -111.17523079388872,\n",
       " -111.99499685943454,\n",
       " -112.81731756629449,\n",
       " -113.64248718247222,\n",
       " -114.47079378201755,\n",
       " -115.30252022498615,\n",
       " -116.13794399110157,\n",
       " -116.97733708799836,\n",
       " -117.82096636582912,\n",
       " -118.66909380990722,\n",
       " -119.52197634291406,\n",
       " -120.37986546988861,\n",
       " -121.24300804004173,\n",
       " -122.11164524748449,\n",
       " -122.98601333207728,\n",
       " -123.86634308667743,\n",
       " -124.75285944069714,\n",
       " -125.64578147567414,\n",
       " -126.54532241964648,\n",
       " -127.45168912844497,\n",
       " -128.3650813971782,\n",
       " -129.28569246312315,\n",
       " -130.21370763756147,\n",
       " -131.14930475223366,\n",
       " -132.0926533383443,\n",
       " -133.04391388974574,\n",
       " -134.0032375953656,\n",
       " -134.97076605923348,\n",
       " -135.9466304792477,\n",
       " -136.93095065316686,\n",
       " -137.92383528227458,\n",
       " -138.92538027588114,\n",
       " -139.9356690307912,\n",
       " -140.95477136656177,\n",
       " -141.98274257552566,\n",
       " -143.01962300829643,\n",
       " -144.06543767829794,\n",
       " -145.1201953166422,\n",
       " -146.1838872793736,\n",
       " -147.25648790018784,\n",
       " -148.3379527293896,\n",
       " -149.42821895700968,\n",
       " -150.52720443715907,\n",
       " -151.63480689478138,\n",
       " -152.7509037688402,\n",
       " -153.8753521390306,\n",
       " -155.00798812492582]"
      ]
     },
     "execution_count": 40,
     "metadata": {},
     "output_type": "execute_result"
    }
   ],
   "source": [
    "Azi"
   ]
  },
  {
   "cell_type": "code",
   "execution_count": null,
   "metadata": {
    "collapsed": true
   },
   "outputs": [],
   "source": []
  }
 ],
 "metadata": {
  "kernelspec": {
   "display_name": "Python 3",
   "language": "python",
   "name": "python3"
  },
  "language_info": {
   "codemirror_mode": {
    "name": "ipython",
    "version": 3
   },
   "file_extension": ".py",
   "mimetype": "text/x-python",
   "name": "python",
   "nbconvert_exporter": "python",
   "pygments_lexer": "ipython3",
   "version": "3.5.2"
  }
 },
 "nbformat": 4,
 "nbformat_minor": 2
}
