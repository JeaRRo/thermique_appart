{
 "cells": [
  {
   "cell_type": "code",
   "execution_count": 75,
   "metadata": {
    "collapsed": true
   },
   "outputs": [],
   "source": [
    "import numpy as np\n",
    "import matplotlib.pyplot as plt\n",
    "%matplotlib inline"
   ]
  },
  {
   "cell_type": "markdown",
   "metadata": {},
   "source": [
    "# Get the position of the Sun\n",
    "\n",
    "il y a une librairie : PySolar !\n",
    "\n",
    "http://pysolar.org/  \n",
    "http://docs.pysolar.org/en/latest/\n",
    "\n",
    "     pip install pysolar\n",
    "\n",
    "\n",
    "Rq: voir aussi une app js en ligne: http://suncalc.net/ "
   ]
  },
  {
   "cell_type": "code",
   "execution_count": 10,
   "metadata": {
    "collapsed": true
   },
   "outputs": [],
   "source": [
    "map_coords = ( 45.166672, 5.71667 ) "
   ]
  },
  {
   "cell_type": "code",
   "execution_count": 11,
   "metadata": {
    "collapsed": true
   },
   "outputs": [],
   "source": [
    "import pysolar.solar as solar\n",
    "import datetime as dt"
   ]
  },
  {
   "cell_type": "code",
   "execution_count": 70,
   "metadata": {},
   "outputs": [],
   "source": [
    "d = dt.datetime.now()\n",
    "d = dt.datetime(2017, 6, 20, 13, 30, 0, 130320)"
   ]
  },
  {
   "cell_type": "code",
   "execution_count": 71,
   "metadata": {},
   "outputs": [
    {
     "name": "stderr",
     "output_type": "stream",
     "text": [
      "/home/etienne/Projets/thermique_appart/py3/lib/python3.5/site-packages/pysolar/time.py:105: UserWarning: I don't know about leap seconds after 2015\n",
      "  (leap_seconds_base_year + len(leap_seconds_adjustments) - 1)\n"
     ]
    },
    {
     "data": {
      "text/plain": [
       "68.1997458366544"
      ]
     },
     "execution_count": 71,
     "metadata": {},
     "output_type": "execute_result"
    }
   ],
   "source": [
    "solar.get_altitude( *map_coords, d)"
   ]
  },
  {
   "cell_type": "code",
   "execution_count": 72,
   "metadata": {},
   "outputs": [
    {
     "name": "stderr",
     "output_type": "stream",
     "text": [
      "/home/etienne/Projets/thermique_appart/py3/lib/python3.5/site-packages/pysolar/time.py:105: UserWarning: I don't know about leap seconds after 2015\n",
      "  (leap_seconds_base_year + len(leap_seconds_adjustments) - 1)\n"
     ]
    },
    {
     "data": {
      "text/plain": [
       "-354.6181910681082"
      ]
     },
     "execution_count": 72,
     "metadata": {},
     "output_type": "execute_result"
    }
   ],
   "source": [
    "solar.get_azimuth(*map_coords, d)"
   ]
  },
  {
   "cell_type": "code",
   "execution_count": 157,
   "metadata": {},
   "outputs": [
    {
     "name": "stderr",
     "output_type": "stream",
     "text": [
      "/home/etienne/Projets/thermique_appart/py3/lib/python3.5/site-packages/pysolar/time.py:105: UserWarning: I don't know about leap seconds after 2015\n",
      "  (leap_seconds_base_year + len(leap_seconds_adjustments) - 1)\n"
     ]
    }
   ],
   "source": [
    "Alt = [ solar.get_altitude(*map_coords, dt.datetime(2017, 12, 21, h, 0, 0, 0)) for h in range(0, 24) ]\n",
    "Az = [ solar.get_azimuth(*map_coords, dt.datetime(2017, 12, 21, h, 0, 0, 0)) for h in range(0, 24) ]"
   ]
  },
  {
   "cell_type": "code",
   "execution_count": 158,
   "metadata": {
    "collapsed": true
   },
   "outputs": [],
   "source": [
    "Az = np.array( Az )\n",
    "\n",
    "Az[ Az < -180 ] = Az[ Az < -180 ]+360"
   ]
  },
  {
   "cell_type": "code",
   "execution_count": 159,
   "metadata": {},
   "outputs": [
    {
     "data": {
      "image/png": "[encoded data removed]",
      "text/plain": [
       "<matplotlib.figure.Figure at 0x7f3f3fb26400>"
      ]
     },
     "metadata": {},
     "output_type": "display_data"
    }
   ],
   "source": [
    "plt.plot( Alt )\n",
    "plt.plot( Az )\n",
    "plt.plot([0, 24], [0, 0], ':'); plt.ylim([-120, 120]); plt.xlabel('hour of the day');"
   ]
  },
  {
   "cell_type": "code",
   "execution_count": 33,
   "metadata": {
    "collapsed": true
   },
   "outputs": [],
   "source": [
    "import pysolar.radiation as radiation"
   ]
  },
  {
   "cell_type": "code",
   "execution_count": 66,
   "metadata": {},
   "outputs": [
    {
     "data": {
      "text/plain": [
       "864.9821032273021"
      ]
     },
     "execution_count": 66,
     "metadata": {},
     "output_type": "execute_result"
    }
   ],
   "source": [
    "radiation.get_radiation_direct( d, 65 )   # W/m2"
   ]
  },
  {
   "cell_type": "markdown",
   "metadata": {},
   "source": [
    "**Remarque:** Le flux solaire au dessus de l'atmosphère est de F = 1 360,8  W/m2\n",
    "    \n",
    "https://fr.wikipedia.org/wiki/Constante_solaire"
   ]
  },
  {
   "cell_type": "markdown",
   "metadata": {},
   "source": [
    "## Projection sur une surface inclinée \n",
    "http://www.a-ghadimi.com/files/Courses/Renewable%20Energy/REN_Book.pdf\n",
    "\n",
    "page 414"
   ]
  },
  {
   "cell_type": "code",
   "execution_count": 177,
   "metadata": {
    "collapsed": true
   },
   "outputs": [],
   "source": [
    "import math\n",
    "import pysolar.radiation as radiation\n",
    "import pysolar.solar as solar\n",
    "import datetime as dt"
   ]
  },
  {
   "cell_type": "code",
   "execution_count": 309,
   "metadata": {},
   "outputs": [],
   "source": [
    "def get_radiation_direct(d, alt):\n",
    "    if alt>0:\n",
    "        return radiation.get_radiation_direct( d, alt )   # W/m2\n",
    "    else:\n",
    "        return 0\n",
    "    \n",
    "def get_flux_surface( coords, date, sigma, phi_C ):\n",
    "    # Surface orientation \n",
    "    # sigma : deg, vertical angle of the surface, ref. to the horizontal\n",
    "    # phi_C : deg, azimuth, relative to south, with positive values in the southeast direction and negative values in\n",
    "    # the southwest\n",
    "    \n",
    "    # Sun position\n",
    "    phi_S_deg = solar.get_azimuth( *coords, date ) # deg, azimuth of the sun,relative to south\n",
    "    beta_deg = solar.get_altitude( *coords, date ) # deg, altitude angle of the sun\n",
    "    \n",
    "    I0 = get_radiation_direct( d, beta_deg )   # W/m2\n",
    "    \n",
    "    beta = beta_deg*math.pi/180  # rad\n",
    "    phi_S = phi_S_deg*math.pi/180  #rad\n",
    "    sigma = sigma*math.pi/180\n",
    "    phi_C = phi_C*math.pi/180\n",
    "    \n",
    "    cosTheta = math.cos(beta)*math.cos( phi_S - phi_C )*math.sin( sigma ) + math.cos( sigma )*math.sin( beta )\n",
    "    \n",
    "    if cosTheta >0 :\n",
    "        Isurf = I0*cosTheta   # flux projeté, W/m2\n",
    "    else:\n",
    "        Isurf = 0  # mais diffuse... \n",
    "        \n",
    "    return Isurf\n",
    "\n",
    "def get_flux_total( coords, date ):\n",
    "    # Sun position\n",
    "    beta_deg = solar.get_altitude( *coords, date ) # deg, altitude angle of the sun\n",
    "    \n",
    "    I0 = get_radiation_direct( d, beta_deg )   # W/m2\n",
    "        \n",
    "    return I0"
   ]
  },
  {
   "cell_type": "code",
   "execution_count": 260,
   "metadata": {},
   "outputs": [
    {
     "data": {
      "text/plain": [
       "0"
      ]
     },
     "execution_count": 260,
     "metadata": {},
     "output_type": "execute_result"
    }
   ],
   "source": [
    "get_radiation_direct( d, -4 )"
   ]
  },
  {
   "cell_type": "code",
   "execution_count": 310,
   "metadata": {},
   "outputs": [
    {
     "name": "stdout",
     "output_type": "stream",
     "text": [
      "814.1725142384576\n"
     ]
    },
    {
     "name": "stderr",
     "output_type": "stream",
     "text": [
      "/home/etienne/Projets/thermique_appart/py3/lib/python3.5/site-packages/pysolar/time.py:105: UserWarning: I don't know about leap seconds after 2015\n",
      "  (leap_seconds_base_year + len(leap_seconds_adjustments) - 1)\n"
     ]
    }
   ],
   "source": [
    "d = dt.datetime(2017, 6, 22, 11, 0, 0, 0)\n",
    "sigma = 37\n",
    "phi_C = 50\n",
    "\n",
    "F = get_flux_surface( map_coords, d, sigma, phi_C )\n",
    "print( F )\n"
   ]
  },
  {
   "cell_type": "code",
   "execution_count": 317,
   "metadata": {
    "collapsed": true
   },
   "outputs": [],
   "source": [
    "import pandas as pd"
   ]
  },
  {
   "cell_type": "code",
   "execution_count": 379,
   "metadata": {},
   "outputs": [],
   "source": [
    "start =  dt.datetime(2017, 6, 22, 0, 0, 0, 0)\n",
    "end =  dt.datetime(2017, 6, 22, 23, 59, 0, 0)\n",
    "\n",
    "d_range = pd.date_range( start=start, end=end, freq='10min' )"
   ]
  },
  {
   "cell_type": "code",
   "execution_count": 380,
   "metadata": {},
   "outputs": [
    {
     "name": "stderr",
     "output_type": "stream",
     "text": [
      "/home/etienne/Projets/thermique_appart/py3/lib/python3.5/site-packages/pysolar/time.py:105: UserWarning: I don't know about leap seconds after 2015\n",
      "  (leap_seconds_base_year + len(leap_seconds_adjustments) - 1)\n"
     ]
    }
   ],
   "source": [
    "F_tot = [ get_flux_total(map_coords, d ) for d in d_range ]\n",
    "F_est = [ get_flux_surface(map_coords, d, sigma, phi_C ) for  d in d_range ]\n",
    "F_ouest = [ get_flux_surface(map_coords, d, sigma, phi_C+180 ) for d in d_range ]\n",
    "F_sud = [ get_flux_surface(map_coords, d, 90, phi_C-90 ) for d in d_range ]"
   ]
  },
  {
   "cell_type": "code",
   "execution_count": 381,
   "metadata": {},
   "outputs": [
    {
     "data": {
      "image/png": "[encoded data removed]",
      "text/plain": [
       "<matplotlib.figure.Figure at 0x7f3f3fa15eb8>"
      ]
     },
     "metadata": {},
     "output_type": "display_data"
    }
   ],
   "source": [
    "x = d_range.hour + d_range.minute/60\n",
    "\n",
    "plt.plot( x, F_est )\n",
    "plt.plot( x, F_ouest )\n",
    "plt.plot( x, F_sud )\n",
    "plt.plot( x, F_tot, 'k:' )\n",
    "plt.xlabel('hour of the day');\n",
    "plt.ylabel('flux solaire projeté');"
   ]
  },
  {
   "cell_type": "code",
   "execution_count": 378,
   "metadata": {},
   "outputs": [
    {
     "data": {
      "text/plain": [
       "Float64Index([           0.0, 0.166666666667, 0.333333333333,            0.5,\n",
       "              0.666666666667, 0.833333333333,            1.0,  1.16666666667,\n",
       "               1.33333333333,            1.5,\n",
       "              ...\n",
       "               22.3333333333,           22.5,  22.6666666667,  22.8333333333,\n",
       "                        23.0,  23.1666666667,  23.3333333333,           23.5,\n",
       "               23.6666666667,  23.8333333333],\n",
       "             dtype='float64', length=144)"
      ]
     },
     "execution_count": 378,
     "metadata": {},
     "output_type": "execute_result"
    }
   ],
   "source": [
    "d_range.hour + d_range.minute/60"
   ]
  },
  {
   "cell_type": "code",
   "execution_count": 302,
   "metadata": {},
   "outputs": [
    {
     "name": "stderr",
     "output_type": "stream",
     "text": [
      "/home/etienne/Projets/thermique_appart/py3/lib/python3.5/site-packages/pysolar/time.py:105: UserWarning: I don't know about leap seconds after 2015\n",
      "  (leap_seconds_base_year + len(leap_seconds_adjustments) - 1)\n"
     ]
    }
   ],
   "source": [
    "# Sun position\n",
    "phi_S = solar.get_azimuth( *map_coords, d ) # deg, azimuth of the sun,relative to south\n",
    "beta = solar.get_altitude( *map_coords, d ) # deg, altitude angle of the sun\n",
    "\n",
    "I0 = radiation.get_radiation_direct( d, 65 )   # W/m2\n",
    "\n",
    "cosTheta = math.cos(beta)*math.cos( phi_S - phi_C )*math.sin( sigma ) + math.cos( sigma )*math.sin( beta )\n",
    "\n",
    "Isurf = I0*cosTheta   # flux projeté, W/m2"
   ]
  },
  {
   "cell_type": "code",
   "execution_count": 188,
   "metadata": {},
   "outputs": [
    {
     "data": {
      "text/plain": [
       "-0.6379554981070448"
      ]
     },
     "execution_count": 188,
     "metadata": {},
     "output_type": "execute_result"
    }
   ],
   "source": [
    "cosTheta"
   ]
  },
  {
   "cell_type": "code",
   "execution_count": null,
   "metadata": {
    "collapsed": true
   },
   "outputs": [],
   "source": []
  }
 ],
 "metadata": {
  "kernelspec": {
   "display_name": "Python 3",
   "language": "python",
   "name": "python3"
  },
  "language_info": {
   "codemirror_mode": {
    "name": "ipython",
    "version": 3
   },
   "file_extension": ".py",
   "mimetype": "text/x-python",
   "name": "python",
   "nbconvert_exporter": "python",
   "pygments_lexer": "ipython3",
   "version": "3.5.2"
  }
 },
 "nbformat": 4,
 "nbformat_minor": 2
}
