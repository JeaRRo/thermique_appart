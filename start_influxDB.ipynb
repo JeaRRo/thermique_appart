{
 "cells": [
  {
   "cell_type": "markdown",
   "metadata": {},
   "source": [
    "## Premier pas avec influxDB\n",
    "\n",
    "Notes et remarques pour une première prise en main de InfluxDB et de Grafana, en suivant le post de blog : http://hrb85-1-88-121-176-85.fbx.proxad.net/blog/201704071550/\n",
    "\n",
    "\n",
    "\n",
    "Start the service: \n",
    "\n",
    "        $ sudo service influxdb start\n",
    "        \n",
    "        \n",
    "Et l'interface avec python [influxdb-python](https://github.com/influxdata/influxdb-python):\n",
    "\n",
    "    $ pip install influxdb"
   ]
  },
  {
   "cell_type": "code",
   "execution_count": 1,
   "metadata": {
    "collapsed": true
   },
   "outputs": [],
   "source": [
    "from influxdb import InfluxDBClient"
   ]
  },
  {
   "cell_type": "code",
   "execution_count": 2,
   "metadata": {
    "collapsed": true
   },
   "outputs": [],
   "source": [
    "db = InfluxDBClient(host='127.0.0.1',\n",
    "                                port=8086,\n",
    "                                username='root',\n",
    "                                password='root',\n",
    "                                database='mydb')\n",
    "db.create_database('mydb')"
   ]
  },
  {
   "cell_type": "markdown",
   "metadata": {},
   "source": [
    "voir l'interface web: http://127.0.0.1:8083/\n",
    "\n",
    "Ports ([doc](https://docs.influxdata.com/influxdb/v0.9/concepts/api/#ports)): \n",
    "\n",
    "    The admin interface for InfluxDB runs on port 8083 and exposes web UI for the server.\n",
    "    By default the InfluxDB HTTP API listens on port 8086.\n"
   ]
  },
  {
   "cell_type": "markdown",
   "metadata": {},
   "source": [
    "#### Création de données"
   ]
  },
  {
   "cell_type": "code",
   "execution_count": 3,
   "metadata": {
    "collapsed": true
   },
   "outputs": [],
   "source": [
    "import time\n",
    "import math"
   ]
  },
  {
   "cell_type": "code",
   "execution_count": 4,
   "metadata": {
    "collapsed": true
   },
   "outputs": [],
   "source": [
    "i = 0\n",
    "while i<100:\n",
    "    data = [\n",
    "        {\n",
    "           \"measurement\": \"math\",\n",
    "            \"tags\": {\n",
    "                \"type\": \"trigonemetric\",\n",
    "                \"fct\": \"cos\"\n",
    "            },\n",
    "            \"fields\": {\n",
    "                \"value\": math.cos(math.radians(i))\n",
    "            }\n",
    "        },\n",
    "        {\n",
    "           \"measurement\": \"math\",\n",
    "            \"tags\": {\n",
    "                \"type\": \"trigonemetric\",\n",
    "                \"fct\": \"sin\"\n",
    "            },\n",
    "            \"fields\": {\n",
    "                \"value\": math.sin(math.radians(i))\n",
    "            }\n",
    "        }\n",
    "    ]\n",
    "    db.write_points(data)\n",
    "    i =  i + 1\n",
    "    time.sleep(0.2)"
   ]
  },
  {
   "cell_type": "markdown",
   "metadata": {},
   "source": [
    "### InfluxDB, qu'est-ce que c'est ?\n",
    "\n",
    "à lire en premier *key concepts*:   \n",
    "    https://docs.influxdata.com/influxdb/v0.9/concepts/key_concepts/\n",
    "    \n",
    "Tag VS fields ?   \n",
    "\"Tags are optional. You don’t need to have tags in your data structure, but it’s generally a good idea to make use of them because, unlike fields, tags are indexed. This means that queries on tags are faster and that tags are ideal for storing commonly-queried metadata.\"\n",
    "\n",
    "\n",
    "    * Both tag keys and tag values are stored as strings "
   ]
  },
  {
   "cell_type": "markdown",
   "metadata": {},
   "source": [
    "## Grafana\n",
    "\n",
    "install & run\n",
    "\n",
    "le paquet officiel ne fonctionne pas (aucune icones)\n",
    "\n",
    "Utiliser APT:\n",
    "http://docs.grafana.org/installation/debian/\n",
    "    \n",
    "    $ sudo service grafana-server start\n",
    "    \n",
    "and go: http://127.0.0.1:3000/login   \n",
    "with `admin/admin`"
   ]
  },
  {
   "cell_type": "markdown",
   "metadata": {},
   "source": [
    "## Test"
   ]
  },
  {
   "cell_type": "code",
   "execution_count": 7,
   "metadata": {
    "collapsed": true
   },
   "outputs": [],
   "source": [
    "db2 = InfluxDBClient(host='127.0.0.1',\n",
    "                                port=8086,\n",
    "                                username='root',\n",
    "                                password='root',\n",
    "                                database='mydb2')"
   ]
  },
  {
   "cell_type": "code",
   "execution_count": 10,
   "metadata": {
    "collapsed": true
   },
   "outputs": [],
   "source": [
    "db2.create_database('db2')"
   ]
  },
  {
   "cell_type": "code",
   "execution_count": null,
   "metadata": {
    "collapsed": true
   },
   "outputs": [],
   "source": []
  }
 ],
 "metadata": {
  "kernelspec": {
   "display_name": "Python 3",
   "language": "python",
   "name": "python3"
  },
  "language_info": {
   "codemirror_mode": {
    "name": "ipython",
    "version": 3
   },
   "file_extension": ".py",
   "mimetype": "text/x-python",
   "name": "python",
   "nbconvert_exporter": "python",
   "pygments_lexer": "ipython3",
   "version": "3.5.2"
  }
 },
 "nbformat": 4,
 "nbformat_minor": 2
}
