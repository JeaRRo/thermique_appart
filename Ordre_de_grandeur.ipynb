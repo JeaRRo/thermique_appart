{
 "cells": [
  {
   "cell_type": "markdown",
   "metadata": {},
   "source": [
    "# Ordre de grandeur"
   ]
  },
  {
   "cell_type": "markdown",
   "metadata": {},
   "source": [
    "## Albédo tuile\n",
    "\n",
    "http://www.ecohabitation.com/actualite/nouvelles/toits-blancs-alternative-diminuer-changements-climatiques#_ftn1\n",
    "\n",
    "absorption   0.64\n",
    "\n",
    "\n",
    "https://dumas.ccsd.cnrs.fr/dumas-00469805/document\n",
    "\n",
    "page 116\n",
    "\n",
    "albédo  0.33  - 0.36\n",
    "\n"
   ]
  },
  {
   "cell_type": "markdown",
   "metadata": {},
   "source": [
    "## Convection"
   ]
  },
  {
   "cell_type": "markdown",
   "metadata": {},
   "source": [
    "convection libre   (air)  h=    5 - 25    W/m2/K"
   ]
  },
  {
   "cell_type": "code",
   "execution_count": 3,
   "metadata": {},
   "outputs": [
    {
     "data": {
      "text/plain": [
       "14.4"
      ]
     },
     "execution_count": 3,
     "metadata": {},
     "output_type": "execute_result"
    }
   ],
   "source": [
    "0.6/25*600"
   ]
  },
  {
   "cell_type": "markdown",
   "metadata": {
    "collapsed": true
   },
   "source": [
    "## Isolation toiture\n",
    "\n",
    "laine de verre\n",
    "http://www.toutsurlisolation.com/Choisir-son-isolant/Les-isolants/Isolants-en-laine-minerale/Laine-de-verre\n",
    "\n",
    "sigma = 0.030W/(m.k.) à 0.040W/(m.k)\n"
   ]
  },
  {
   "cell_type": "code",
   "execution_count": 6,
   "metadata": {},
   "outputs": [
    {
     "name": "stdout",
     "output_type": "stream",
     "text": [
      "0.007000000000000001\n"
     ]
    }
   ],
   "source": [
    "ep = 20e-2 # m\n",
    "h = 0.035*ep\n",
    "\n",
    "print( h )"
   ]
  },
  {
   "cell_type": "code",
   "execution_count": null,
   "metadata": {
    "collapsed": true
   },
   "outputs": [],
   "source": []
  }
 ],
 "metadata": {
  "kernelspec": {
   "display_name": "Python 3",
   "language": "python",
   "name": "python3"
  },
  "language_info": {
   "codemirror_mode": {
    "name": "ipython",
    "version": 3
   },
   "file_extension": ".py",
   "mimetype": "text/x-python",
   "name": "python",
   "nbconvert_exporter": "python",
   "pygments_lexer": "ipython3",
   "version": "3.5.2"
  }
 },
 "nbformat": 4,
 "nbformat_minor": 2
}
