{
 "cells": [
  {
   "cell_type": "code",
   "execution_count": 57,
   "metadata": {
    "collapsed": true
   },
   "outputs": [],
   "source": [
    "import numpy as np\n",
    "import matplotlib.pyplot as plt\n",
    "%matplotlib inline"
   ]
  },
  {
   "cell_type": "markdown",
   "metadata": {},
   "source": [
    "# Ordre de grandeur"
   ]
  },
  {
   "cell_type": "markdown",
   "metadata": {},
   "source": [
    "## Albédo tuile\n",
    "\n",
    "http://www.ecohabitation.com/actualite/nouvelles/toits-blancs-alternative-diminuer-changements-climatiques#_ftn1\n",
    "\n",
    "absorption   0.64\n",
    "\n",
    "\n",
    "https://dumas.ccsd.cnrs.fr/dumas-00469805/document\n",
    "\n",
    "page 116\n",
    "\n",
    "albédo  0.33  - 0.36\n",
    "\n"
   ]
  },
  {
   "cell_type": "markdown",
   "metadata": {},
   "source": [
    "## Convection"
   ]
  },
  {
   "cell_type": "markdown",
   "metadata": {},
   "source": [
    "convection libre   (air)  h=    5 - 25    W/m2/K"
   ]
  },
  {
   "cell_type": "code",
   "execution_count": 3,
   "metadata": {},
   "outputs": [
    {
     "data": {
      "text/plain": [
       "14.4"
      ]
     },
     "execution_count": 3,
     "metadata": {},
     "output_type": "execute_result"
    }
   ],
   "source": [
    "0.6/25*600"
   ]
  },
  {
   "cell_type": "markdown",
   "metadata": {},
   "source": [
    "https://fr.wikipedia.org/wiki/Air\n",
    "\n",
    "\n",
    "http://www.legi.grenoble-inp.fr/people/Philippe.Marty/cours-convection-M2.pdf"
   ]
  },
  {
   "cell_type": "code",
   "execution_count": 156,
   "metadata": {
    "collapsed": true
   },
   "outputs": [],
   "source": [
    "k = 0.0262 # W/m/K, conductivité thermique\n",
    "nu = 1.57e-5 #  m2·s−1 , viscosité cinématique air,\n",
    "alpha = 2.22e-5 # m2·s−1, diffusivité thermique\n",
    "Pr = 0.708 # Prandl"
   ]
  },
  {
   "cell_type": "code",
   "execution_count": 157,
   "metadata": {},
   "outputs": [
    {
     "name": "stdout",
     "output_type": "stream",
     "text": [
      "5.555555555555555\n"
     ]
    }
   ],
   "source": [
    "L = 4 # m, dimension caractéristique\n",
    "U = 20e3/60/60 # m/s, vitesse caractéristique\n",
    "print( U )"
   ]
  },
  {
   "cell_type": "code",
   "execution_count": 158,
   "metadata": {},
   "outputs": [
    {
     "name": "stdout",
     "output_type": "stream",
     "text": [
      "1415428.1670205237\n"
     ]
    }
   ],
   "source": [
    "Re = U*L/nu # Reynolds,   turbulent si >3.10^5\n",
    "print( Re )"
   ]
  },
  {
   "cell_type": "code",
   "execution_count": 159,
   "metadata": {
    "collapsed": true
   },
   "outputs": [],
   "source": [
    "Reynolds = lambda u: u*L/nu"
   ]
  },
  {
   "cell_type": "code",
   "execution_count": 160,
   "metadata": {},
   "outputs": [
    {
     "name": "stdout",
     "output_type": "stream",
     "text": [
      "vitesse limite turbulence: 1.177500 m/s \n"
     ]
    }
   ],
   "source": [
    "# Limite turbulence\n",
    "\n",
    "v_lim = 3e5/L*nu\n",
    "print( 'vitesse limite turbulence: %f m/s '% v_lim )"
   ]
  },
  {
   "cell_type": "code",
   "execution_count": 161,
   "metadata": {
    "collapsed": true
   },
   "outputs": [],
   "source": [
    "# Forcée, turbulent, Pr < 50  (cf. page 15)\n",
    "h_FT = lambda u : k/L * 0.036 *  Reynolds(u)**(4/5) * Pr**(1/3) \n",
    "\n",
    "# Forcée laminaire\n",
    "h_FL = lambda u : k/L * 0.664 * Reynolds(u)**(1/2) * Pr**(1/3) "
   ]
  },
  {
   "cell_type": "code",
   "execution_count": 171,
   "metadata": {},
   "outputs": [],
   "source": [
    "u_span_T = np.linspace( 1.0, 15, 20 ) # m/sh_FT_span = h_FT( u_span )\n",
    "u_span_L = np.linspace( 0, 1.7, 20 )"
   ]
  },
  {
   "cell_type": "code",
   "execution_count": 174,
   "metadata": {},
   "outputs": [
    {
     "data": {
      "image/png": "[encoded data removed]",
      "text/plain": [
       "<matplotlib.figure.Figure at 0x7fd4ff604390>"
      ]
     },
     "metadata": {},
     "output_type": "display_data"
    }
   ],
   "source": [
    "plt.figure( figsize=(10, 6) )\n",
    "plt.plot( u_span_T, h_FT( u_span_T ), label='Forcée, turbulent' )\n",
    "plt.plot( u_span_L, h_FL( u_span_L ), label='Forcée, laminaire' )\n",
    "plt.plot( [0, 1.7], [5, 5], label='Naturelle, laminaire&turb.' )\n",
    "\n",
    "# plt.plot( u_span_T, 6.5*u_span_T, label='Forcée, laMétéo-dec' )\n",
    "\n",
    "plt.xlabel( 'vitesse vent m/s' )\n",
    "plt.ylabel( 'h  W/m2/K' );\n",
    "plt.legend();"
   ]
  },
  {
   "cell_type": "markdown",
   "metadata": {},
   "source": [
    "### Convection naturelle"
   ]
  },
  {
   "cell_type": "code",
   "execution_count": 98,
   "metadata": {
    "collapsed": true
   },
   "outputs": [],
   "source": [
    "theta = 37*np.pi/180"
   ]
  },
  {
   "cell_type": "code",
   "execution_count": 136,
   "metadata": {
    "collapsed": true
   },
   "outputs": [],
   "source": [
    "deltaT = 30\n",
    "L = 4 # m"
   ]
  },
  {
   "cell_type": "code",
   "execution_count": 145,
   "metadata": {},
   "outputs": [],
   "source": [
    "g = 9.81 #* np.cos(theta) #m/s-2\n",
    "beta = 3e-3 # air, 20°C "
   ]
  },
  {
   "cell_type": "code",
   "execution_count": 146,
   "metadata": {},
   "outputs": [
    {
     "name": "stdout",
     "output_type": "stream",
     "text": [
      "Grashof: 2.865512e+07\n",
      "Rayleight: 2.028782e+07\n"
     ]
    }
   ],
   "source": [
    "Gr = g*beta*deltaT*L**3/nu**2\n",
    "print('Grashof: %e'% Gr )\n",
    "print('Rayleight: %e'% (Gr*Pr) )"
   ]
  },
  {
   "cell_type": "code",
   "execution_count": 148,
   "metadata": {},
   "outputs": [
    {
     "name": "stdout",
     "output_type": "stream",
     "text": [
      "5.002009169886503\n",
      "4.644722800608895\n"
     ]
    }
   ],
   "source": [
    "# Plaque horizontale chauffant vers le haut\n",
    "h_NTh = k/L * 0.14*(Gr*Pr)**(1/3)\n",
    "print( h_NTh )\n",
    "\n",
    "\n",
    "# Vertical, turbulent (Mac Adams)\n",
    "h_NTv = k/L * 0.13 * (Gr*Pr)**(1/3)\n",
    "\n",
    "print( h_NTv )"
   ]
  },
  {
   "cell_type": "markdown",
   "metadata": {},
   "source": [
    "Si taille de tuile comme dim carac:"
   ]
  },
  {
   "cell_type": "code",
   "execution_count": 149,
   "metadata": {
    "collapsed": true
   },
   "outputs": [],
   "source": [
    "L = 20e-2 # m"
   ]
  },
  {
   "cell_type": "code",
   "execution_count": 150,
   "metadata": {},
   "outputs": [
    {
     "name": "stdout",
     "output_type": "stream",
     "text": [
      "Grashof: 2.865512e+07\n",
      "Rayleight: 2.028782e+07\n"
     ]
    }
   ],
   "source": [
    "Gr = g*beta*deltaT*L**3/nu**2\n",
    "print('Grashof: %e'% Gr )\n",
    "print('Rayleight: %e'% (Gr*Pr) )"
   ]
  },
  {
   "cell_type": "code",
   "execution_count": 154,
   "metadata": {},
   "outputs": [
    {
     "name": "stdout",
     "output_type": "stream",
     "text": [
      "4.811505774877057\n",
      "4.74759779703654\n"
     ]
    }
   ],
   "source": [
    "# limite de turbulence ...\n",
    "# vertical :\n",
    "h_NLv = k/L * 0.677* (Pr)**(1/2)/(0.95+Pr)**(1/4)*Gr**(1/4)\n",
    "\n",
    "print( h_NLv )\n",
    "\n",
    "\n",
    "# horizontale :\n",
    "h_NLh = k/L * 0.54* (Pr*Gr)**(1/4)\n",
    "\n",
    "print( h_NLh )"
   ]
  },
  {
   "cell_type": "markdown",
   "metadata": {
    "collapsed": true
   },
   "source": [
    "# Isolation toiture\n",
    "\n",
    "laine de verre\n",
    "http://www.toutsurlisolation.com/Choisir-son-isolant/Les-isolants/Isolants-en-laine-minerale/Laine-de-verre\n",
    "\n",
    "sigma = 0.030W/(m.k.) à 0.040W/(m.k)\n"
   ]
  },
  {
   "cell_type": "code",
   "execution_count": 6,
   "metadata": {},
   "outputs": [
    {
     "name": "stdout",
     "output_type": "stream",
     "text": [
      "0.007000000000000001\n"
     ]
    }
   ],
   "source": [
    "ep = 20e-2 # m\n",
    "h = 0.035*ep\n",
    "\n",
    "print( h )"
   ]
  },
  {
   "cell_type": "code",
   "execution_count": null,
   "metadata": {
    "collapsed": true
   },
   "outputs": [],
   "source": []
  }
 ],
 "metadata": {
  "kernelspec": {
   "display_name": "Python 3",
   "language": "python",
   "name": "python3"
  },
  "language_info": {
   "codemirror_mode": {
    "name": "ipython",
    "version": 3
   },
   "file_extension": ".py",
   "mimetype": "text/x-python",
   "name": "python",
   "nbconvert_exporter": "python",
   "pygments_lexer": "ipython3",
   "version": "3.5.2"
  }
 },
 "nbformat": 4,
 "nbformat_minor": 2
}
