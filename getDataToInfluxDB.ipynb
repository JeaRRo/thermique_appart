{
 "cells": [
  {
   "cell_type": "markdown",
   "metadata": {},
   "source": [
    "##  Importation des données dans InfluxDB"
   ]
  },
  {
   "cell_type": "code",
   "execution_count": 53,
   "metadata": {
    "collapsed": true
   },
   "outputs": [],
   "source": [
    "import pandas as pd"
   ]
  },
  {
   "cell_type": "code",
   "execution_count": 54,
   "metadata": {
    "collapsed": true
   },
   "outputs": [],
   "source": [
    "import numpy as np\n",
    "import matplotlib.pyplot as plt\n",
    "%matplotlib inline"
   ]
  },
  {
   "cell_type": "markdown",
   "metadata": {},
   "source": [
    "## InfluxDB"
   ]
  },
  {
   "cell_type": "code",
   "execution_count": 55,
   "metadata": {
    "collapsed": true
   },
   "outputs": [],
   "source": [
    "from influxdb import DataFrameClient"
   ]
  },
  {
   "cell_type": "code",
   "execution_count": 58,
   "metadata": {},
   "outputs": [],
   "source": [
    "# see https://influxdb-python.readthedocs.io/en/latest/examples.html#tutorials-pandas\n",
    "\"\"\"Instantiate the connection to the InfluxDB client.\"\"\"\n",
    "\n",
    "host, port = 'localhost', 8086\n",
    "user, password = 'root', 'root'\n",
    "dbname = 'weatherdata'\n",
    "protocol = 'line'\n",
    "\n",
    "CLIENT = DataFrameClient(host, port, user, password, dbname)"
   ]
  },
  {
   "cell_type": "code",
   "execution_count": 57,
   "metadata": {
    "collapsed": true
   },
   "outputs": [],
   "source": [
    "\n",
    "#print(\"Create database: \" + dbname)\n",
    "#CLIENT.create_database(dbname)\n",
    "\n",
    "# /!\\ delete /!\\\n",
    "# CLIENT.drop_database( dbname  )"
   ]
  },
  {
   "cell_type": "code",
   "execution_count": 6,
   "metadata": {
    "collapsed": true
   },
   "outputs": [],
   "source": [
    "coords = (45.1973288, 5.7139923)"
   ]
  },
  {
   "cell_type": "code",
   "execution_count": 7,
   "metadata": {
    "collapsed": true
   },
   "outputs": [],
   "source": [
    "firstday = '2017-11-05'\n",
    "lastday = '2017-11-10'\n",
    "\n",
    "daterange = pd.date_range(start=firstday, end=lastday,  freq='D', normalize=True)\n",
    "daterange_iso = daterange.strftime('%Y-%m-%dT%H:%M:%SZ')"
   ]
  },
  {
   "cell_type": "markdown",
   "metadata": {},
   "source": [
    "## Darksky"
   ]
  },
  {
   "cell_type": "code",
   "execution_count": 8,
   "metadata": {
    "collapsed": true
   },
   "outputs": [],
   "source": [
    "from darksky import forecast\n",
    "\n",
    "# \"\"\" You get 1,000 API calls for free each day. \"\"\"\n",
    "\n",
    "# Load the API key for darksky\n",
    "with open('darksky_key.txt') as f:\n",
    "    KEY = f.read()\n",
    "\n",
    "EXCLUDE = ['currently', 'minutely', 'daily', 'flags']  # from the query"
   ]
  },
  {
   "cell_type": "code",
   "execution_count": 9,
   "metadata": {
    "collapsed": true
   },
   "outputs": [],
   "source": [
    "def query2dataframe( coords,  day ):\n",
    "    # query\n",
    "    data = forecast(KEY, *coords, units='si', lang='fr', time=day, exclude=EXCLUDE)\n",
    "    \n",
    "    print('get data for %s' % day)\n",
    "    \n",
    "    # build the DataFrame from records (dict)\n",
    "    records = data['hourly']['data']  \n",
    "    weatherdataDF = pd.DataFrame.from_records(records, index='time')\n",
    "\n",
    "    weatherdataDF.index = pd.to_datetime(weatherdataDF.index, unit='s')\n",
    "    \n",
    "    # debug: force les valeurs en flottant  ( plutôt que Int à cause des NaN ) \n",
    "    cols_int = list( weatherdataDF.select_dtypes(include=['int']).columns )\n",
    "    for c in cols_int:\n",
    "        weatherdataDF[c] = weatherdataDF[c].dropna().astype(float)\n",
    "        \n",
    "    return weatherdataDF"
   ]
  },
  {
   "cell_type": "code",
   "execution_count": 10,
   "metadata": {
    "collapsed": true
   },
   "outputs": [],
   "source": [
    "def dataFrame2influx( measurement_name, DF ):\n",
    "    # Ajoute colone par colones pour retirer les NaN...\n",
    "    for c in DF.columns:\n",
    "        CLIENT.write_points(DF[[c]].dropna(), measurement_name)\n",
    "        \n",
    "def add1day( measurement_name, coords, day ):\n",
    "    weatherdataDF = query2dataframe( coords,  day )\n",
    "    dataFrame2influx( measurement_name, weatherdataDF )"
   ]
  },
  {
   "cell_type": "code",
   "execution_count": 11,
   "metadata": {
    "collapsed": true
   },
   "outputs": [],
   "source": [
    "measurement_name = 'darksky'"
   ]
  },
  {
   "cell_type": "code",
   "execution_count": 12,
   "metadata": {},
   "outputs": [
    {
     "name": "stdout",
     "output_type": "stream",
     "text": [
      "get data for 2017-11-05T00:00:00Z\n",
      "get data for 2017-11-06T00:00:00Z\n",
      "get data for 2017-11-07T00:00:00Z\n",
      "get data for 2017-11-08T00:00:00Z\n",
      "get data for 2017-11-09T00:00:00Z\n",
      "get data for 2017-11-10T00:00:00Z\n"
     ]
    }
   ],
   "source": [
    "for d in daterange_iso:\n",
    "    add1day( measurement_name, coords, d )"
   ]
  },
  {
   "cell_type": "markdown",
   "metadata": {},
   "source": [
    "### debug"
   ]
  },
  {
   "cell_type": "code",
   "execution_count": 370,
   "metadata": {},
   "outputs": [
    {
     "name": "stdout",
     "output_type": "stream",
     "text": [
      "get data for 2017-09-02T00:00:00Z\n"
     ]
    }
   ],
   "source": [
    "weatherdataDF = query2dataframe( coords,  '2017-09-02T00:00:00Z' )"
   ]
  },
  {
   "cell_type": "markdown",
   "metadata": {},
   "source": [
    "## EmonCMS"
   ]
  },
  {
   "cell_type": "code",
   "execution_count": 59,
   "metadata": {
    "collapsed": true
   },
   "outputs": [],
   "source": [
    "import emoncmsfeed as getfeeds"
   ]
  },
  {
   "cell_type": "code",
   "execution_count": 60,
   "metadata": {
    "collapsed": true
   },
   "outputs": [],
   "source": [
    "dataframefreq = '15min'\n",
    "feeds =  { 'T_int': 3 }"
   ]
  },
  {
   "cell_type": "code",
   "execution_count": 61,
   "metadata": {
    "collapsed": true
   },
   "outputs": [],
   "source": [
    "measurement_name = 'openenergymonitor'"
   ]
  },
  {
   "cell_type": "code",
   "execution_count": 40,
   "metadata": {},
   "outputs": [],
   "source": [
    "for date in daterange:\n",
    "    startday = date\n",
    "    lastday = date + pd.to_timedelta('1d')\n",
    "    \n",
    "    startday_iso = startday.strftime('%Y-%m-%dT%H:%M:%SZ')\n",
    "    lastday_iso = lastday.strftime('%Y-%m-%dT%H:%M:%SZ')\n",
    "    \n",
    "    data = getfeeds.builddataframe( feeds, dataframefreq , startdate=startday, enddate=lastday )\n",
    "    \n",
    "    # cas jour sans donnée\n",
    "    if len( data ) == 0 :\n",
    "        print('no data %s'%daterange_iso[i])\n",
    "        continue\n",
    "    \n",
    "    # Ajoute colone par colones pour retirer les NaN...\n",
    "    for c in data.columns:\n",
    "        CLIENT.write_points(data[[c]].dropna(), measurement_name)"
   ]
  },
  {
   "cell_type": "markdown",
   "metadata": {},
   "source": [
    "### debug"
   ]
  },
  {
   "cell_type": "code",
   "execution_count": 35,
   "metadata": {},
   "outputs": [
    {
     "data": {
      "text/plain": [
       "Timestamp('2017-11-10 00:00:00', freq='D')"
      ]
     },
     "execution_count": 35,
     "metadata": {},
     "output_type": "execute_result"
    }
   ],
   "source": [
    "startday"
   ]
  },
  {
   "cell_type": "code",
   "execution_count": 48,
   "metadata": {},
   "outputs": [
    {
     "data": {
      "text/plain": [
       "Timestamp('2017-11-11 14:29:49.098003')"
      ]
     },
     "execution_count": 48,
     "metadata": {},
     "output_type": "execute_result"
    }
   ],
   "source": [
    "pd.Timestamp(\"today\")"
   ]
  },
  {
   "cell_type": "code",
   "execution_count": 62,
   "metadata": {},
   "outputs": [],
   "source": [
    "startday = pd.to_datetime('2017-11-10T00:00:00Z', format='%Y-%m-%dT%H:%M:%SZ')\n",
    "lastday = pd.to_datetime('2017-11-11T09:00:00Z', format='%Y-%m-%dT%H:%M:%SZ')\n",
    "lastday = pd.Timestamp(\"today\")"
   ]
  },
  {
   "cell_type": "code",
   "execution_count": 50,
   "metadata": {
    "collapsed": true
   },
   "outputs": [],
   "source": [
    "data = getfeeds.builddataframe( feeds, dataframefreq , startdate=startday, enddate=lastday )"
   ]
  },
  {
   "cell_type": "code",
   "execution_count": 51,
   "metadata": {
    "collapsed": true
   },
   "outputs": [],
   "source": [
    "# Ajoute colone par colones pour retirer les NaN...\n",
    "for c in data.columns:\n",
    "    CLIENT.write_points(data[[c]].dropna(), measurement_name)"
   ]
  },
  {
   "cell_type": "code",
   "execution_count": 52,
   "metadata": {},
   "outputs": [
    {
     "data": {
      "text/plain": [
       "<matplotlib.axes._subplots.AxesSubplot at 0x7f7d8acff9b0>"
      ]
     },
     "execution_count": 52,
     "metadata": {},
     "output_type": "execute_result"
    },
    {
     "data": {
      "image/png": "[encoded data removed]",
      "text/plain": [
       "<matplotlib.figure.Figure at 0x7f7d8ad182e8>"
      ]
     },
     "metadata": {},
     "output_type": "display_data"
    }
   ],
   "source": [
    "data.plot(figsize=(12, 5))"
   ]
  },
  {
   "cell_type": "markdown",
   "metadata": {},
   "source": [
    "# Irradiation solaire"
   ]
  },
  {
   "cell_type": "code",
   "execution_count": 18,
   "metadata": {
    "collapsed": true
   },
   "outputs": [],
   "source": [
    "import sunradiation as sun"
   ]
  },
  {
   "cell_type": "code",
   "execution_count": 19,
   "metadata": {
    "collapsed": true
   },
   "outputs": [],
   "source": [
    "query = 'SELECT cloudCover FROM darksky'"
   ]
  },
  {
   "cell_type": "code",
   "execution_count": 20,
   "metadata": {
    "collapsed": true
   },
   "outputs": [],
   "source": [
    "cloudcover = CLIENT.query(query)\n",
    "cloudcoverDF = cloudcover['darksky']"
   ]
  },
  {
   "cell_type": "code",
   "execution_count": 21,
   "metadata": {
    "collapsed": true
   },
   "outputs": [],
   "source": [
    "cloudcoverDF = cloudcoverDF.resample('15min').interpolate()"
   ]
  },
  {
   "cell_type": "code",
   "execution_count": 22,
   "metadata": {},
   "outputs": [
    {
     "name": "stderr",
     "output_type": "stream",
     "text": [
      "/home/etienne/Projets/thermique_appart/py3/lib/python3.5/site-packages/pysolar/time.py:105: UserWarning: I don't know about leap seconds after 2015\n",
      "  (leap_seconds_base_year + len(leap_seconds_adjustments) - 1)\n"
     ]
    }
   ],
   "source": [
    "sundata = sun.buildmultidayDF( coords, cloudcoverDF.index, cloudCover = cloudcoverDF['cloudCover']  )"
   ]
  },
  {
   "cell_type": "code",
   "execution_count": 23,
   "metadata": {
    "collapsed": true
   },
   "outputs": [],
   "source": [
    "measurement_name = 'sundata'\n",
    "\n",
    "# Ajoute colone par colones pour retirer les NaN...\n",
    "for c in sundata.columns:\n",
    "    CLIENT.write_points(sundata[[c]].dropna(), measurement_name)"
   ]
  },
  {
   "cell_type": "markdown",
   "metadata": {},
   "source": [
    "### Projection sur les surfaces vitrées"
   ]
  },
  {
   "cell_type": "code",
   "execution_count": 24,
   "metadata": {
    "collapsed": true
   },
   "outputs": [],
   "source": [
    "# surface (m2),  sigma (deg),  azimuth (deg)\n",
    "windows = { 'bastille':(1.2*0.8,    37, 50),\n",
    "            'cuisine': (0.3*0.72 *2, 90, 50 ),\n",
    "            'chambre': (0.3*0.72 *2, 90, 180+50),\n",
    "            'vercors': (0.6*0.8 * 2, 37, 180+50) }"
   ]
  },
  {
   "cell_type": "code",
   "execution_count": 25,
   "metadata": {
    "collapsed": true
   },
   "outputs": [],
   "source": [
    "sunFlux_dict = {}\n",
    "\n",
    "for k, values in windows.items():\n",
    "    sunFlux_dict['flux_'+k] = values[0] * sun.projectDF( values[1], values[2], sundata )\n",
    "\n",
    "sunFlux_DF = pd.DataFrame( sunFlux_dict )\n",
    "\n",
    "# Somme\n",
    "sunFlux_DF['flux_tot'] = sunFlux_DF.sum(axis=1)"
   ]
  },
  {
   "cell_type": "code",
   "execution_count": 26,
   "metadata": {
    "collapsed": true
   },
   "outputs": [],
   "source": [
    "measurement_name = 'sundata'\n",
    "\n",
    "# Ajoute colone par colones pour retirer les NaN...\n",
    "for c in sunFlux_DF.columns:\n",
    "    CLIENT.write_points(sunFlux_DF[[c]].dropna(), measurement_name)"
   ]
  }
 ],
 "metadata": {
  "kernelspec": {
   "display_name": "Python 3",
   "language": "python",
   "name": "python3"
  },
  "language_info": {
   "codemirror_mode": {
    "name": "ipython",
    "version": 3
   },
   "file_extension": ".py",
   "mimetype": "text/x-python",
   "name": "python",
   "nbconvert_exporter": "python",
   "pygments_lexer": "ipython3",
   "version": "3.5.2"
  }
 },
 "nbformat": 4,
 "nbformat_minor": 2
}
