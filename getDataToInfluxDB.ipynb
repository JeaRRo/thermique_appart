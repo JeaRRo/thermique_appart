{
 "cells": [
  {
   "cell_type": "markdown",
   "metadata": {},
   "source": [
    "##  Importation des données dans InfluxDB"
   ]
  },
  {
   "cell_type": "code",
   "execution_count": 8,
   "metadata": {
    "collapsed": true
   },
   "outputs": [],
   "source": [
    "import pandas as pd"
   ]
  },
  {
   "cell_type": "markdown",
   "metadata": {},
   "source": [
    "## InfluxDB"
   ]
  },
  {
   "cell_type": "code",
   "execution_count": 9,
   "metadata": {
    "collapsed": true
   },
   "outputs": [],
   "source": [
    "from influxdb import DataFrameClient"
   ]
  },
  {
   "cell_type": "code",
   "execution_count": 25,
   "metadata": {},
   "outputs": [
    {
     "name": "stdout",
     "output_type": "stream",
     "text": [
      "Create database: weatherdata\n"
     ]
    }
   ],
   "source": [
    "# see https://influxdb-python.readthedocs.io/en/latest/examples.html#tutorials-pandas\n",
    "\"\"\"Instantiate the connection to the InfluxDB client.\"\"\"\n",
    "\n",
    "host, port = 'localhost', 8086\n",
    "user, password = 'root', 'root'\n",
    "dbname = 'weatherdata'\n",
    "protocol = 'line'\n",
    "\n",
    "CLIENT = DataFrameClient(host, port, user, password, dbname)\n",
    "\n",
    "print(\"Create database: \" + dbname)\n",
    "CLIENT.create_database(dbname)"
   ]
  },
  {
   "cell_type": "code",
   "execution_count": 26,
   "metadata": {
    "collapsed": true
   },
   "outputs": [],
   "source": [
    "# /!\\ delete /!\\\n",
    "# CLIENT.drop_database( dbname  )"
   ]
  },
  {
   "cell_type": "code",
   "execution_count": 27,
   "metadata": {
    "collapsed": true
   },
   "outputs": [],
   "source": [
    "coords = (45.1973288, 5.7139923)"
   ]
  },
  {
   "cell_type": "code",
   "execution_count": 28,
   "metadata": {
    "collapsed": true
   },
   "outputs": [],
   "source": [
    "firstday = '2017-10-01'\n",
    "lastday = '2017-10-11'\n",
    "\n",
    "daterange = pd.date_range(start=firstday, end=lastday,  freq='D', normalize=True)\n",
    "daterange_iso = daterange.strftime('%Y-%m-%dT%H:%M:%SZ')"
   ]
  },
  {
   "cell_type": "markdown",
   "metadata": {},
   "source": [
    "## Darksky"
   ]
  },
  {
   "cell_type": "code",
   "execution_count": 20,
   "metadata": {
    "collapsed": true
   },
   "outputs": [],
   "source": [
    "from darksky import forecast\n",
    "\n",
    "# \"\"\" You get 1,000 API calls for free each day. \"\"\"\n",
    "\n",
    "# Load the API key for darksky\n",
    "with open('darksky_key.txt') as f:\n",
    "    KEY = f.read()\n",
    "\n",
    "EXCLUDE = ['currently', 'minutely', 'daily', 'flags']  # from the query"
   ]
  },
  {
   "cell_type": "code",
   "execution_count": 29,
   "metadata": {
    "collapsed": true
   },
   "outputs": [],
   "source": [
    "def query2dataframe( coords,  day ):\n",
    "    # query\n",
    "    data = forecast(KEY, *coords, units='si', lang='fr', time=day, exclude=EXCLUDE)\n",
    "    \n",
    "    print('get data for %s' % day)\n",
    "    \n",
    "    # build the DataFrame from records (dict)\n",
    "    records = data['hourly']['data']  \n",
    "    weatherdataDF = pd.DataFrame.from_records(records, index='time')\n",
    "\n",
    "    weatherdataDF.index = pd.to_datetime(weatherdataDF.index, unit='s')\n",
    "    \n",
    "    # debug: force les valeurs en flottant  ( plutôt que Int à cause des NaN ) \n",
    "    cols_int = list( weatherdataDF.select_dtypes(include=['int']).columns )\n",
    "    for c in cols_int:\n",
    "        weatherdataDF[c] = weatherdataDF[c].dropna().astype(float)\n",
    "        \n",
    "    return weatherdataDF"
   ]
  },
  {
   "cell_type": "code",
   "execution_count": 30,
   "metadata": {
    "collapsed": true
   },
   "outputs": [],
   "source": [
    "def dataFrame2influx( measurement_name, DF ):\n",
    "    # Ajoute colone par colones pour retirer les NaN...\n",
    "    for c in DF.columns:\n",
    "        CLIENT.write_points(DF[[c]].dropna(), measurement_name)\n",
    "        \n",
    "def add1day( measurement_name, coords, day ):\n",
    "    weatherdataDF = query2dataframe( coords,  day )\n",
    "    dataFrame2influx( measurement_name, weatherdataDF )"
   ]
  },
  {
   "cell_type": "code",
   "execution_count": 31,
   "metadata": {
    "collapsed": true
   },
   "outputs": [],
   "source": [
    "measurement_name = 'darksky'"
   ]
  },
  {
   "cell_type": "code",
   "execution_count": 32,
   "metadata": {},
   "outputs": [
    {
     "name": "stdout",
     "output_type": "stream",
     "text": [
      "get data for 2017-10-01T00:00:00Z\n",
      "get data for 2017-10-02T00:00:00Z\n",
      "get data for 2017-10-03T00:00:00Z\n",
      "get data for 2017-10-04T00:00:00Z\n",
      "get data for 2017-10-05T00:00:00Z\n",
      "get data for 2017-10-06T00:00:00Z\n",
      "get data for 2017-10-07T00:00:00Z\n",
      "get data for 2017-10-08T00:00:00Z\n",
      "get data for 2017-10-09T00:00:00Z\n",
      "get data for 2017-10-10T00:00:00Z\n",
      "get data for 2017-10-11T00:00:00Z\n"
     ]
    }
   ],
   "source": [
    "for d in daterange_iso:\n",
    "    add1day( measurement_name, coords, d )"
   ]
  },
  {
   "cell_type": "markdown",
   "metadata": {},
   "source": [
    "### debug"
   ]
  },
  {
   "cell_type": "code",
   "execution_count": 370,
   "metadata": {},
   "outputs": [
    {
     "name": "stdout",
     "output_type": "stream",
     "text": [
      "get data for 2017-09-02T00:00:00Z\n"
     ]
    }
   ],
   "source": [
    "weatherdataDF = query2dataframe( coords,  '2017-09-02T00:00:00Z' )"
   ]
  },
  {
   "cell_type": "markdown",
   "metadata": {},
   "source": [
    "## EmonCMS"
   ]
  },
  {
   "cell_type": "code",
   "execution_count": 33,
   "metadata": {
    "collapsed": true
   },
   "outputs": [],
   "source": [
    "import emoncmsfeed as getfeeds"
   ]
  },
  {
   "cell_type": "code",
   "execution_count": 34,
   "metadata": {
    "collapsed": true
   },
   "outputs": [],
   "source": [
    "dataframefreq = '15min'\n",
    "feeds =  { 'T_int': 3 }"
   ]
  },
  {
   "cell_type": "code",
   "execution_count": 35,
   "metadata": {
    "collapsed": true
   },
   "outputs": [],
   "source": [
    "measurement_name = 'openenergymonitor'"
   ]
  },
  {
   "cell_type": "code",
   "execution_count": 36,
   "metadata": {
    "collapsed": true
   },
   "outputs": [],
   "source": [
    "for i in range( len( daterange_iso )-1 ):\n",
    "    startday = pd.to_datetime(daterange_iso[i], format='%Y-%m-%dT%H:%M:%SZ')\n",
    "    lastday = pd.to_datetime(daterange_iso[i+1], format='%Y-%m-%dT%H:%M:%SZ')\n",
    "    \n",
    "    data = getfeeds.builddataframe( feeds, dataframefreq , startdate=startday, enddate=lastday )\n",
    "    \n",
    "    # Ajoute colone par colones pour retirer les NaN...\n",
    "    for c in data.columns:\n",
    "        CLIENT.write_points(data[[c]].dropna(), measurement_name)"
   ]
  },
  {
   "cell_type": "markdown",
   "metadata": {},
   "source": [
    "# Irradiation solaire"
   ]
  },
  {
   "cell_type": "code",
   "execution_count": 37,
   "metadata": {
    "collapsed": true
   },
   "outputs": [],
   "source": [
    "import sunradiation as sun"
   ]
  },
  {
   "cell_type": "code",
   "execution_count": 38,
   "metadata": {
    "collapsed": true
   },
   "outputs": [],
   "source": [
    "query = 'SELECT cloudCover FROM darksky'"
   ]
  },
  {
   "cell_type": "code",
   "execution_count": 40,
   "metadata": {},
   "outputs": [],
   "source": [
    "cloudcover = CLIENT.query(query)\n",
    "cloudcoverDF = cloudcover['darksky']"
   ]
  },
  {
   "cell_type": "code",
   "execution_count": 41,
   "metadata": {},
   "outputs": [],
   "source": [
    "cloudcoverDF = cloudcoverDF.resample('15min').interpolate()"
   ]
  },
  {
   "cell_type": "code",
   "execution_count": 42,
   "metadata": {},
   "outputs": [
    {
     "name": "stderr",
     "output_type": "stream",
     "text": [
      "/home/etienne/Projets/thermique_appart/py3/lib/python3.5/site-packages/pysolar/time.py:105: UserWarning: I don't know about leap seconds after 2015\n",
      "  (leap_seconds_base_year + len(leap_seconds_adjustments) - 1)\n"
     ]
    }
   ],
   "source": [
    "sundata = sun.buildmultidayDF( coords, cloudcoverDF.index, cloudCover = cloudcoverDF['cloudCover']  )"
   ]
  },
  {
   "cell_type": "code",
   "execution_count": 43,
   "metadata": {
    "collapsed": true
   },
   "outputs": [],
   "source": [
    "measurement_name = 'sundata'\n",
    "\n",
    "# Ajoute colone par colones pour retirer les NaN...\n",
    "for c in sundata.columns:\n",
    "    CLIENT.write_points(sundata[[c]].dropna(), measurement_name)"
   ]
  },
  {
   "cell_type": "markdown",
   "metadata": {},
   "source": [
    "### Projection sur les surfaces vitrées"
   ]
  },
  {
   "cell_type": "code",
   "execution_count": 44,
   "metadata": {
    "collapsed": true
   },
   "outputs": [],
   "source": [
    "# surface (m2),  sigma (deg),  azimuth (deg)\n",
    "windows = { 'bastille':(1.2*0.8,    37, 50) ,\n",
    "            'cuisine':(0.3*0.72 *2, 90, 50 ),\n",
    "            'chambre':(0.3*0.72 *2, 90, 180+50),\n",
    "            'vercors':(0.6*0.8 * 2, 37, 180+50) }"
   ]
  },
  {
   "cell_type": "code",
   "execution_count": 47,
   "metadata": {},
   "outputs": [],
   "source": [
    "sunFlux_dict = {}\n",
    "\n",
    "for k, values in windows.items():\n",
    "    sunFlux_dict['flux_'+k] = values[0] * sun.projectDF( values[1], values[2], sundata )\n",
    "\n",
    "sunFlux_DF = pd.DataFrame( sunFlux_dict )\n",
    "\n",
    "# Somme\n",
    "sunFlux_DF['flux_tot'] = sunFlux_DF.sum(axis=1)"
   ]
  },
  {
   "cell_type": "code",
   "execution_count": 48,
   "metadata": {},
   "outputs": [
    {
     "data": {
      "text/html": [
       "<div>\n",
       "<style>\n",
       "    .dataframe thead tr:only-child th {\n",
       "        text-align: right;\n",
       "    }\n",
       "\n",
       "    .dataframe thead th {\n",
       "        text-align: left;\n",
       "    }\n",
       "\n",
       "    .dataframe tbody tr th {\n",
       "        vertical-align: top;\n",
       "    }\n",
       "</style>\n",
       "<table border=\"1\" class=\"dataframe\">\n",
       "  <thead>\n",
       "    <tr style=\"text-align: right;\">\n",
       "      <th></th>\n",
       "      <th>flux_bastille</th>\n",
       "      <th>flux_chambre</th>\n",
       "      <th>flux_cuisine</th>\n",
       "      <th>flux_vercors</th>\n",
       "      <th>flux_tot</th>\n",
       "    </tr>\n",
       "  </thead>\n",
       "  <tbody>\n",
       "    <tr>\n",
       "      <th>2017-06-20 04:00:00+00:00</th>\n",
       "      <td>0.000000</td>\n",
       "      <td>0.000000</td>\n",
       "      <td>0.000000</td>\n",
       "      <td>0.000000</td>\n",
       "      <td>0.000000</td>\n",
       "    </tr>\n",
       "    <tr>\n",
       "      <th>2017-06-20 04:15:00+00:00</th>\n",
       "      <td>0.000000</td>\n",
       "      <td>0.000000</td>\n",
       "      <td>0.000000</td>\n",
       "      <td>0.000000</td>\n",
       "      <td>0.000000</td>\n",
       "    </tr>\n",
       "    <tr>\n",
       "      <th>2017-06-20 04:30:00+00:00</th>\n",
       "      <td>0.000000</td>\n",
       "      <td>0.000000</td>\n",
       "      <td>0.000000</td>\n",
       "      <td>0.000000</td>\n",
       "      <td>0.000000</td>\n",
       "    </tr>\n",
       "    <tr>\n",
       "      <th>2017-06-20 04:45:00+00:00</th>\n",
       "      <td>0.000000</td>\n",
       "      <td>0.000000</td>\n",
       "      <td>0.000000</td>\n",
       "      <td>0.000000</td>\n",
       "      <td>0.000000</td>\n",
       "    </tr>\n",
       "    <tr>\n",
       "      <th>2017-06-20 05:00:00+00:00</th>\n",
       "      <td>0.000000</td>\n",
       "      <td>0.000000</td>\n",
       "      <td>0.000000</td>\n",
       "      <td>0.000000</td>\n",
       "      <td>0.000000</td>\n",
       "    </tr>\n",
       "    <tr>\n",
       "      <th>2017-06-20 05:15:00+00:00</th>\n",
       "      <td>0.000000</td>\n",
       "      <td>0.000000</td>\n",
       "      <td>0.000000</td>\n",
       "      <td>0.000000</td>\n",
       "      <td>0.000000</td>\n",
       "    </tr>\n",
       "    <tr>\n",
       "      <th>2017-06-20 05:30:00+00:00</th>\n",
       "      <td>237.149653</td>\n",
       "      <td>0.000000</td>\n",
       "      <td>105.673584</td>\n",
       "      <td>0.000000</td>\n",
       "      <td>342.823236</td>\n",
       "    </tr>\n",
       "    <tr>\n",
       "      <th>2017-06-20 05:45:00+00:00</th>\n",
       "      <td>291.745678</td>\n",
       "      <td>0.000000</td>\n",
       "      <td>124.817429</td>\n",
       "      <td>0.000000</td>\n",
       "      <td>416.563107</td>\n",
       "    </tr>\n",
       "    <tr>\n",
       "      <th>2017-06-20 06:00:00+00:00</th>\n",
       "      <td>345.235859</td>\n",
       "      <td>0.000000</td>\n",
       "      <td>142.234971</td>\n",
       "      <td>0.000000</td>\n",
       "      <td>487.470830</td>\n",
       "    </tr>\n",
       "    <tr>\n",
       "      <th>2017-06-20 06:15:00+00:00</th>\n",
       "      <td>397.093150</td>\n",
       "      <td>0.000000</td>\n",
       "      <td>157.878868</td>\n",
       "      <td>0.000000</td>\n",
       "      <td>554.972018</td>\n",
       "    </tr>\n",
       "    <tr>\n",
       "      <th>2017-06-20 06:30:00+00:00</th>\n",
       "      <td>446.921047</td>\n",
       "      <td>0.000000</td>\n",
       "      <td>171.728922</td>\n",
       "      <td>0.000000</td>\n",
       "      <td>618.649969</td>\n",
       "    </tr>\n",
       "    <tr>\n",
       "      <th>2017-06-20 06:45:00+00:00</th>\n",
       "      <td>494.401902</td>\n",
       "      <td>0.000000</td>\n",
       "      <td>183.777157</td>\n",
       "      <td>2.846996</td>\n",
       "      <td>681.026055</td>\n",
       "    </tr>\n",
       "    <tr>\n",
       "      <th>2017-06-20 07:00:00+00:00</th>\n",
       "      <td>539.270186</td>\n",
       "      <td>0.000000</td>\n",
       "      <td>194.022232</td>\n",
       "      <td>20.312436</td>\n",
       "      <td>753.604854</td>\n",
       "    </tr>\n",
       "    <tr>\n",
       "      <th>2017-06-20 07:15:00+00:00</th>\n",
       "      <td>581.298087</td>\n",
       "      <td>0.000000</td>\n",
       "      <td>202.467605</td>\n",
       "      <td>39.751213</td>\n",
       "      <td>823.516906</td>\n",
       "    </tr>\n",
       "    <tr>\n",
       "      <th>2017-06-20 07:30:00+00:00</th>\n",
       "      <td>620.287488</td>\n",
       "      <td>0.000000</td>\n",
       "      <td>209.121182</td>\n",
       "      <td>60.944071</td>\n",
       "      <td>890.352741</td>\n",
       "    </tr>\n",
       "    <tr>\n",
       "      <th>2017-06-20 07:45:00+00:00</th>\n",
       "      <td>656.065408</td>\n",
       "      <td>0.000000</td>\n",
       "      <td>213.995519</td>\n",
       "      <td>83.684439</td>\n",
       "      <td>953.745366</td>\n",
       "    </tr>\n",
       "    <tr>\n",
       "      <th>2017-06-20 08:00:00+00:00</th>\n",
       "      <td>688.481374</td>\n",
       "      <td>0.000000</td>\n",
       "      <td>217.108197</td>\n",
       "      <td>107.774820</td>\n",
       "      <td>1013.364391</td>\n",
       "    </tr>\n",
       "    <tr>\n",
       "      <th>2017-06-20 08:15:00+00:00</th>\n",
       "      <td>717.405889</td>\n",
       "      <td>0.000000</td>\n",
       "      <td>218.482194</td>\n",
       "      <td>133.024259</td>\n",
       "      <td>1068.912343</td>\n",
       "    </tr>\n",
       "    <tr>\n",
       "      <th>2017-06-20 08:30:00+00:00</th>\n",
       "      <td>742.729535</td>\n",
       "      <td>0.000000</td>\n",
       "      <td>218.146198</td>\n",
       "      <td>159.246605</td>\n",
       "      <td>1120.122338</td>\n",
       "    </tr>\n",
       "    <tr>\n",
       "      <th>2017-06-20 08:45:00+00:00</th>\n",
       "      <td>764.362449</td>\n",
       "      <td>0.000000</td>\n",
       "      <td>216.134837</td>\n",
       "      <td>186.259372</td>\n",
       "      <td>1166.756659</td>\n",
       "    </tr>\n",
       "    <tr>\n",
       "      <th>2017-06-20 09:00:00+00:00</th>\n",
       "      <td>782.234008</td>\n",
       "      <td>0.000000</td>\n",
       "      <td>212.488841</td>\n",
       "      <td>213.883001</td>\n",
       "      <td>1208.605850</td>\n",
       "    </tr>\n",
       "    <tr>\n",
       "      <th>2017-06-20 09:15:00+00:00</th>\n",
       "      <td>796.292618</td>\n",
       "      <td>0.000000</td>\n",
       "      <td>207.255115</td>\n",
       "      <td>241.940432</td>\n",
       "      <td>1245.488165</td>\n",
       "    </tr>\n",
       "    <tr>\n",
       "      <th>2017-06-20 09:30:00+00:00</th>\n",
       "      <td>806.505563</td>\n",
       "      <td>0.000000</td>\n",
       "      <td>200.486764</td>\n",
       "      <td>270.256913</td>\n",
       "      <td>1277.249239</td>\n",
       "    </tr>\n",
       "    <tr>\n",
       "      <th>2017-06-20 09:45:00+00:00</th>\n",
       "      <td>812.858867</td>\n",
       "      <td>0.000000</td>\n",
       "      <td>192.243051</td>\n",
       "      <td>298.659951</td>\n",
       "      <td>1303.761869</td>\n",
       "    </tr>\n",
       "    <tr>\n",
       "      <th>2017-06-20 10:00:00+00:00</th>\n",
       "      <td>815.357150</td>\n",
       "      <td>0.000000</td>\n",
       "      <td>182.589323</td>\n",
       "      <td>326.979382</td>\n",
       "      <td>1324.925855</td>\n",
       "    </tr>\n",
       "    <tr>\n",
       "      <th>2017-06-20 10:15:00+00:00</th>\n",
       "      <td>814.023462</td>\n",
       "      <td>0.000000</td>\n",
       "      <td>171.596888</td>\n",
       "      <td>355.047529</td>\n",
       "      <td>1340.667879</td>\n",
       "    </tr>\n",
       "    <tr>\n",
       "      <th>2017-06-20 10:30:00+00:00</th>\n",
       "      <td>808.899098</td>\n",
       "      <td>0.000000</td>\n",
       "      <td>159.342869</td>\n",
       "      <td>382.699399</td>\n",
       "      <td>1350.941366</td>\n",
       "    </tr>\n",
       "    <tr>\n",
       "      <th>2017-06-20 10:45:00+00:00</th>\n",
       "      <td>800.043380</td>\n",
       "      <td>0.000000</td>\n",
       "      <td>145.910045</td>\n",
       "      <td>409.772904</td>\n",
       "      <td>1355.726329</td>\n",
       "    </tr>\n",
       "    <tr>\n",
       "      <th>2017-06-20 11:00:00+00:00</th>\n",
       "      <td>787.533413</td>\n",
       "      <td>0.000000</td>\n",
       "      <td>131.386663</td>\n",
       "      <td>436.109112</td>\n",
       "      <td>1355.029187</td>\n",
       "    </tr>\n",
       "    <tr>\n",
       "      <th>2017-06-20 11:15:00+00:00</th>\n",
       "      <td>771.463814</td>\n",
       "      <td>0.000000</td>\n",
       "      <td>115.866254</td>\n",
       "      <td>461.552472</td>\n",
       "      <td>1348.882539</td>\n",
       "    </tr>\n",
       "    <tr>\n",
       "      <th>...</th>\n",
       "      <td>...</td>\n",
       "      <td>...</td>\n",
       "      <td>...</td>\n",
       "      <td>...</td>\n",
       "      <td>...</td>\n",
       "    </tr>\n",
       "    <tr>\n",
       "      <th>2017-10-11 09:45:00+00:00</th>\n",
       "      <td>745.342870</td>\n",
       "      <td>0.000000</td>\n",
       "      <td>289.550901</td>\n",
       "      <td>0.000000</td>\n",
       "      <td>1034.893771</td>\n",
       "    </tr>\n",
       "    <tr>\n",
       "      <th>2017-10-11 10:00:00+00:00</th>\n",
       "      <td>747.351910</td>\n",
       "      <td>0.000000</td>\n",
       "      <td>279.647438</td>\n",
       "      <td>0.000000</td>\n",
       "      <td>1026.999348</td>\n",
       "    </tr>\n",
       "    <tr>\n",
       "      <th>2017-10-11 10:15:00+00:00</th>\n",
       "      <td>744.450641</td>\n",
       "      <td>0.000000</td>\n",
       "      <td>267.854215</td>\n",
       "      <td>28.012018</td>\n",
       "      <td>1040.316873</td>\n",
       "    </tr>\n",
       "    <tr>\n",
       "      <th>2017-10-11 10:30:00+00:00</th>\n",
       "      <td>736.785883</td>\n",
       "      <td>0.000000</td>\n",
       "      <td>254.334051</td>\n",
       "      <td>56.510095</td>\n",
       "      <td>1047.630029</td>\n",
       "    </tr>\n",
       "    <tr>\n",
       "      <th>2017-10-11 10:45:00+00:00</th>\n",
       "      <td>724.512195</td>\n",
       "      <td>0.000000</td>\n",
       "      <td>239.244788</td>\n",
       "      <td>84.596162</td>\n",
       "      <td>1048.353144</td>\n",
       "    </tr>\n",
       "    <tr>\n",
       "      <th>2017-10-11 11:00:00+00:00</th>\n",
       "      <td>707.795193</td>\n",
       "      <td>0.000000</td>\n",
       "      <td>222.742045</td>\n",
       "      <td>112.019597</td>\n",
       "      <td>1042.556835</td>\n",
       "    </tr>\n",
       "    <tr>\n",
       "      <th>2017-10-11 11:15:00+00:00</th>\n",
       "      <td>686.818025</td>\n",
       "      <td>0.000000</td>\n",
       "      <td>204.982490</td>\n",
       "      <td>138.544505</td>\n",
       "      <td>1030.345020</td>\n",
       "    </tr>\n",
       "    <tr>\n",
       "      <th>2017-10-11 11:30:00+00:00</th>\n",
       "      <td>661.773870</td>\n",
       "      <td>0.000000</td>\n",
       "      <td>186.122484</td>\n",
       "      <td>163.945838</td>\n",
       "      <td>1011.842192</td>\n",
       "    </tr>\n",
       "    <tr>\n",
       "      <th>2017-10-11 11:45:00+00:00</th>\n",
       "      <td>632.875693</td>\n",
       "      <td>0.000000</td>\n",
       "      <td>166.322068</td>\n",
       "      <td>188.008496</td>\n",
       "      <td>987.206257</td>\n",
       "    </tr>\n",
       "    <tr>\n",
       "      <th>2017-10-11 12:00:00+00:00</th>\n",
       "      <td>600.355739</td>\n",
       "      <td>0.000000</td>\n",
       "      <td>145.745527</td>\n",
       "      <td>210.525305</td>\n",
       "      <td>956.626571</td>\n",
       "    </tr>\n",
       "    <tr>\n",
       "      <th>2017-10-11 12:15:00+00:00</th>\n",
       "      <td>564.469122</td>\n",
       "      <td>0.000000</td>\n",
       "      <td>124.563098</td>\n",
       "      <td>231.296038</td>\n",
       "      <td>920.328258</td>\n",
       "    </tr>\n",
       "    <tr>\n",
       "      <th>2017-10-11 12:30:00+00:00</th>\n",
       "      <td>525.489507</td>\n",
       "      <td>0.000000</td>\n",
       "      <td>102.950958</td>\n",
       "      <td>250.123138</td>\n",
       "      <td>878.563602</td>\n",
       "    </tr>\n",
       "    <tr>\n",
       "      <th>2017-10-11 12:45:00+00:00</th>\n",
       "      <td>483.719810</td>\n",
       "      <td>0.000000</td>\n",
       "      <td>81.094939</td>\n",
       "      <td>266.812464</td>\n",
       "      <td>831.627213</td>\n",
       "    </tr>\n",
       "    <tr>\n",
       "      <th>2017-10-11 13:00:00+00:00</th>\n",
       "      <td>439.492011</td>\n",
       "      <td>0.000000</td>\n",
       "      <td>59.191854</td>\n",
       "      <td>281.169581</td>\n",
       "      <td>779.853446</td>\n",
       "    </tr>\n",
       "    <tr>\n",
       "      <th>2017-10-11 13:15:00+00:00</th>\n",
       "      <td>393.171756</td>\n",
       "      <td>0.000000</td>\n",
       "      <td>37.452502</td>\n",
       "      <td>292.996296</td>\n",
       "      <td>723.620554</td>\n",
       "    </tr>\n",
       "    <tr>\n",
       "      <th>2017-10-11 13:30:00+00:00</th>\n",
       "      <td>345.164874</td>\n",
       "      <td>0.000000</td>\n",
       "      <td>16.105841</td>\n",
       "      <td>302.086042</td>\n",
       "      <td>663.356757</td>\n",
       "    </tr>\n",
       "    <tr>\n",
       "      <th>2017-10-11 13:45:00+00:00</th>\n",
       "      <td>295.926772</td>\n",
       "      <td>4.595166</td>\n",
       "      <td>0.000000</td>\n",
       "      <td>308.217616</td>\n",
       "      <td>608.739554</td>\n",
       "    </tr>\n",
       "    <tr>\n",
       "      <th>2017-10-11 14:00:00+00:00</th>\n",
       "      <td>245.975854</td>\n",
       "      <td>24.365221</td>\n",
       "      <td>0.000000</td>\n",
       "      <td>311.146326</td>\n",
       "      <td>581.487401</td>\n",
       "    </tr>\n",
       "    <tr>\n",
       "      <th>2017-10-11 14:15:00+00:00</th>\n",
       "      <td>195.913336</td>\n",
       "      <td>42.874532</td>\n",
       "      <td>0.000000</td>\n",
       "      <td>310.591279</td>\n",
       "      <td>549.379147</td>\n",
       "    </tr>\n",
       "    <tr>\n",
       "      <th>2017-10-11 14:30:00+00:00</th>\n",
       "      <td>146.453045</td>\n",
       "      <td>59.730757</td>\n",
       "      <td>0.000000</td>\n",
       "      <td>306.216899</td>\n",
       "      <td>512.400701</td>\n",
       "    </tr>\n",
       "    <tr>\n",
       "      <th>2017-10-11 14:45:00+00:00</th>\n",
       "      <td>98.467114</td>\n",
       "      <td>74.451710</td>\n",
       "      <td>0.000000</td>\n",
       "      <td>297.605592</td>\n",
       "      <td>470.524415</td>\n",
       "    </tr>\n",
       "    <tr>\n",
       "      <th>2017-10-11 15:00:00+00:00</th>\n",
       "      <td>53.057605</td>\n",
       "      <td>86.423308</td>\n",
       "      <td>0.000000</td>\n",
       "      <td>284.216916</td>\n",
       "      <td>423.697828</td>\n",
       "    </tr>\n",
       "    <tr>\n",
       "      <th>2017-10-11 15:15:00+00:00</th>\n",
       "      <td>11.670878</td>\n",
       "      <td>94.834020</td>\n",
       "      <td>0.000000</td>\n",
       "      <td>265.326602</td>\n",
       "      <td>371.831499</td>\n",
       "    </tr>\n",
       "    <tr>\n",
       "      <th>2017-10-11 15:30:00+00:00</th>\n",
       "      <td>0.000000</td>\n",
       "      <td>98.572880</td>\n",
       "      <td>0.000000</td>\n",
       "      <td>239.938504</td>\n",
       "      <td>338.511384</td>\n",
       "    </tr>\n",
       "    <tr>\n",
       "      <th>2017-10-11 15:45:00+00:00</th>\n",
       "      <td>0.000000</td>\n",
       "      <td>96.078975</td>\n",
       "      <td>0.000000</td>\n",
       "      <td>206.675364</td>\n",
       "      <td>302.754339</td>\n",
       "    </tr>\n",
       "    <tr>\n",
       "      <th>2017-10-11 16:00:00+00:00</th>\n",
       "      <td>0.000000</td>\n",
       "      <td>85.172979</td>\n",
       "      <td>0.000000</td>\n",
       "      <td>163.738051</td>\n",
       "      <td>248.911031</td>\n",
       "    </tr>\n",
       "    <tr>\n",
       "      <th>2017-10-11 16:15:00+00:00</th>\n",
       "      <td>0.000000</td>\n",
       "      <td>63.205512</td>\n",
       "      <td>0.000000</td>\n",
       "      <td>109.485017</td>\n",
       "      <td>172.690530</td>\n",
       "    </tr>\n",
       "    <tr>\n",
       "      <th>2017-10-11 16:30:00+00:00</th>\n",
       "      <td>0.000000</td>\n",
       "      <td>0.000000</td>\n",
       "      <td>0.000000</td>\n",
       "      <td>0.000000</td>\n",
       "      <td>0.000000</td>\n",
       "    </tr>\n",
       "    <tr>\n",
       "      <th>2017-10-11 16:45:00+00:00</th>\n",
       "      <td>0.000000</td>\n",
       "      <td>0.000000</td>\n",
       "      <td>0.000000</td>\n",
       "      <td>0.000000</td>\n",
       "      <td>0.000000</td>\n",
       "    </tr>\n",
       "    <tr>\n",
       "      <th>2017-10-11 17:00:00+00:00</th>\n",
       "      <td>0.000000</td>\n",
       "      <td>0.000000</td>\n",
       "      <td>0.000000</td>\n",
       "      <td>0.000000</td>\n",
       "      <td>0.000000</td>\n",
       "    </tr>\n",
       "  </tbody>\n",
       "</table>\n",
       "<p>10901 rows × 5 columns</p>\n",
       "</div>"
      ],
      "text/plain": [
       "                           flux_bastille  flux_chambre  flux_cuisine  \\\n",
       "2017-06-20 04:00:00+00:00       0.000000      0.000000      0.000000   \n",
       "2017-06-20 04:15:00+00:00       0.000000      0.000000      0.000000   \n",
       "2017-06-20 04:30:00+00:00       0.000000      0.000000      0.000000   \n",
       "2017-06-20 04:45:00+00:00       0.000000      0.000000      0.000000   \n",
       "2017-06-20 05:00:00+00:00       0.000000      0.000000      0.000000   \n",
       "2017-06-20 05:15:00+00:00       0.000000      0.000000      0.000000   \n",
       "2017-06-20 05:30:00+00:00     237.149653      0.000000    105.673584   \n",
       "2017-06-20 05:45:00+00:00     291.745678      0.000000    124.817429   \n",
       "2017-06-20 06:00:00+00:00     345.235859      0.000000    142.234971   \n",
       "2017-06-20 06:15:00+00:00     397.093150      0.000000    157.878868   \n",
       "2017-06-20 06:30:00+00:00     446.921047      0.000000    171.728922   \n",
       "2017-06-20 06:45:00+00:00     494.401902      0.000000    183.777157   \n",
       "2017-06-20 07:00:00+00:00     539.270186      0.000000    194.022232   \n",
       "2017-06-20 07:15:00+00:00     581.298087      0.000000    202.467605   \n",
       "2017-06-20 07:30:00+00:00     620.287488      0.000000    209.121182   \n",
       "2017-06-20 07:45:00+00:00     656.065408      0.000000    213.995519   \n",
       "2017-06-20 08:00:00+00:00     688.481374      0.000000    217.108197   \n",
       "2017-06-20 08:15:00+00:00     717.405889      0.000000    218.482194   \n",
       "2017-06-20 08:30:00+00:00     742.729535      0.000000    218.146198   \n",
       "2017-06-20 08:45:00+00:00     764.362449      0.000000    216.134837   \n",
       "2017-06-20 09:00:00+00:00     782.234008      0.000000    212.488841   \n",
       "2017-06-20 09:15:00+00:00     796.292618      0.000000    207.255115   \n",
       "2017-06-20 09:30:00+00:00     806.505563      0.000000    200.486764   \n",
       "2017-06-20 09:45:00+00:00     812.858867      0.000000    192.243051   \n",
       "2017-06-20 10:00:00+00:00     815.357150      0.000000    182.589323   \n",
       "2017-06-20 10:15:00+00:00     814.023462      0.000000    171.596888   \n",
       "2017-06-20 10:30:00+00:00     808.899098      0.000000    159.342869   \n",
       "2017-06-20 10:45:00+00:00     800.043380      0.000000    145.910045   \n",
       "2017-06-20 11:00:00+00:00     787.533413      0.000000    131.386663   \n",
       "2017-06-20 11:15:00+00:00     771.463814      0.000000    115.866254   \n",
       "...                                  ...           ...           ...   \n",
       "2017-10-11 09:45:00+00:00     745.342870      0.000000    289.550901   \n",
       "2017-10-11 10:00:00+00:00     747.351910      0.000000    279.647438   \n",
       "2017-10-11 10:15:00+00:00     744.450641      0.000000    267.854215   \n",
       "2017-10-11 10:30:00+00:00     736.785883      0.000000    254.334051   \n",
       "2017-10-11 10:45:00+00:00     724.512195      0.000000    239.244788   \n",
       "2017-10-11 11:00:00+00:00     707.795193      0.000000    222.742045   \n",
       "2017-10-11 11:15:00+00:00     686.818025      0.000000    204.982490   \n",
       "2017-10-11 11:30:00+00:00     661.773870      0.000000    186.122484   \n",
       "2017-10-11 11:45:00+00:00     632.875693      0.000000    166.322068   \n",
       "2017-10-11 12:00:00+00:00     600.355739      0.000000    145.745527   \n",
       "2017-10-11 12:15:00+00:00     564.469122      0.000000    124.563098   \n",
       "2017-10-11 12:30:00+00:00     525.489507      0.000000    102.950958   \n",
       "2017-10-11 12:45:00+00:00     483.719810      0.000000     81.094939   \n",
       "2017-10-11 13:00:00+00:00     439.492011      0.000000     59.191854   \n",
       "2017-10-11 13:15:00+00:00     393.171756      0.000000     37.452502   \n",
       "2017-10-11 13:30:00+00:00     345.164874      0.000000     16.105841   \n",
       "2017-10-11 13:45:00+00:00     295.926772      4.595166      0.000000   \n",
       "2017-10-11 14:00:00+00:00     245.975854     24.365221      0.000000   \n",
       "2017-10-11 14:15:00+00:00     195.913336     42.874532      0.000000   \n",
       "2017-10-11 14:30:00+00:00     146.453045     59.730757      0.000000   \n",
       "2017-10-11 14:45:00+00:00      98.467114     74.451710      0.000000   \n",
       "2017-10-11 15:00:00+00:00      53.057605     86.423308      0.000000   \n",
       "2017-10-11 15:15:00+00:00      11.670878     94.834020      0.000000   \n",
       "2017-10-11 15:30:00+00:00       0.000000     98.572880      0.000000   \n",
       "2017-10-11 15:45:00+00:00       0.000000     96.078975      0.000000   \n",
       "2017-10-11 16:00:00+00:00       0.000000     85.172979      0.000000   \n",
       "2017-10-11 16:15:00+00:00       0.000000     63.205512      0.000000   \n",
       "2017-10-11 16:30:00+00:00       0.000000      0.000000      0.000000   \n",
       "2017-10-11 16:45:00+00:00       0.000000      0.000000      0.000000   \n",
       "2017-10-11 17:00:00+00:00       0.000000      0.000000      0.000000   \n",
       "\n",
       "                           flux_vercors     flux_tot  \n",
       "2017-06-20 04:00:00+00:00      0.000000     0.000000  \n",
       "2017-06-20 04:15:00+00:00      0.000000     0.000000  \n",
       "2017-06-20 04:30:00+00:00      0.000000     0.000000  \n",
       "2017-06-20 04:45:00+00:00      0.000000     0.000000  \n",
       "2017-06-20 05:00:00+00:00      0.000000     0.000000  \n",
       "2017-06-20 05:15:00+00:00      0.000000     0.000000  \n",
       "2017-06-20 05:30:00+00:00      0.000000   342.823236  \n",
       "2017-06-20 05:45:00+00:00      0.000000   416.563107  \n",
       "2017-06-20 06:00:00+00:00      0.000000   487.470830  \n",
       "2017-06-20 06:15:00+00:00      0.000000   554.972018  \n",
       "2017-06-20 06:30:00+00:00      0.000000   618.649969  \n",
       "2017-06-20 06:45:00+00:00      2.846996   681.026055  \n",
       "2017-06-20 07:00:00+00:00     20.312436   753.604854  \n",
       "2017-06-20 07:15:00+00:00     39.751213   823.516906  \n",
       "2017-06-20 07:30:00+00:00     60.944071   890.352741  \n",
       "2017-06-20 07:45:00+00:00     83.684439   953.745366  \n",
       "2017-06-20 08:00:00+00:00    107.774820  1013.364391  \n",
       "2017-06-20 08:15:00+00:00    133.024259  1068.912343  \n",
       "2017-06-20 08:30:00+00:00    159.246605  1120.122338  \n",
       "2017-06-20 08:45:00+00:00    186.259372  1166.756659  \n",
       "2017-06-20 09:00:00+00:00    213.883001  1208.605850  \n",
       "2017-06-20 09:15:00+00:00    241.940432  1245.488165  \n",
       "2017-06-20 09:30:00+00:00    270.256913  1277.249239  \n",
       "2017-06-20 09:45:00+00:00    298.659951  1303.761869  \n",
       "2017-06-20 10:00:00+00:00    326.979382  1324.925855  \n",
       "2017-06-20 10:15:00+00:00    355.047529  1340.667879  \n",
       "2017-06-20 10:30:00+00:00    382.699399  1350.941366  \n",
       "2017-06-20 10:45:00+00:00    409.772904  1355.726329  \n",
       "2017-06-20 11:00:00+00:00    436.109112  1355.029187  \n",
       "2017-06-20 11:15:00+00:00    461.552472  1348.882539  \n",
       "...                                 ...          ...  \n",
       "2017-10-11 09:45:00+00:00      0.000000  1034.893771  \n",
       "2017-10-11 10:00:00+00:00      0.000000  1026.999348  \n",
       "2017-10-11 10:15:00+00:00     28.012018  1040.316873  \n",
       "2017-10-11 10:30:00+00:00     56.510095  1047.630029  \n",
       "2017-10-11 10:45:00+00:00     84.596162  1048.353144  \n",
       "2017-10-11 11:00:00+00:00    112.019597  1042.556835  \n",
       "2017-10-11 11:15:00+00:00    138.544505  1030.345020  \n",
       "2017-10-11 11:30:00+00:00    163.945838  1011.842192  \n",
       "2017-10-11 11:45:00+00:00    188.008496   987.206257  \n",
       "2017-10-11 12:00:00+00:00    210.525305   956.626571  \n",
       "2017-10-11 12:15:00+00:00    231.296038   920.328258  \n",
       "2017-10-11 12:30:00+00:00    250.123138   878.563602  \n",
       "2017-10-11 12:45:00+00:00    266.812464   831.627213  \n",
       "2017-10-11 13:00:00+00:00    281.169581   779.853446  \n",
       "2017-10-11 13:15:00+00:00    292.996296   723.620554  \n",
       "2017-10-11 13:30:00+00:00    302.086042   663.356757  \n",
       "2017-10-11 13:45:00+00:00    308.217616   608.739554  \n",
       "2017-10-11 14:00:00+00:00    311.146326   581.487401  \n",
       "2017-10-11 14:15:00+00:00    310.591279   549.379147  \n",
       "2017-10-11 14:30:00+00:00    306.216899   512.400701  \n",
       "2017-10-11 14:45:00+00:00    297.605592   470.524415  \n",
       "2017-10-11 15:00:00+00:00    284.216916   423.697828  \n",
       "2017-10-11 15:15:00+00:00    265.326602   371.831499  \n",
       "2017-10-11 15:30:00+00:00    239.938504   338.511384  \n",
       "2017-10-11 15:45:00+00:00    206.675364   302.754339  \n",
       "2017-10-11 16:00:00+00:00    163.738051   248.911031  \n",
       "2017-10-11 16:15:00+00:00    109.485017   172.690530  \n",
       "2017-10-11 16:30:00+00:00      0.000000     0.000000  \n",
       "2017-10-11 16:45:00+00:00      0.000000     0.000000  \n",
       "2017-10-11 17:00:00+00:00      0.000000     0.000000  \n",
       "\n",
       "[10901 rows x 5 columns]"
      ]
     },
     "execution_count": 48,
     "metadata": {},
     "output_type": "execute_result"
    }
   ],
   "source": [
    "sunFlux_DF"
   ]
  },
  {
   "cell_type": "code",
   "execution_count": 49,
   "metadata": {
    "collapsed": true
   },
   "outputs": [],
   "source": [
    "measurement_name = 'sundata'\n",
    "\n",
    "# Ajoute colone par colones pour retirer les NaN...\n",
    "for c in sunFlux_DF.columns:\n",
    "    CLIENT.write_points(sunFlux_DF[[c]].dropna(), measurement_name)"
   ]
  },
  {
   "cell_type": "code",
   "execution_count": null,
   "metadata": {
    "collapsed": true
   },
   "outputs": [],
   "source": []
  },
  {
   "cell_type": "code",
   "execution_count": 51,
   "metadata": {},
   "outputs": [
    {
     "data": {
      "text/plain": [
       "DatetimeIndex(['2017-06-20 04:00:00+00:00', '2017-06-20 04:15:00+00:00',\n",
       "               '2017-06-20 04:30:00+00:00', '2017-06-20 04:45:00+00:00',\n",
       "               '2017-06-20 05:00:00+00:00', '2017-06-20 05:15:00+00:00',\n",
       "               '2017-06-20 05:30:00+00:00', '2017-06-20 05:45:00+00:00',\n",
       "               '2017-06-20 06:00:00+00:00', '2017-06-20 06:15:00+00:00',\n",
       "               ...\n",
       "               '2017-10-11 14:45:00+00:00', '2017-10-11 15:00:00+00:00',\n",
       "               '2017-10-11 15:15:00+00:00', '2017-10-11 15:30:00+00:00',\n",
       "               '2017-10-11 15:45:00+00:00', '2017-10-11 16:00:00+00:00',\n",
       "               '2017-10-11 16:15:00+00:00', '2017-10-11 16:30:00+00:00',\n",
       "               '2017-10-11 16:45:00+00:00', '2017-10-11 17:00:00+00:00'],\n",
       "              dtype='datetime64[ns, UTC]', length=10901, freq='15T')"
      ]
     },
     "execution_count": 51,
     "metadata": {},
     "output_type": "execute_result"
    }
   ],
   "source": [
    "sunFlux_DF.index"
   ]
  },
  {
   "cell_type": "code",
   "execution_count": null,
   "metadata": {
    "collapsed": true
   },
   "outputs": [],
   "source": []
  }
 ],
 "metadata": {
  "kernelspec": {
   "display_name": "Python 3",
   "language": "python",
   "name": "python3"
  },
  "language_info": {
   "codemirror_mode": {
    "name": "ipython",
    "version": 3
   },
   "file_extension": ".py",
   "mimetype": "text/x-python",
   "name": "python",
   "nbconvert_exporter": "python",
   "pygments_lexer": "ipython3",
   "version": "3.5.2"
  }
 },
 "nbformat": 4,
 "nbformat_minor": 2
}
