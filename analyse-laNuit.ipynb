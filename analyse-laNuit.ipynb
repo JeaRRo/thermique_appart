{
 "cells": [
  {
   "cell_type": "markdown",
   "metadata": {},
   "source": [
    "# La nuit\n",
    "\n",
    "Calcul $h/M$ la nuit, entre 22h et 6h."
   ]
  },
  {
   "cell_type": "code",
   "execution_count": 257,
   "metadata": {
    "collapsed": true
   },
   "outputs": [],
   "source": [
    "import numpy as np\n",
    "import matplotlib.pyplot as plt\n",
    "%matplotlib inline\n",
    "\n",
    "import pandas as pd"
   ]
  },
  {
   "cell_type": "markdown",
   "metadata": {},
   "source": [
    "influxDB:  http://127.0.0.1:8083/  \n",
    "Grafana: http://127.0.0.1:3000/dashboard/db/weatherdata?orgId=1"
   ]
  },
  {
   "cell_type": "code",
   "execution_count": 258,
   "metadata": {
    "collapsed": true
   },
   "outputs": [],
   "source": [
    "from influxdb import DataFrameClient"
   ]
  },
  {
   "cell_type": "markdown",
   "metadata": {},
   "source": [
    "### Download the data"
   ]
  },
  {
   "cell_type": "code",
   "execution_count": 259,
   "metadata": {},
   "outputs": [],
   "source": [
    "# see https://influxdb-python.readthedocs.io/en/latest/examples.html#tutorials-pandas\n",
    "\"\"\"Instantiate the connection to the InfluxDB client.\"\"\"\n",
    "\n",
    "host, port = 'localhost', 8086\n",
    "user, password = 'root', 'root'\n",
    "dbname = 'weatherdata'\n",
    "protocol = 'json' # 'line'\n",
    "\n",
    "CLIENT = DataFrameClient(host, port, user, password, dbname)"
   ]
  },
  {
   "cell_type": "code",
   "execution_count": 245,
   "metadata": {
    "collapsed": true
   },
   "outputs": [],
   "source": [
    "d1 = '2017-11-05'"
   ]
  },
  {
   "cell_type": "code",
   "execution_count": 260,
   "metadata": {},
   "outputs": [],
   "source": [
    "d1_DT = pd.to_datetime( d1 )\n",
    "d2_DT = d1_DT + pd.to_timedelta('1d')\n",
    "\n",
    "d1_DT = d1_DT.replace(hour=22)\n",
    "d2_DT = d2_DT.replace(hour=6)\n",
    "\n",
    "d1_DT = d1_DT.tz_localize('Europe/Paris')\n",
    "d2_DT = d2_DT.tz_localize('Europe/Paris')\n",
    "\n",
    "d1 = d1_DT.astimezone('UTC').strftime('%Y-%m-%d %H:%M:%S')\n",
    "d2 = d2_DT.astimezone('UTC').strftime('%Y-%m-%d %H:%M:%S')"
   ]
  },
  {
   "cell_type": "code",
   "execution_count": 261,
   "metadata": {},
   "outputs": [
    {
     "name": "stdout",
     "output_type": "stream",
     "text": [
      "2017-11-05 21:00:00 2017-11-06 05:00:00\n"
     ]
    }
   ],
   "source": [
    "print( d1, d2 )"
   ]
  },
  {
   "cell_type": "code",
   "execution_count": 262,
   "metadata": {},
   "outputs": [],
   "source": [
    "query = \"SELECT T_int FROM openenergymonitor WHERE  time >= '%s' and time <= '%s'\"%(d1, d2)\n",
    "T_int_data = CLIENT.query(query)\n",
    "\n",
    "query =  \"SELECT temperature FROM darksky WHERE  time >= '%s' and time <= '%s'\"%(d1, d2)\n",
    "T_ext_data = CLIENT.query(query)"
   ]
  },
  {
   "cell_type": "code",
   "execution_count": 264,
   "metadata": {
    "collapsed": true
   },
   "outputs": [],
   "source": [
    "def toarray( DF ):\n",
    "    data_dict = DF.to_dict(orient='list')\n",
    "    time_sec = DF.index.astype(np.int64) // 1e9    # conversion en secondes\n",
    "    \n",
    "    time_sec = time_sec - time_sec[0]\n",
    "    time_sec = time_sec / 3600\n",
    "    data = [ k for k in data_dict.values() ][0]\n",
    "    \n",
    "    return time_sec, data"
   ]
  },
  {
   "cell_type": "code",
   "execution_count": 335,
   "metadata": {},
   "outputs": [],
   "source": [
    "time_Tint, T_int = toarray( T_int_data['openenergymonitor'] )\n",
    "time_Text, T_ext = toarray( T_ext_data['darksky'] )"
   ]
  },
  {
   "cell_type": "code",
   "execution_count": 336,
   "metadata": {},
   "outputs": [
    {
     "data": {
      "text/plain": [
       "[<matplotlib.lines.Line2D at 0x7f2ac4831278>]"
      ]
     },
     "execution_count": 336,
     "metadata": {},
     "output_type": "execute_result"
    },
    {
     "data": {
      "image/png": "[encoded data removed]",
      "text/plain": [
       "<matplotlib.figure.Figure at 0x7f2ac39bed68>"
      ]
     },
     "metadata": {},
     "output_type": "display_data"
    }
   ],
   "source": [
    "plt.plot( time_Tint, T_int )\n",
    "plt.plot( time_Text, T_ext )"
   ]
  },
  {
   "cell_type": "markdown",
   "metadata": {},
   "source": [
    "### Fit spline"
   ]
  },
  {
   "cell_type": "code",
   "execution_count": 269,
   "metadata": {
    "collapsed": true
   },
   "outputs": [],
   "source": [
    "from scipy.interpolate import UnivariateSpline"
   ]
  },
  {
   "cell_type": "code",
   "execution_count": 270,
   "metadata": {
    "collapsed": true
   },
   "outputs": [],
   "source": [
    "xnew = np.linspace( 0, time_Tint[-1], 200 )"
   ]
  },
  {
   "cell_type": "code",
   "execution_count": 271,
   "metadata": {
    "collapsed": true
   },
   "outputs": [],
   "source": [
    "spline = UnivariateSpline( time_Tint, T_int )"
   ]
  },
  {
   "cell_type": "code",
   "execution_count": 272,
   "metadata": {},
   "outputs": [
    {
     "data": {
      "text/plain": [
       "[<matplotlib.lines.Line2D at 0x7f2ac4cffd68>]"
      ]
     },
     "execution_count": 272,
     "metadata": {},
     "output_type": "execute_result"
    },
    {
     "data": {
      "image/png": "[encoded data removed]",
      "text/plain": [
       "<matplotlib.figure.Figure at 0x7f2ac4cffe80>"
      ]
     },
     "metadata": {},
     "output_type": "display_data"
    }
   ],
   "source": [
    "plt.plot( time_Tint, T_int )\n",
    "plt.plot( xnew, spline( xnew ) )"
   ]
  },
  {
   "cell_type": "code",
   "execution_count": 30,
   "metadata": {},
   "outputs": [
    {
     "data": {
      "text/plain": [
       "array([ 22.7409565 ,  22.53498413,  22.01844884,  21.73613475])"
      ]
     },
     "execution_count": 30,
     "metadata": {},
     "output_type": "execute_result"
    }
   ],
   "source": [
    "spline.get_coeffs()"
   ]
  },
  {
   "cell_type": "code",
   "execution_count": 31,
   "metadata": {
    "collapsed": true
   },
   "outputs": [],
   "source": [
    "spline_dTdt = spline.derivative()"
   ]
  },
  {
   "cell_type": "code",
   "execution_count": 33,
   "metadata": {
    "collapsed": true
   },
   "outputs": [],
   "source": [
    "deltaT = T_ext - spline( time_Text )\n",
    "dTdt = spline_dTdt( time_Text )\n",
    "\n",
    "h_M = dTdt / deltaT"
   ]
  },
  {
   "cell_type": "code",
   "execution_count": 273,
   "metadata": {},
   "outputs": [
    {
     "data": {
      "image/png": "[encoded data removed]",
      "text/plain": [
       "<matplotlib.figure.Figure at 0x7f2ac5696d68>"
      ]
     },
     "metadata": {},
     "output_type": "display_data"
    }
   ],
   "source": [
    "plt.plot( h_M );\n",
    "plt.ylabel('h_M');"
   ]
  },
  {
   "cell_type": "markdown",
   "metadata": {},
   "source": [
    "## iterate"
   ]
  },
  {
   "cell_type": "code",
   "execution_count": 296,
   "metadata": {
    "collapsed": true
   },
   "outputs": [],
   "source": [
    "# une fonction pour tout faire:\n",
    "def get_hM( d1 ):\n",
    "    d1_DT = pd.to_datetime( d1 )\n",
    "    d2_DT = d1_DT + pd.to_timedelta('1d')\n",
    "\n",
    "    d1_DT = d1_DT.replace(hour=22)\n",
    "    d2_DT = d2_DT.replace(hour=6)\n",
    "\n",
    "    d1_DT = d1_DT.tz_localize('Europe/Paris')\n",
    "    d2_DT = d2_DT.tz_localize('Europe/Paris')\n",
    "\n",
    "    d1 = d1_DT.astimezone('UTC').strftime('%Y-%m-%d %H:%M:%S')\n",
    "    d2 = d2_DT.astimezone('UTC').strftime('%Y-%m-%d %H:%M:%S')\n",
    "    \n",
    "    \n",
    "    query = \"SELECT T_int FROM openenergymonitor WHERE  time >= '%s' and time <= '%s'\"%(d1, d2)\n",
    "    T_int_data = CLIENT.query(query)\n",
    "    \n",
    "    if not T_int_data:\n",
    "        print('no data for %s'%d1)\n",
    "        return np.array([]), np.array([])\n",
    "    \n",
    "    query =  \"SELECT temperature FROM darksky WHERE  time >= '%s' and time <= '%s'\"%(d1, d2)\n",
    "    T_ext_data = CLIENT.query(query)\n",
    "    \n",
    "    time_Tint, T_int = toarray( T_int_data['openenergymonitor'] )\n",
    "    time_Text, T_ext = toarray( T_ext_data['darksky'] )\n",
    "    \n",
    "    spline = UnivariateSpline( time_Tint, T_int )#, s=1.05 )\n",
    "    spline_dTdt = spline.derivative()\n",
    "    \n",
    "    deltaT = T_ext - spline( time_Text )\n",
    "    dTdt = spline_dTdt( time_Text )\n",
    "\n",
    "    h_M = dTdt / deltaT\n",
    "    \n",
    "    #T_ext_data['darksky'].tz_convert('Europe/Paris')\n",
    "    time_index = T_ext_data['darksky'].index\n",
    "    return time_index, h_M\n",
    "    "
   ]
  },
  {
   "cell_type": "code",
   "execution_count": 333,
   "metadata": {},
   "outputs": [
    {
     "name": "stdout",
     "output_type": "stream",
     "text": [
      "no data for 2017-10-19 20:00:00\n"
     ]
    },
    {
     "data": {
      "text/plain": [
       "(array([], dtype=float64), array([], dtype=float64))"
      ]
     },
     "execution_count": 333,
     "metadata": {},
     "output_type": "execute_result"
    }
   ],
   "source": [
    "# debug:\n",
    "get_hM( '2017-10-19' )"
   ]
  },
  {
   "cell_type": "code",
   "execution_count": 334,
   "metadata": {
    "collapsed": true
   },
   "outputs": [],
   "source": [
    "# iterate : \n",
    "firstday = '2017-06-08'\n",
    "lastday = '2017-11-05'\n",
    "\n",
    "daterange = pd.date_range(start=firstday, end=lastday,  freq='D', normalize=True)\n",
    "daterange_iso = daterange.strftime('%Y-%m-%d')"
   ]
  },
  {
   "cell_type": "code",
   "execution_count": 306,
   "metadata": {},
   "outputs": [
    {
     "name": "stdout",
     "output_type": "stream",
     "text": [
      "no data for 2017-06-08 20:00:00\n",
      "no data for 2017-06-09 20:00:00\n",
      "no data for 2017-06-10 20:00:00\n",
      "no data for 2017-06-11 20:00:00\n",
      "no data for 2017-06-12 20:00:00\n",
      "no data for 2017-06-13 20:00:00\n",
      "no data for 2017-06-14 20:00:00\n",
      "no data for 2017-06-15 20:00:00\n",
      "no data for 2017-06-16 20:00:00\n",
      "no data for 2017-06-17 20:00:00\n",
      "no data for 2017-06-18 20:00:00\n",
      "no data for 2017-06-19 20:00:00\n",
      "no data for 2017-06-20 20:00:00\n",
      "no data for 2017-06-21 20:00:00\n",
      "no data for 2017-06-22 20:00:00\n",
      "no data for 2017-06-23 20:00:00\n",
      "no data for 2017-06-24 20:00:00\n",
      "no data for 2017-06-25 20:00:00\n",
      "no data for 2017-06-26 20:00:00\n",
      "no data for 2017-06-27 20:00:00\n",
      "no data for 2017-06-28 20:00:00\n",
      "no data for 2017-06-29 20:00:00\n",
      "no data for 2017-10-18 20:00:00\n",
      "no data for 2017-10-19 20:00:00\n",
      "no data for 2017-10-20 20:00:00\n"
     ]
    },
    {
     "data": {
      "image/png": "[encoded data removed]",
      "text/plain": [
       "<matplotlib.figure.Figure at 0x7f2ac4fb3320>"
      ]
     },
     "metadata": {},
     "output_type": "display_data"
    }
   ],
   "source": [
    "all_hM = []\n",
    "for day in daterange_iso:\n",
    "    time, h_M = get_hM( day )\n",
    "    \n",
    "    if len( h_M )>0:\n",
    "        all_hM.append( h_M )\n",
    "        plt.plot( h_M, alpha=0.5 )"
   ]
  },
  {
   "cell_type": "code",
   "execution_count": 312,
   "metadata": {},
   "outputs": [],
   "source": [
    "all_hM = np.concatenate( all_hM )\n",
    "all_hM = np.array( all_hM ).flatten()"
   ]
  },
  {
   "cell_type": "code",
   "execution_count": 328,
   "metadata": {},
   "outputs": [
    {
     "data": {
      "image/png": "[encoded data removed]",
      "text/plain": [
       "<matplotlib.figure.Figure at 0x7f2ac46ffda0>"
      ]
     },
     "metadata": {},
     "output_type": "display_data"
    }
   ],
   "source": [
    "plt.hist(all_hM, bins='auto')  ;\n",
    "plt.axvline(x=all_hM.mean(), color='r' );\n",
    "plt.axvline(x=np.median( all_hM ), color='r' );"
   ]
  },
  {
   "cell_type": "code",
   "execution_count": 329,
   "metadata": {},
   "outputs": [
    {
     "data": {
      "text/plain": [
       "0.0096047327570730253"
      ]
     },
     "execution_count": 329,
     "metadata": {},
     "output_type": "execute_result"
    }
   ],
   "source": [
    "np.median( all_hM )"
   ]
  },
  {
   "cell_type": "markdown",
   "metadata": {},
   "source": [
    "# -- Write to InfluxDB --"
   ]
  },
  {
   "cell_type": "code",
   "execution_count": 332,
   "metadata": {},
   "outputs": [
    {
     "name": "stdout",
     "output_type": "stream",
     "text": [
      "no data for 2017-06-08 20:00:00\n",
      "no data for 2017-06-09 20:00:00\n",
      "no data for 2017-06-10 20:00:00\n",
      "no data for 2017-06-11 20:00:00\n",
      "no data for 2017-06-12 20:00:00\n",
      "no data for 2017-06-13 20:00:00\n",
      "no data for 2017-06-14 20:00:00\n",
      "no data for 2017-06-15 20:00:00\n",
      "no data for 2017-06-16 20:00:00\n",
      "no data for 2017-06-17 20:00:00\n",
      "no data for 2017-06-18 20:00:00\n",
      "no data for 2017-06-19 20:00:00\n",
      "no data for 2017-06-20 20:00:00\n",
      "no data for 2017-06-21 20:00:00\n",
      "no data for 2017-06-22 20:00:00\n",
      "no data for 2017-06-23 20:00:00\n",
      "no data for 2017-06-24 20:00:00\n",
      "no data for 2017-06-25 20:00:00\n",
      "no data for 2017-06-26 20:00:00\n",
      "no data for 2017-06-27 20:00:00\n",
      "no data for 2017-06-28 20:00:00\n",
      "no data for 2017-06-29 20:00:00\n",
      "no data for 2017-10-18 20:00:00\n",
      "no data for 2017-10-19 20:00:00\n",
      "no data for 2017-10-20 20:00:00\n"
     ]
    }
   ],
   "source": [
    "measurement_name = 'analyse'\n",
    "\n",
    "for day in daterange_iso:\n",
    "    time, h_M = get_hM( day )\n",
    "    \n",
    "    if len( time )==0:\n",
    "        continue\n",
    "        \n",
    "    DF = pd.DataFrame( {'h_M':h_M}, index=time )\n",
    "    \n",
    "    # Ajoute colone par colones pour retirer les NaN...\n",
    "    for c in DF.columns:\n",
    "        CLIENT.write_points(DF[[c]].dropna(), measurement_name)"
   ]
  },
  {
   "cell_type": "code",
   "execution_count": null,
   "metadata": {
    "collapsed": true
   },
   "outputs": [],
   "source": []
  }
 ],
 "metadata": {
  "kernelspec": {
   "display_name": "Python 3",
   "language": "python",
   "name": "python3"
  },
  "language_info": {
   "codemirror_mode": {
    "name": "ipython",
    "version": 3
   },
   "file_extension": ".py",
   "mimetype": "text/x-python",
   "name": "python",
   "nbconvert_exporter": "python",
   "pygments_lexer": "ipython3",
   "version": "3.5.2"
  }
 },
 "nbformat": 4,
 "nbformat_minor": 2
}
