{
 "cells": [
  {
   "cell_type": "markdown",
   "metadata": {},
   "source": [
    "# La nuit"
   ]
  },
  {
   "cell_type": "code",
   "execution_count": 1,
   "metadata": {
    "collapsed": true
   },
   "outputs": [],
   "source": [
    "import numpy as np\n",
    "import matplotlib.pyplot as plt\n",
    "%matplotlib inline\n",
    "\n",
    "import pandas as pd"
   ]
  },
  {
   "cell_type": "markdown",
   "metadata": {},
   "source": [
    "influxDB:  http://127.0.0.1:8083/  \n",
    "Grafana: http://127.0.0.1:3000/dashboard/db/weatherdata?orgId=1"
   ]
  },
  {
   "cell_type": "code",
   "execution_count": 2,
   "metadata": {
    "collapsed": true
   },
   "outputs": [],
   "source": [
    "from influxdb import DataFrameClient"
   ]
  },
  {
   "cell_type": "code",
   "execution_count": 3,
   "metadata": {},
   "outputs": [
    {
     "name": "stdout",
     "output_type": "stream",
     "text": [
      "Create database: weatherdata\n"
     ]
    }
   ],
   "source": [
    "# see https://influxdb-python.readthedocs.io/en/latest/examples.html#tutorials-pandas\n",
    "\"\"\"Instantiate the connection to the InfluxDB client.\"\"\"\n",
    "\n",
    "host, port = 'localhost', 8086\n",
    "user, password = 'root', 'root'\n",
    "dbname = 'weatherdata'\n",
    "protocol = 'json' # 'line'\n",
    "\n",
    "CLIENT = DataFrameClient(host, port, user, password, dbname)\n",
    "\n",
    "print(\"Create database: \" + dbname)\n",
    "CLIENT.create_database(dbname)"
   ]
  },
  {
   "cell_type": "code",
   "execution_count": 4,
   "metadata": {
    "collapsed": true
   },
   "outputs": [],
   "source": [
    "d1 = '2017-07-12'"
   ]
  },
  {
   "cell_type": "code",
   "execution_count": 5,
   "metadata": {},
   "outputs": [
    {
     "name": "stdout",
     "output_type": "stream",
     "text": [
      "2017-07-13\n"
     ]
    }
   ],
   "source": [
    "d2_dt = pd.to_datetime( d1 ) + pd.to_timedelta('1d')\n",
    "d2 = d2_dt.strftime( '%Y-%m-%d' )\n",
    "print( d2 )"
   ]
  },
  {
   "cell_type": "code",
   "execution_count": 6,
   "metadata": {},
   "outputs": [],
   "source": [
    "query = \"SELECT T_int FROM openenergymonitor WHERE  time >= '%s 22:00:00' and time <= '%s 06:00:00'\"%(d1, d2)\n",
    "T_int_data = CLIENT.query(query)"
   ]
  },
  {
   "cell_type": "code",
   "execution_count": 7,
   "metadata": {
    "collapsed": true
   },
   "outputs": [],
   "source": [
    "query =  \"SELECT temperature FROM darksky WHERE  time >= '%s 22:00:00' and time <= '%s 06:00:00'\"%(d1, d2)\n",
    "T_ext_data = CLIENT.query(query)"
   ]
  },
  {
   "cell_type": "code",
   "execution_count": 8,
   "metadata": {
    "collapsed": true
   },
   "outputs": [],
   "source": [
    "def toarray( DF ):\n",
    "    data_dict = DF.to_dict(orient='list')\n",
    "    time_sec = DF.index.astype(np.int64) // 1e9    # conversion en secondes\n",
    "    \n",
    "    time_sec = time_sec - time_sec[0]\n",
    "    time_sec = time_sec / 3600\n",
    "    data = [ k for k in data_dict.values() ][0]\n",
    "    \n",
    "    return time_sec, data"
   ]
  },
  {
   "cell_type": "code",
   "execution_count": 9,
   "metadata": {},
   "outputs": [],
   "source": [
    "time_Tint, T_int = toarray( T_int_data['openenergymonitor'] )"
   ]
  },
  {
   "cell_type": "code",
   "execution_count": 10,
   "metadata": {},
   "outputs": [],
   "source": [
    "d = T_ext_data['darksky'].index[0]"
   ]
  },
  {
   "cell_type": "code",
   "execution_count": 11,
   "metadata": {},
   "outputs": [],
   "source": [
    "time_Text, T_ext = toarray( T_ext_data['darksky'] )"
   ]
  },
  {
   "cell_type": "code",
   "execution_count": 12,
   "metadata": {},
   "outputs": [
    {
     "data": {
      "text/plain": [
       "[<matplotlib.lines.Line2D at 0x7f70f37f6f28>]"
      ]
     },
     "execution_count": 12,
     "metadata": {},
     "output_type": "execute_result"
    },
    {
     "data": {
      "image/png": "[encoded data removed]",
      "text/plain": [
       "<matplotlib.figure.Figure at 0x7f70f37f6ef0>"
      ]
     },
     "metadata": {},
     "output_type": "display_data"
    }
   ],
   "source": [
    "plt.plot( time_Tint, T_int )\n",
    "plt.plot( time_Text, T_ext )"
   ]
  },
  {
   "cell_type": "markdown",
   "metadata": {},
   "source": [
    "## Fit spline"
   ]
  },
  {
   "cell_type": "code",
   "execution_count": 13,
   "metadata": {
    "collapsed": true
   },
   "outputs": [],
   "source": [
    "from scipy.interpolate import UnivariateSpline"
   ]
  },
  {
   "cell_type": "code",
   "execution_count": 14,
   "metadata": {
    "collapsed": true
   },
   "outputs": [],
   "source": [
    "xnew = np.linspace( 0, time_Tint[-1], 200 )"
   ]
  },
  {
   "cell_type": "code",
   "execution_count": 15,
   "metadata": {},
   "outputs": [],
   "source": [
    "spline = UnivariateSpline( time_Tint, T_int )"
   ]
  },
  {
   "cell_type": "code",
   "execution_count": 16,
   "metadata": {},
   "outputs": [
    {
     "data": {
      "text/plain": [
       "[<matplotlib.lines.Line2D at 0x7f70eac7b278>]"
      ]
     },
     "execution_count": 16,
     "metadata": {},
     "output_type": "execute_result"
    },
    {
     "data": {
      "image/png": "[encoded data removed]",
      "text/plain": [
       "<matplotlib.figure.Figure at 0x7f70eac7b2b0>"
      ]
     },
     "metadata": {},
     "output_type": "display_data"
    }
   ],
   "source": [
    "plt.plot( time_Tint, T_int )\n",
    "plt.plot( xnew, spline( xnew ) )"
   ]
  },
  {
   "cell_type": "code",
   "execution_count": 17,
   "metadata": {},
   "outputs": [
    {
     "data": {
      "text/plain": [
       "array([ 27.57977248,  26.75963421,  24.25383464,  24.10109336])"
      ]
     },
     "execution_count": 17,
     "metadata": {},
     "output_type": "execute_result"
    }
   ],
   "source": [
    "spline.get_coeffs()"
   ]
  },
  {
   "cell_type": "code",
   "execution_count": 18,
   "metadata": {
    "collapsed": true
   },
   "outputs": [],
   "source": [
    "spline_dTdt = spline.derivative()"
   ]
  },
  {
   "cell_type": "code",
   "execution_count": 19,
   "metadata": {},
   "outputs": [
    {
     "data": {
      "text/plain": [
       "array([-0.30755185, -0.44191823, -0.52895585, -0.56866474, -0.56104488,\n",
       "       -0.50609627, -0.40381892, -0.25421282, -0.05727798])"
      ]
     },
     "execution_count": 19,
     "metadata": {},
     "output_type": "execute_result"
    }
   ],
   "source": [
    "spline_dTdt( time_Text )"
   ]
  },
  {
   "cell_type": "code",
   "execution_count": 20,
   "metadata": {
    "collapsed": true
   },
   "outputs": [],
   "source": [
    "deltaT = T_ext - spline( time_Text )\n",
    "dTdt = spline_dTdt( time_Text )\n",
    "\n",
    "h_M = dTdt / deltaT"
   ]
  },
  {
   "cell_type": "code",
   "execution_count": 21,
   "metadata": {},
   "outputs": [
    {
     "data": {
      "text/plain": [
       "[<matplotlib.lines.Line2D at 0x7f70e9f593c8>]"
      ]
     },
     "execution_count": 21,
     "metadata": {},
     "output_type": "execute_result"
    },
    {
     "data": {
      "image/png": "[encoded data removed]",
      "text/plain": [
       "<matplotlib.figure.Figure at 0x7f70ea005940>"
      ]
     },
     "metadata": {},
     "output_type": "display_data"
    }
   ],
   "source": [
    "plt.plot( h_M )"
   ]
  },
  {
   "cell_type": "code",
   "execution_count": 57,
   "metadata": {
    "collapsed": true
   },
   "outputs": [],
   "source": [
    "def get_hM( d1 ):\n",
    "    d2_dt = pd.to_datetime( d1 ) + pd.to_timedelta('1d')\n",
    "    d2 = d2_dt.strftime( '%Y-%m-%d' )\n",
    "    \n",
    "    query = \"SELECT T_int FROM openenergymonitor WHERE  time >= '%s 22:00:00' and time <= '%s 06:00:00'\"%(d1, d2)\n",
    "    T_int_data = CLIENT.query(query)\n",
    "    \n",
    "    query =  \"SELECT temperature FROM darksky WHERE  time >= '%s 22:00:00' and time <= '%s 06:00:00'\"%(d1, d2)\n",
    "    T_ext_data = CLIENT.query(query)\n",
    "    \n",
    "    time_Tint, T_int = toarray( T_int_data['openenergymonitor'] )\n",
    "    time_Text, T_ext = toarray( T_ext_data['darksky'] )\n",
    "    \n",
    "    spline = UnivariateSpline( time_Tint, T_int )#, s=1.05 )\n",
    "    spline_dTdt = spline.derivative()\n",
    "    \n",
    "    deltaT = T_ext - spline( time_Text )\n",
    "    dTdt = spline_dTdt( time_Text )\n",
    "\n",
    "    h_M = dTdt / deltaT\n",
    "    \n",
    "    #T_ext_data['darksky'].tz_convert('Europe/Paris')\n",
    "    time_index = T_ext_data['darksky'].index\n",
    "    return time_index, h_M\n",
    "    "
   ]
  },
  {
   "cell_type": "code",
   "execution_count": 58,
   "metadata": {},
   "outputs": [
    {
     "data": {
      "text/plain": [
       "(DatetimeIndex(['2017-07-20 22:00:00+00:00', '2017-07-20 23:00:00+00:00',\n",
       "                '2017-07-21 00:00:00+00:00', '2017-07-21 01:00:00+00:00',\n",
       "                '2017-07-21 02:00:00+00:00', '2017-07-21 03:00:00+00:00',\n",
       "                '2017-07-21 04:00:00+00:00', '2017-07-21 05:00:00+00:00',\n",
       "                '2017-07-21 06:00:00+00:00'],\n",
       "               dtype='datetime64[ns, UTC]', freq=None),\n",
       " array([ 0.01231304,  0.01169051,  0.01082727,  0.01032138,  0.00996909,\n",
       "         0.00974905,  0.00958718,  0.01048958,  0.01248501]))"
      ]
     },
     "execution_count": 58,
     "metadata": {},
     "output_type": "execute_result"
    }
   ],
   "source": [
    "get_hM( '2017-07-20' )"
   ]
  },
  {
   "cell_type": "markdown",
   "metadata": {},
   "source": [
    "## iterate"
   ]
  },
  {
   "cell_type": "code",
   "execution_count": 59,
   "metadata": {
    "collapsed": true
   },
   "outputs": [],
   "source": [
    "firstday = '2017-07-02'\n",
    "lastday = '2017-10-07'\n",
    "\n",
    "daterange = pd.date_range(start=firstday, end=lastday,  freq='D', normalize=True)\n",
    "daterange_iso = daterange.strftime('%Y-%m-%d')"
   ]
  },
  {
   "cell_type": "code",
   "execution_count": 60,
   "metadata": {},
   "outputs": [
    {
     "data": {
      "image/png": "[encoded data removed]",
      "text/plain": [
       "<matplotlib.figure.Figure at 0x7f70e9e9ccf8>"
      ]
     },
     "metadata": {},
     "output_type": "display_data"
    }
   ],
   "source": [
    "all_hM = []\n",
    "for day in daterange_iso:\n",
    "    time, h_M = get_hM( day )\n",
    "    plt.plot( h_M, alpha=0.5 )\n",
    "    all_hM.append( h_M )"
   ]
  },
  {
   "cell_type": "code",
   "execution_count": 61,
   "metadata": {},
   "outputs": [],
   "source": [
    "all_hM = np.array( all_hM ).flatten()"
   ]
  },
  {
   "cell_type": "code",
   "execution_count": 62,
   "metadata": {},
   "outputs": [
    {
     "data": {
      "text/plain": [
       "[<matplotlib.lines.Line2D at 0x7f70e9e00c18>]"
      ]
     },
     "execution_count": 62,
     "metadata": {},
     "output_type": "execute_result"
    },
    {
     "data": {
      "image/png": "[encoded data removed]",
      "text/plain": [
       "<matplotlib.figure.Figure at 0x7f70e9eab860>"
      ]
     },
     "metadata": {},
     "output_type": "display_data"
    }
   ],
   "source": [
    "plt.plot( np.sort(all_hM) )"
   ]
  },
  {
   "cell_type": "code",
   "execution_count": 63,
   "metadata": {
    "collapsed": true
   },
   "outputs": [],
   "source": [
    "time, h_M = get_hM( day )\n",
    "DF = pd.DataFrame( {'h_M':h_M}, index=time )"
   ]
  },
  {
   "cell_type": "code",
   "execution_count": 64,
   "metadata": {
    "collapsed": true
   },
   "outputs": [],
   "source": [
    "measurement_name = 'analyse'\n",
    "\n",
    "for day in daterange_iso:\n",
    "    time, h_M = get_hM( day )\n",
    "    DF = pd.DataFrame( {'h_M':h_M}, index=time )\n",
    "    \n",
    "    # Ajoute colone par colones pour retirer les NaN...\n",
    "    for c in DF.columns:\n",
    "        CLIENT.write_points(DF[[c]].dropna(), measurement_name)"
   ]
  },
  {
   "cell_type": "code",
   "execution_count": 65,
   "metadata": {},
   "outputs": [
    {
     "data": {
      "text/html": [
       "<div>\n",
       "<style>\n",
       "    .dataframe thead tr:only-child th {\n",
       "        text-align: right;\n",
       "    }\n",
       "\n",
       "    .dataframe thead th {\n",
       "        text-align: left;\n",
       "    }\n",
       "\n",
       "    .dataframe tbody tr th {\n",
       "        vertical-align: top;\n",
       "    }\n",
       "</style>\n",
       "<table border=\"1\" class=\"dataframe\">\n",
       "  <thead>\n",
       "    <tr style=\"text-align: right;\">\n",
       "      <th></th>\n",
       "      <th>h_M</th>\n",
       "    </tr>\n",
       "  </thead>\n",
       "  <tbody>\n",
       "    <tr>\n",
       "      <th>2017-10-07 22:00:00+00:00</th>\n",
       "      <td>0.012715</td>\n",
       "    </tr>\n",
       "    <tr>\n",
       "      <th>2017-10-07 23:00:00+00:00</th>\n",
       "      <td>0.013120</td>\n",
       "    </tr>\n",
       "    <tr>\n",
       "      <th>2017-10-08 00:00:00+00:00</th>\n",
       "      <td>0.012944</td>\n",
       "    </tr>\n",
       "    <tr>\n",
       "      <th>2017-10-08 01:00:00+00:00</th>\n",
       "      <td>0.012583</td>\n",
       "    </tr>\n",
       "    <tr>\n",
       "      <th>2017-10-08 02:00:00+00:00</th>\n",
       "      <td>0.012319</td>\n",
       "    </tr>\n",
       "    <tr>\n",
       "      <th>2017-10-08 03:00:00+00:00</th>\n",
       "      <td>0.011967</td>\n",
       "    </tr>\n",
       "    <tr>\n",
       "      <th>2017-10-08 04:00:00+00:00</th>\n",
       "      <td>0.010606</td>\n",
       "    </tr>\n",
       "    <tr>\n",
       "      <th>2017-10-08 05:00:00+00:00</th>\n",
       "      <td>0.009604</td>\n",
       "    </tr>\n",
       "    <tr>\n",
       "      <th>2017-10-08 06:00:00+00:00</th>\n",
       "      <td>0.007828</td>\n",
       "    </tr>\n",
       "  </tbody>\n",
       "</table>\n",
       "</div>"
      ],
      "text/plain": [
       "                                h_M\n",
       "2017-10-07 22:00:00+00:00  0.012715\n",
       "2017-10-07 23:00:00+00:00  0.013120\n",
       "2017-10-08 00:00:00+00:00  0.012944\n",
       "2017-10-08 01:00:00+00:00  0.012583\n",
       "2017-10-08 02:00:00+00:00  0.012319\n",
       "2017-10-08 03:00:00+00:00  0.011967\n",
       "2017-10-08 04:00:00+00:00  0.010606\n",
       "2017-10-08 05:00:00+00:00  0.009604\n",
       "2017-10-08 06:00:00+00:00  0.007828"
      ]
     },
     "execution_count": 65,
     "metadata": {},
     "output_type": "execute_result"
    }
   ],
   "source": [
    "DF"
   ]
  },
  {
   "cell_type": "code",
   "execution_count": null,
   "metadata": {
    "collapsed": true
   },
   "outputs": [],
   "source": []
  }
 ],
 "metadata": {
  "kernelspec": {
   "display_name": "Python 3",
   "language": "python",
   "name": "python3"
  },
  "language_info": {
   "codemirror_mode": {
    "name": "ipython",
    "version": 3
   },
   "file_extension": ".py",
   "mimetype": "text/x-python",
   "name": "python",
   "nbconvert_exporter": "python",
   "pygments_lexer": "ipython3",
   "version": "3.5.2"
  }
 },
 "nbformat": 4,
 "nbformat_minor": 2
}
